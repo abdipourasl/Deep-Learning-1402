{
  "cells": [
    {
      "cell_type": "markdown",
      "metadata": {
        "id": "view-in-github",
        "colab_type": "text"
      },
      "source": [
        "<a href=\"https://colab.research.google.com/github/abdipourasl/Deep-Learning-1402/blob/main/DL5.ipynb\" target=\"_parent\"><img src=\"https://colab.research.google.com/assets/colab-badge.svg\" alt=\"Open In Colab\"/></a>"
      ]
    },
    {
      "cell_type": "markdown",
      "metadata": {
        "id": "lQPNR08rglpt"
      },
      "source": [
        "<div class=\"alert alert-block alert-success\">\n",
        "<h1>Deep Learning Project #5<h1>\n",
        "Amin Abdipour 401133011</h1>\n",
        "</div>"
      ]
    },
    {
      "cell_type": "markdown",
      "metadata": {
        "id": "WDdJFcJpglpw"
      },
      "source": [
        "# Importing Libraries"
      ]
    },
    {
      "cell_type": "code",
      "execution_count": 336,
      "metadata": {
        "id": "OCzkV-6xVs6g",
        "colab": {
          "base_uri": "https://localhost:8080/"
        },
        "outputId": "819fe3ef-a13d-4494-c13e-153f7c7dc61b"
      },
      "outputs": [
        {
          "output_type": "stream",
          "name": "stdout",
          "text": [
            "Drive already mounted at /content/drive; to attempt to forcibly remount, call drive.mount(\"/content/drive\", force_remount=True).\n"
          ]
        }
      ],
      "source": [
        "import numpy as np\n",
        "import torch\n",
        "import torch.nn as nn\n",
        "import torchvision\n",
        "import torchvision.transforms as transforms\n",
        "import pandas as pd\n",
        "import os\n",
        "import os.path as op\n",
        "import sklearn\n",
        "import matplotlib.pyplot as plt\n",
        "import seaborn as sns\n",
        "import pandas as pd\n",
        "\n",
        "from google.colab import drive\n",
        "drive.mount('/content/drive')\n",
        "from sklearn.preprocessing import MinMaxScaler\n",
        "\n",
        "# import cv2\n",
        "# from google.colab.patches import cv2_imshow\n",
        "# from PIL import Image\n",
        "# from torch.utils.data import random_split, DataLoader\n",
        "# from sklearn.metrics import accuracy_score, confusion_matrix\n"
      ]
    },
    {
      "cell_type": "markdown",
      "source": [
        "# Predict With RNN (LSTM)"
      ],
      "metadata": {
        "id": "4qPS_VyOsgRJ"
      }
    },
    {
      "cell_type": "markdown",
      "source": [
        "## 1. Load Data"
      ],
      "metadata": {
        "id": "lWu1IljJ9tjS"
      }
    },
    {
      "cell_type": "markdown",
      "source": [
        "We have ConnectTimeout error for this section, so Run this Section in VS Code and Load Excel data"
      ],
      "metadata": {
        "id": "1CV-M-FtnZYW"
      }
    },
    {
      "cell_type": "code",
      "source": [
        "# import pytse_client as tse\n",
        "# tickers = tse.download(symbols=['فولاد'], write_to_csv=True, adjust=True , include_jdate=True)\n",
        "# display(tickers['فولاد '])\n",
        "\n",
        "# indices=tse.download_financial_indexes(symbols=['شاخص كل'],include_jdate=True,write_to_csv=True)\n",
        "# display(indices['شاخص كل'])\n",
        "\n",
        "# indices=tse.download_financial_indexes(symbols=['شاخص كل (هم وزن)'],include_jdate=True,write_to_csv=True)\n",
        "# display(indices['شاخص كل (هم وزن)'])"
      ],
      "metadata": {
        "id": "qcjYvr1ll_qe"
      },
      "execution_count": 337,
      "outputs": []
    },
    {
      "cell_type": "code",
      "source": [
        "dir = op.join('/content/drive/My Drive/','DL','DL_HW05','فولاد-ت.csv')  # Path to the Data folder\n",
        "Foolad = pd.read_csv(dir)\n",
        "dir = op.join('/content/drive/My Drive/','DL','DL_HW05','شاخص كل.csv')  # Path to the Data folder\n",
        "All = pd.read_csv(dir)\n",
        "dir = op.join('/content/drive/My Drive/','DL','DL_HW05','شاخص كل (هم وزن).csv')  # Path to the Data folder\n",
        "HamVazn = pd.read_csv(dir)\n",
        "Foolad"
      ],
      "metadata": {
        "id": "m-YC9Jz3ss66",
        "colab": {
          "base_uri": "https://localhost:8080/",
          "height": 423
        },
        "outputId": "34d5d62d-9e1d-4c03-f8cc-5771bfcd05cf"
      },
      "execution_count": 338,
      "outputs": [
        {
          "output_type": "execute_result",
          "data": {
            "text/plain": [
              "            date    open    high     low  adjClose         value     volume  \\\n",
              "0     2007-03-11     9.0    10.0     9.0       9.0  889437216900  468077431   \n",
              "1     2007-03-12    10.0    10.0    10.0      10.0  193879458000  100041000   \n",
              "2     2007-03-13    10.0    10.0     9.0      10.0  249241504527  126270939   \n",
              "3     2007-03-14    10.0    10.0    10.0      10.0   51666379451   26705128   \n",
              "4     2007-03-17     9.0    10.0     9.0       9.0   28239006789   14877283   \n",
              "...          ...     ...     ...     ...       ...           ...        ...   \n",
              "3715  2023-12-30  6280.0  6330.0  6250.0    6280.0  413007029830   65778615   \n",
              "3716  2023-12-31  6300.0  6300.0  6180.0    6230.0  498910921170   80066614   \n",
              "3717  2024-01-01  6230.0  6230.0  6150.0    6200.0  417831898480   67436187   \n",
              "3718  2024-01-02  6180.0  6220.0  6100.0    6160.0  446092828520   72415054   \n",
              "3719  2024-01-03  6180.0  6230.0  6100.0    6160.0  510237384690   82800015   \n",
              "\n",
              "      count  yesterday   close       jdate  \n",
              "0      7736        9.0     9.0  1385-12-20  \n",
              "1      9214        9.0    10.0  1385-12-21  \n",
              "2      5862       10.0    10.0  1385-12-22  \n",
              "3      1901       10.0    10.0  1385-12-23  \n",
              "4      1514       10.0     9.0  1385-12-26  \n",
              "...     ...        ...     ...         ...  \n",
              "3715   3774     6220.0  6280.0  1402-10-09  \n",
              "3716   3884     6280.0  6190.0  1402-10-10  \n",
              "3717   3320     6230.0  6180.0  1402-10-11  \n",
              "3718   3753     6200.0  6150.0  1402-10-12  \n",
              "3719   3654     6160.0  6190.0  1402-10-13  \n",
              "\n",
              "[3720 rows x 11 columns]"
            ],
            "text/html": [
              "\n",
              "  <div id=\"df-b776d906-7406-4cc9-98b7-095c9ee0e35f\" class=\"colab-df-container\">\n",
              "    <div>\n",
              "<style scoped>\n",
              "    .dataframe tbody tr th:only-of-type {\n",
              "        vertical-align: middle;\n",
              "    }\n",
              "\n",
              "    .dataframe tbody tr th {\n",
              "        vertical-align: top;\n",
              "    }\n",
              "\n",
              "    .dataframe thead th {\n",
              "        text-align: right;\n",
              "    }\n",
              "</style>\n",
              "<table border=\"1\" class=\"dataframe\">\n",
              "  <thead>\n",
              "    <tr style=\"text-align: right;\">\n",
              "      <th></th>\n",
              "      <th>date</th>\n",
              "      <th>open</th>\n",
              "      <th>high</th>\n",
              "      <th>low</th>\n",
              "      <th>adjClose</th>\n",
              "      <th>value</th>\n",
              "      <th>volume</th>\n",
              "      <th>count</th>\n",
              "      <th>yesterday</th>\n",
              "      <th>close</th>\n",
              "      <th>jdate</th>\n",
              "    </tr>\n",
              "  </thead>\n",
              "  <tbody>\n",
              "    <tr>\n",
              "      <th>0</th>\n",
              "      <td>2007-03-11</td>\n",
              "      <td>9.0</td>\n",
              "      <td>10.0</td>\n",
              "      <td>9.0</td>\n",
              "      <td>9.0</td>\n",
              "      <td>889437216900</td>\n",
              "      <td>468077431</td>\n",
              "      <td>7736</td>\n",
              "      <td>9.0</td>\n",
              "      <td>9.0</td>\n",
              "      <td>1385-12-20</td>\n",
              "    </tr>\n",
              "    <tr>\n",
              "      <th>1</th>\n",
              "      <td>2007-03-12</td>\n",
              "      <td>10.0</td>\n",
              "      <td>10.0</td>\n",
              "      <td>10.0</td>\n",
              "      <td>10.0</td>\n",
              "      <td>193879458000</td>\n",
              "      <td>100041000</td>\n",
              "      <td>9214</td>\n",
              "      <td>9.0</td>\n",
              "      <td>10.0</td>\n",
              "      <td>1385-12-21</td>\n",
              "    </tr>\n",
              "    <tr>\n",
              "      <th>2</th>\n",
              "      <td>2007-03-13</td>\n",
              "      <td>10.0</td>\n",
              "      <td>10.0</td>\n",
              "      <td>9.0</td>\n",
              "      <td>10.0</td>\n",
              "      <td>249241504527</td>\n",
              "      <td>126270939</td>\n",
              "      <td>5862</td>\n",
              "      <td>10.0</td>\n",
              "      <td>10.0</td>\n",
              "      <td>1385-12-22</td>\n",
              "    </tr>\n",
              "    <tr>\n",
              "      <th>3</th>\n",
              "      <td>2007-03-14</td>\n",
              "      <td>10.0</td>\n",
              "      <td>10.0</td>\n",
              "      <td>10.0</td>\n",
              "      <td>10.0</td>\n",
              "      <td>51666379451</td>\n",
              "      <td>26705128</td>\n",
              "      <td>1901</td>\n",
              "      <td>10.0</td>\n",
              "      <td>10.0</td>\n",
              "      <td>1385-12-23</td>\n",
              "    </tr>\n",
              "    <tr>\n",
              "      <th>4</th>\n",
              "      <td>2007-03-17</td>\n",
              "      <td>9.0</td>\n",
              "      <td>10.0</td>\n",
              "      <td>9.0</td>\n",
              "      <td>9.0</td>\n",
              "      <td>28239006789</td>\n",
              "      <td>14877283</td>\n",
              "      <td>1514</td>\n",
              "      <td>10.0</td>\n",
              "      <td>9.0</td>\n",
              "      <td>1385-12-26</td>\n",
              "    </tr>\n",
              "    <tr>\n",
              "      <th>...</th>\n",
              "      <td>...</td>\n",
              "      <td>...</td>\n",
              "      <td>...</td>\n",
              "      <td>...</td>\n",
              "      <td>...</td>\n",
              "      <td>...</td>\n",
              "      <td>...</td>\n",
              "      <td>...</td>\n",
              "      <td>...</td>\n",
              "      <td>...</td>\n",
              "      <td>...</td>\n",
              "    </tr>\n",
              "    <tr>\n",
              "      <th>3715</th>\n",
              "      <td>2023-12-30</td>\n",
              "      <td>6280.0</td>\n",
              "      <td>6330.0</td>\n",
              "      <td>6250.0</td>\n",
              "      <td>6280.0</td>\n",
              "      <td>413007029830</td>\n",
              "      <td>65778615</td>\n",
              "      <td>3774</td>\n",
              "      <td>6220.0</td>\n",
              "      <td>6280.0</td>\n",
              "      <td>1402-10-09</td>\n",
              "    </tr>\n",
              "    <tr>\n",
              "      <th>3716</th>\n",
              "      <td>2023-12-31</td>\n",
              "      <td>6300.0</td>\n",
              "      <td>6300.0</td>\n",
              "      <td>6180.0</td>\n",
              "      <td>6230.0</td>\n",
              "      <td>498910921170</td>\n",
              "      <td>80066614</td>\n",
              "      <td>3884</td>\n",
              "      <td>6280.0</td>\n",
              "      <td>6190.0</td>\n",
              "      <td>1402-10-10</td>\n",
              "    </tr>\n",
              "    <tr>\n",
              "      <th>3717</th>\n",
              "      <td>2024-01-01</td>\n",
              "      <td>6230.0</td>\n",
              "      <td>6230.0</td>\n",
              "      <td>6150.0</td>\n",
              "      <td>6200.0</td>\n",
              "      <td>417831898480</td>\n",
              "      <td>67436187</td>\n",
              "      <td>3320</td>\n",
              "      <td>6230.0</td>\n",
              "      <td>6180.0</td>\n",
              "      <td>1402-10-11</td>\n",
              "    </tr>\n",
              "    <tr>\n",
              "      <th>3718</th>\n",
              "      <td>2024-01-02</td>\n",
              "      <td>6180.0</td>\n",
              "      <td>6220.0</td>\n",
              "      <td>6100.0</td>\n",
              "      <td>6160.0</td>\n",
              "      <td>446092828520</td>\n",
              "      <td>72415054</td>\n",
              "      <td>3753</td>\n",
              "      <td>6200.0</td>\n",
              "      <td>6150.0</td>\n",
              "      <td>1402-10-12</td>\n",
              "    </tr>\n",
              "    <tr>\n",
              "      <th>3719</th>\n",
              "      <td>2024-01-03</td>\n",
              "      <td>6180.0</td>\n",
              "      <td>6230.0</td>\n",
              "      <td>6100.0</td>\n",
              "      <td>6160.0</td>\n",
              "      <td>510237384690</td>\n",
              "      <td>82800015</td>\n",
              "      <td>3654</td>\n",
              "      <td>6160.0</td>\n",
              "      <td>6190.0</td>\n",
              "      <td>1402-10-13</td>\n",
              "    </tr>\n",
              "  </tbody>\n",
              "</table>\n",
              "<p>3720 rows × 11 columns</p>\n",
              "</div>\n",
              "    <div class=\"colab-df-buttons\">\n",
              "\n",
              "  <div class=\"colab-df-container\">\n",
              "    <button class=\"colab-df-convert\" onclick=\"convertToInteractive('df-b776d906-7406-4cc9-98b7-095c9ee0e35f')\"\n",
              "            title=\"Convert this dataframe to an interactive table.\"\n",
              "            style=\"display:none;\">\n",
              "\n",
              "  <svg xmlns=\"http://www.w3.org/2000/svg\" height=\"24px\" viewBox=\"0 -960 960 960\">\n",
              "    <path d=\"M120-120v-720h720v720H120Zm60-500h600v-160H180v160Zm220 220h160v-160H400v160Zm0 220h160v-160H400v160ZM180-400h160v-160H180v160Zm440 0h160v-160H620v160ZM180-180h160v-160H180v160Zm440 0h160v-160H620v160Z\"/>\n",
              "  </svg>\n",
              "    </button>\n",
              "\n",
              "  <style>\n",
              "    .colab-df-container {\n",
              "      display:flex;\n",
              "      gap: 12px;\n",
              "    }\n",
              "\n",
              "    .colab-df-convert {\n",
              "      background-color: #E8F0FE;\n",
              "      border: none;\n",
              "      border-radius: 50%;\n",
              "      cursor: pointer;\n",
              "      display: none;\n",
              "      fill: #1967D2;\n",
              "      height: 32px;\n",
              "      padding: 0 0 0 0;\n",
              "      width: 32px;\n",
              "    }\n",
              "\n",
              "    .colab-df-convert:hover {\n",
              "      background-color: #E2EBFA;\n",
              "      box-shadow: 0px 1px 2px rgba(60, 64, 67, 0.3), 0px 1px 3px 1px rgba(60, 64, 67, 0.15);\n",
              "      fill: #174EA6;\n",
              "    }\n",
              "\n",
              "    .colab-df-buttons div {\n",
              "      margin-bottom: 4px;\n",
              "    }\n",
              "\n",
              "    [theme=dark] .colab-df-convert {\n",
              "      background-color: #3B4455;\n",
              "      fill: #D2E3FC;\n",
              "    }\n",
              "\n",
              "    [theme=dark] .colab-df-convert:hover {\n",
              "      background-color: #434B5C;\n",
              "      box-shadow: 0px 1px 3px 1px rgba(0, 0, 0, 0.15);\n",
              "      filter: drop-shadow(0px 1px 2px rgba(0, 0, 0, 0.3));\n",
              "      fill: #FFFFFF;\n",
              "    }\n",
              "  </style>\n",
              "\n",
              "    <script>\n",
              "      const buttonEl =\n",
              "        document.querySelector('#df-b776d906-7406-4cc9-98b7-095c9ee0e35f button.colab-df-convert');\n",
              "      buttonEl.style.display =\n",
              "        google.colab.kernel.accessAllowed ? 'block' : 'none';\n",
              "\n",
              "      async function convertToInteractive(key) {\n",
              "        const element = document.querySelector('#df-b776d906-7406-4cc9-98b7-095c9ee0e35f');\n",
              "        const dataTable =\n",
              "          await google.colab.kernel.invokeFunction('convertToInteractive',\n",
              "                                                    [key], {});\n",
              "        if (!dataTable) return;\n",
              "\n",
              "        const docLinkHtml = 'Like what you see? Visit the ' +\n",
              "          '<a target=\"_blank\" href=https://colab.research.google.com/notebooks/data_table.ipynb>data table notebook</a>'\n",
              "          + ' to learn more about interactive tables.';\n",
              "        element.innerHTML = '';\n",
              "        dataTable['output_type'] = 'display_data';\n",
              "        await google.colab.output.renderOutput(dataTable, element);\n",
              "        const docLink = document.createElement('div');\n",
              "        docLink.innerHTML = docLinkHtml;\n",
              "        element.appendChild(docLink);\n",
              "      }\n",
              "    </script>\n",
              "  </div>\n",
              "\n",
              "\n",
              "<div id=\"df-fca367b4-3bad-4f79-abdf-93d263da5492\">\n",
              "  <button class=\"colab-df-quickchart\" onclick=\"quickchart('df-fca367b4-3bad-4f79-abdf-93d263da5492')\"\n",
              "            title=\"Suggest charts\"\n",
              "            style=\"display:none;\">\n",
              "\n",
              "<svg xmlns=\"http://www.w3.org/2000/svg\" height=\"24px\"viewBox=\"0 0 24 24\"\n",
              "     width=\"24px\">\n",
              "    <g>\n",
              "        <path d=\"M19 3H5c-1.1 0-2 .9-2 2v14c0 1.1.9 2 2 2h14c1.1 0 2-.9 2-2V5c0-1.1-.9-2-2-2zM9 17H7v-7h2v7zm4 0h-2V7h2v10zm4 0h-2v-4h2v4z\"/>\n",
              "    </g>\n",
              "</svg>\n",
              "  </button>\n",
              "\n",
              "<style>\n",
              "  .colab-df-quickchart {\n",
              "      --bg-color: #E8F0FE;\n",
              "      --fill-color: #1967D2;\n",
              "      --hover-bg-color: #E2EBFA;\n",
              "      --hover-fill-color: #174EA6;\n",
              "      --disabled-fill-color: #AAA;\n",
              "      --disabled-bg-color: #DDD;\n",
              "  }\n",
              "\n",
              "  [theme=dark] .colab-df-quickchart {\n",
              "      --bg-color: #3B4455;\n",
              "      --fill-color: #D2E3FC;\n",
              "      --hover-bg-color: #434B5C;\n",
              "      --hover-fill-color: #FFFFFF;\n",
              "      --disabled-bg-color: #3B4455;\n",
              "      --disabled-fill-color: #666;\n",
              "  }\n",
              "\n",
              "  .colab-df-quickchart {\n",
              "    background-color: var(--bg-color);\n",
              "    border: none;\n",
              "    border-radius: 50%;\n",
              "    cursor: pointer;\n",
              "    display: none;\n",
              "    fill: var(--fill-color);\n",
              "    height: 32px;\n",
              "    padding: 0;\n",
              "    width: 32px;\n",
              "  }\n",
              "\n",
              "  .colab-df-quickchart:hover {\n",
              "    background-color: var(--hover-bg-color);\n",
              "    box-shadow: 0 1px 2px rgba(60, 64, 67, 0.3), 0 1px 3px 1px rgba(60, 64, 67, 0.15);\n",
              "    fill: var(--button-hover-fill-color);\n",
              "  }\n",
              "\n",
              "  .colab-df-quickchart-complete:disabled,\n",
              "  .colab-df-quickchart-complete:disabled:hover {\n",
              "    background-color: var(--disabled-bg-color);\n",
              "    fill: var(--disabled-fill-color);\n",
              "    box-shadow: none;\n",
              "  }\n",
              "\n",
              "  .colab-df-spinner {\n",
              "    border: 2px solid var(--fill-color);\n",
              "    border-color: transparent;\n",
              "    border-bottom-color: var(--fill-color);\n",
              "    animation:\n",
              "      spin 1s steps(1) infinite;\n",
              "  }\n",
              "\n",
              "  @keyframes spin {\n",
              "    0% {\n",
              "      border-color: transparent;\n",
              "      border-bottom-color: var(--fill-color);\n",
              "      border-left-color: var(--fill-color);\n",
              "    }\n",
              "    20% {\n",
              "      border-color: transparent;\n",
              "      border-left-color: var(--fill-color);\n",
              "      border-top-color: var(--fill-color);\n",
              "    }\n",
              "    30% {\n",
              "      border-color: transparent;\n",
              "      border-left-color: var(--fill-color);\n",
              "      border-top-color: var(--fill-color);\n",
              "      border-right-color: var(--fill-color);\n",
              "    }\n",
              "    40% {\n",
              "      border-color: transparent;\n",
              "      border-right-color: var(--fill-color);\n",
              "      border-top-color: var(--fill-color);\n",
              "    }\n",
              "    60% {\n",
              "      border-color: transparent;\n",
              "      border-right-color: var(--fill-color);\n",
              "    }\n",
              "    80% {\n",
              "      border-color: transparent;\n",
              "      border-right-color: var(--fill-color);\n",
              "      border-bottom-color: var(--fill-color);\n",
              "    }\n",
              "    90% {\n",
              "      border-color: transparent;\n",
              "      border-bottom-color: var(--fill-color);\n",
              "    }\n",
              "  }\n",
              "</style>\n",
              "\n",
              "  <script>\n",
              "    async function quickchart(key) {\n",
              "      const quickchartButtonEl =\n",
              "        document.querySelector('#' + key + ' button');\n",
              "      quickchartButtonEl.disabled = true;  // To prevent multiple clicks.\n",
              "      quickchartButtonEl.classList.add('colab-df-spinner');\n",
              "      try {\n",
              "        const charts = await google.colab.kernel.invokeFunction(\n",
              "            'suggestCharts', [key], {});\n",
              "      } catch (error) {\n",
              "        console.error('Error during call to suggestCharts:', error);\n",
              "      }\n",
              "      quickchartButtonEl.classList.remove('colab-df-spinner');\n",
              "      quickchartButtonEl.classList.add('colab-df-quickchart-complete');\n",
              "    }\n",
              "    (() => {\n",
              "      let quickchartButtonEl =\n",
              "        document.querySelector('#df-fca367b4-3bad-4f79-abdf-93d263da5492 button');\n",
              "      quickchartButtonEl.style.display =\n",
              "        google.colab.kernel.accessAllowed ? 'block' : 'none';\n",
              "    })();\n",
              "  </script>\n",
              "</div>\n",
              "    </div>\n",
              "  </div>\n"
            ]
          },
          "metadata": {},
          "execution_count": 338
        }
      ]
    },
    {
      "cell_type": "code",
      "source": [
        "import numpy as np\n",
        "import matplotlib.pyplot as plt\n",
        "\n",
        "\n",
        "x_values = np.arange(len(merged_Foolad))\n",
        "\n",
        "# Plotting the array\n",
        "plt.plot(x_values, merged_Foolad)\n",
        "plt.xlabel('Index')\n",
        "plt.ylabel('Values')\n",
        "plt.title('ّFoolad Price Changes')\n",
        "plt.show()\n"
      ],
      "metadata": {
        "colab": {
          "base_uri": "https://localhost:8080/",
          "height": 472
        },
        "id": "SWbWJmub7rJB",
        "outputId": "d50eb768-a698-4bd3-8b25-c671e9ae6ed3"
      },
      "execution_count": 339,
      "outputs": [
        {
          "output_type": "display_data",
          "data": {
            "text/plain": [
              "<Figure size 640x480 with 1 Axes>"
            ],
            "image/png": "[encoded data removed]"
          },
          "metadata": {}
        }
      ]
    },
    {
      "cell_type": "markdown",
      "source": [
        "## 2. Merge 3 data with Common Dates"
      ],
      "metadata": {
        "id": "vFcB5UXF9yzv"
      }
    },
    {
      "cell_type": "code",
      "source": [
        "# Find the common dates\n",
        "common_dates = np.intersect1d(np.intersect1d(Foolad['jdate'].values, All['jdate'].values), HamVazn['jdate'].values)\n",
        "\n",
        "# Create empty matrices to store the merged data\n",
        "merged_Foolad = np.zeros(len(common_dates))\n",
        "merged_All = np.zeros(len(common_dates))\n",
        "merged_HamVazn = np.zeros(len(common_dates))\n",
        "\n",
        "# Find the indices of common dates in each matrix\n",
        "indices_Foolad = np.where(np.isin(Foolad['jdate'].values, common_dates))[0]\n",
        "indices_All = np.where(np.isin(All['jdate'].values, common_dates))[0]\n",
        "indices_HamVazn = np.where(np.isin(HamVazn['jdate'].values, common_dates))[0]\n",
        "\n",
        "mat1 = Foolad['adjClose'].values\n",
        "mat2 = All['close'].values\n",
        "mat3 = HamVazn['close'].values\n",
        "\n",
        "merged_Foolad = mat1[indices_Foolad]\n",
        "merged_All = mat2[indices_All]\n",
        "merged_HamVazn = mat3[indices_HamVazn]\n",
        "\n",
        "labels = np.zeros(2006)\n",
        "labels = np.where(merged_Foolad[1:] >= merged_Foolad[:-1], 1, 0)\n",
        "\n",
        "\n",
        "# concatenate them\n",
        "data = np.vstack((merged_Foolad[1000:-1],merged_All[1000:-1],merged_HamVazn[1000:-1],common_dates[1000:-1],labels[1000:]))\n",
        "\n",
        "print(data.shape)\n",
        "data"
      ],
      "metadata": {
        "id": "o1h_qh3CBYxj",
        "colab": {
          "base_uri": "https://localhost:8080/"
        },
        "outputId": "d826e029-fe9e-47a9-b896-c1e18e483b77"
      },
      "execution_count": 350,
      "outputs": [
        {
          "output_type": "stream",
          "name": "stdout",
          "text": [
            "(5, 1006)\n"
          ]
        },
        {
          "output_type": "execute_result",
          "data": {
            "text/plain": [
              "array([[466.0, 465.0, 466.0, ..., 6230.0, 6200.0, 6160.0],\n",
              "       [260992, 262941, 266127, ..., 2176102, 2168327, 2158766],\n",
              "       [69321, 70466, 72125, ..., 758313, 757994, 755945],\n",
              "       ['1398-05-27', '1398-05-28', '1398-05-30', ..., '1402-10-10',\n",
              "        '1402-10-11', '1402-10-12'],\n",
              "       [0, 1, 0, ..., 0, 0, 1]], dtype=object)"
            ]
          },
          "metadata": {},
          "execution_count": 350
        }
      ]
    },
    {
      "cell_type": "markdown",
      "source": [
        "\n",
        "<h2>data[0,:] : Foolad<h2>\n",
        "data[1,:] : Shakhese Kol <h2>\n",
        "data[2,:] : Shakhese Ham Vazn <h2>\n",
        "data[3,:] : Common Dates <h2>\n",
        "data[4,:] : Labels <h2>\n"
      ],
      "metadata": {
        "id": "-Bqgbg8lKndT"
      }
    },
    {
      "cell_type": "code",
      "source": [
        "import numpy as np\n",
        "import torch\n",
        "import torch.nn as nn\n",
        "from torch.utils.data import DataLoader, TensorDataset\n",
        "from sklearn.preprocessing import MinMaxScaler\n",
        "\n",
        "# Assuming your data is stored in a numpy array named 'data'\n",
        "# Columns 0 to 2 are features, and column 3 is the label (increase or decrease)\n",
        "# Replace 'your_data.npy' with the actual file name or provide the data accordingly\n",
        "\n",
        "# Load and preprocess the data\n",
        "# data = np.load('your_data.npy')\n",
        "data = data.T\n",
        "features = data[:, :3].astype(np.float64)  # Convert features to float64\n",
        "labels = data[:, 4].astype(np.int64)  # Convert labels to int64 for classification\n",
        "\n",
        "# Normalize features\n",
        "scaler = MinMaxScaler(feature_range=(0, 1))\n",
        "features = scaler.fit_transform(features)\n",
        "\n",
        "# Create data windows\n",
        "def create_windows(data, window_size):\n",
        "    windows = []\n",
        "    targets = []\n",
        "    for i in range(len(data) - window_size):\n",
        "        window = data[i:i+window_size, :3]  # Extract only the first 3 columns (features)\n",
        "        target = data[i+window_size, -1]  # Extract the label from the last column\n",
        "        windows.append(window)\n",
        "        targets.append(target)\n",
        "    return torch.tensor(windows), torch.tensor(targets, dtype=torch.long)  # Use dtype=torch.long for classification labels\n",
        "\n",
        "window_size = 10  # Adjust as needed\n",
        "X, y = create_windows(np.hstack((features, labels.reshape(-1, 1))), window_size)\n",
        "\n",
        "# Split into training and testing sets\n",
        "train_size = int(len(X) * 0.80)\n",
        "X_train, X_test = X[:train_size], X[train_size:]\n",
        "y_train, y_test = y[:train_size], y[train_size:]\n",
        "\n",
        "# Define the RNN model\n",
        "class RNN(nn.Module):\n",
        "    def __init__(self, input_size, hidden_size, output_size):\n",
        "        super(RNN, self).__init__()\n",
        "        self.hidden_size = hidden_size\n",
        "        self.rnn = nn.LSTM(input_size, hidden_size, batch_first=True)\n",
        "        self.fc = nn.Linear(hidden_size, output_size)\n",
        "\n",
        "    def forward(self, x):\n",
        "        out, _ = self.rnn(x)\n",
        "        out = self.fc(out[:, -1, :])\n",
        "        return out\n",
        "\n",
        "# Define the model, loss function, and optimizer\n",
        "input_size = 3  # Since there are 3 features\n",
        "hidden_size = 50  # Adjust as needed\n",
        "output_size = 2  # Two classes: increase and decrease\n",
        "model = RNN(input_size, hidden_size, output_size)\n",
        "criterion = nn.CrossEntropyLoss()\n",
        "optimizer = torch.optim.Adam(model.parameters(), lr=0.001)\n",
        "\n",
        "# Training the model\n",
        "num_epochs = 50  # Adjust as needed\n",
        "for epoch in range(num_epochs):\n",
        "    outputs = model(X_train.float())\n",
        "    optimizer.zero_grad()\n",
        "    loss = criterion(outputs, y_train)\n",
        "    loss.backward()\n",
        "    optimizer.step()\n",
        "\n",
        "# Testing the model\n",
        "model.eval()\n",
        "with torch.no_grad():\n",
        "    test_outputs = model(X_test.float())\n",
        "    predicted_labels = torch.argmax(test_outputs, dim=1).numpy()\n",
        "\n",
        "# Print or use 'predicted_labels' for further analysis\n",
        "print(predicted_labels)\n"
      ],
      "metadata": {
        "colab": {
          "base_uri": "https://localhost:8080/"
        },
        "id": "_uMa3ZabGplF",
        "outputId": "b6d47907-ec56-43b3-e1ca-59ca1405b37e"
      },
      "execution_count": 351,
      "outputs": [
        {
          "output_type": "stream",
          "name": "stdout",
          "text": [
            "[0 0 0 0 0 0 0 0 0 0 0 0 0 0 0 0 0 0 0 0 0 0 0 0 0 0 0 0 0 0 0 0 0 0 0 0 0\n",
            " 0 0 0 0 0 0 0 0 0 0 0 0 0 0 0 0 0 0 0 0 0 0 0 0 0 0 0 0 0 0 0 0 0 0 0 0 0\n",
            " 0 0 0 0 0 0 0 0 0 0 0 0 0 0 0 0 0 0 0 0 0 0 0 0 0 0 0 0 0 0 0 0 0 0 0 0 0\n",
            " 0 0 0 0 0 0 0 0 0 0 0 0 0 0 0 0 0 0 0 0 0 0 0 0 0 0 0 0 0 0 0 0 0 0 0 0 0\n",
            " 0 0 0 0 0 0 0 0 0 0 0 0 0 0 0 0 0 0 0 0 0 0 0 0 0 0 0 0 0 0 0 0 0 0 0 0 0\n",
            " 0 0 0 0 0 0 0 0 0 0 0 0 0 0 0]\n"
          ]
        }
      ]
    },
    {
      "cell_type": "markdown",
      "source": [
        "## 3. Normalize Features"
      ],
      "metadata": {
        "id": "xoEI9n-BMJg8"
      }
    },
    {
      "cell_type": "code",
      "source": [
        "features = data[:3, :].T.astype(np.float64)\n",
        "labels = data[4, :].astype(np.)\n",
        "\n",
        "# Normalize features\n",
        "scaler = MinMaxScaler(feature_range=(0, 1))\n",
        "features = scaler.fit_transform(features)"
      ],
      "metadata": {
        "id": "9DDOWRNgMN9P",
        "colab": {
          "base_uri": "https://localhost:8080/"
        },
        "outputId": "c7c9f17e-d531-4f13-f44d-87c8f06fb1ef"
      },
      "execution_count": 341,
      "outputs": [
        {
          "output_type": "stream",
          "name": "stderr",
          "text": [
            "<ipython-input-341-a2a4fb5335df>:2: DeprecationWarning: `np.int` is a deprecated alias for the builtin `int`. To silence this warning, use `int` by itself. Doing this will not modify any behavior and is safe. When replacing `np.int`, you may wish to use e.g. `np.int64` or `np.int32` to specify the precision. If you wish to review your current use, check the release note link for additional information.\n",
            "Deprecated in NumPy 1.20; for more details and guidance: https://numpy.org/devdocs/release/1.20.0-notes.html#deprecations\n",
            "  labels = data[4, :].astype(np.int)\n"
          ]
        }
      ]
    },
    {
      "cell_type": "markdown",
      "source": [
        "## 4.Create data windows"
      ],
      "metadata": {
        "id": "EwAS7rX4MjIW"
      }
    },
    {
      "cell_type": "code",
      "source": [
        "def create_windows(data, window_size):\n",
        "    windows = []\n",
        "    for i in range(len(data) - window_size):\n",
        "        window = data[i:i+window_size]\n",
        "        windows.append(window)\n",
        "    return torch.tensor(windows)\n"
      ],
      "metadata": {
        "id": "PKEEoe82MzDH"
      },
      "execution_count": 342,
      "outputs": []
    },
    {
      "cell_type": "markdown",
      "source": [
        "## 5. Split data and adjust window size"
      ],
      "metadata": {
        "id": "HMCHvwUVM7zF"
      }
    },
    {
      "cell_type": "code",
      "source": [
        "window_size = 2  # Adjust as needed\n",
        "X = create_windows(features, window_size)\n",
        "y = torch.tensor(labels[window_size-1:], dtype=torch.long)\n",
        "# Split into training and testing sets\n",
        "train_size = int(len(X) * 0.80)\n",
        "X_train, X_test = X[:train_size], X[train_size:]\n",
        "y_train, y_test = y[:train_size], y[train_size:]\n"
      ],
      "metadata": {
        "id": "GfckU7j-NFxT"
      },
      "execution_count": 343,
      "outputs": []
    },
    {
      "cell_type": "markdown",
      "source": [
        "## 6. Define RNN Model"
      ],
      "metadata": {
        "id": "L2IRXvtoRpZP"
      }
    },
    {
      "cell_type": "code",
      "source": [
        "class RNN(nn.Module):\n",
        "    def __init__(self, input_size, hidden_size, output_size):\n",
        "        super(RNN, self).__init__()\n",
        "        self.hidden_size = hidden_size\n",
        "        self.rnn = nn.LSTM(input_size, hidden_size, batch_first=True)\n",
        "        self.fc = nn.Linear(hidden_size, output_size)\n",
        "\n",
        "    def forward(self, x):\n",
        "        out, _ = self.rnn(x)\n",
        "        out = self.fc(out[:, -1, :])\n",
        "        return out\n"
      ],
      "metadata": {
        "id": "tf9VcXvZRowM"
      },
      "execution_count": 344,
      "outputs": []
    },
    {
      "cell_type": "code",
      "source": [
        "input_size = 3  # Since there are 3 features\n",
        "hidden_size = 10  # Adjust as needed\n",
        "output_size = 1  # Output 1 for increase, -1 for decrease\n",
        "model = RNN(input_size, hidden_size, output_size)\n",
        "criterion = nn.CrossEntropyLoss()\n",
        "optimizer = torch.optim.Adam(model.parameters(), lr=0.001)"
      ],
      "metadata": {
        "id": "p7oXk6QgR4jx"
      },
      "execution_count": 345,
      "outputs": []
    },
    {
      "cell_type": "markdown",
      "source": [
        "## 7. Training"
      ],
      "metadata": {
        "id": "nT14eQRNR80e"
      }
    },
    {
      "cell_type": "code",
      "source": [
        "from torch.utils.data import TensorDataset, DataLoader\n",
        "\n",
        "\n",
        "# Create DataLoader\n",
        "train_dataset = TensorDataset(X_train.float(), y_train.float())\n",
        "train_loader = DataLoader(train_dataset, batch_size=32, shuffle=False)\n",
        "\n",
        "# # Training the model with DataLoader\n",
        "for epoch in range(10):\n",
        "    for inputs, targets in train_loader:\n",
        "        outputs = model(inputs)\n",
        "        optimizer.zero_grad()\n",
        "        loss = criterion(outputs, targets)\n",
        "        loss.backward()\n",
        "        optimizer.step()\n",
        "\n"
      ],
      "metadata": {
        "colab": {
          "base_uri": "https://localhost:8080/",
          "height": 404
        },
        "id": "HMtZNnlkcv6_",
        "outputId": "46a094b5-c0f1-49ec-b809-0a6eeba4afb5"
      },
      "execution_count": 346,
      "outputs": [
        {
          "output_type": "error",
          "ename": "RuntimeError",
          "evalue": "ignored",
          "traceback": [
            "\u001b[0;31m---------------------------------------------------------------------------\u001b[0m",
            "\u001b[0;31mRuntimeError\u001b[0m                              Traceback (most recent call last)",
            "\u001b[0;32m<ipython-input-346-36aa4ede4f3d>\u001b[0m in \u001b[0;36m<cell line: 9>\u001b[0;34m()\u001b[0m\n\u001b[1;32m     11\u001b[0m         \u001b[0moutputs\u001b[0m \u001b[0;34m=\u001b[0m \u001b[0mmodel\u001b[0m\u001b[0;34m(\u001b[0m\u001b[0minputs\u001b[0m\u001b[0;34m)\u001b[0m\u001b[0;34m\u001b[0m\u001b[0;34m\u001b[0m\u001b[0m\n\u001b[1;32m     12\u001b[0m         \u001b[0moptimizer\u001b[0m\u001b[0;34m.\u001b[0m\u001b[0mzero_grad\u001b[0m\u001b[0;34m(\u001b[0m\u001b[0;34m)\u001b[0m\u001b[0;34m\u001b[0m\u001b[0;34m\u001b[0m\u001b[0m\n\u001b[0;32m---> 13\u001b[0;31m         \u001b[0mloss\u001b[0m \u001b[0;34m=\u001b[0m \u001b[0mcriterion\u001b[0m\u001b[0;34m(\u001b[0m\u001b[0moutputs\u001b[0m\u001b[0;34m,\u001b[0m \u001b[0mtargets\u001b[0m\u001b[0;34m)\u001b[0m\u001b[0;34m\u001b[0m\u001b[0;34m\u001b[0m\u001b[0m\n\u001b[0m\u001b[1;32m     14\u001b[0m         \u001b[0mloss\u001b[0m\u001b[0;34m.\u001b[0m\u001b[0mbackward\u001b[0m\u001b[0;34m(\u001b[0m\u001b[0;34m)\u001b[0m\u001b[0;34m\u001b[0m\u001b[0;34m\u001b[0m\u001b[0m\n\u001b[1;32m     15\u001b[0m         \u001b[0moptimizer\u001b[0m\u001b[0;34m.\u001b[0m\u001b[0mstep\u001b[0m\u001b[0;34m(\u001b[0m\u001b[0;34m)\u001b[0m\u001b[0;34m\u001b[0m\u001b[0;34m\u001b[0m\u001b[0m\n",
            "\u001b[0;32m/usr/local/lib/python3.10/dist-packages/torch/nn/modules/module.py\u001b[0m in \u001b[0;36m_wrapped_call_impl\u001b[0;34m(self, *args, **kwargs)\u001b[0m\n\u001b[1;32m   1516\u001b[0m             \u001b[0;32mreturn\u001b[0m \u001b[0mself\u001b[0m\u001b[0;34m.\u001b[0m\u001b[0m_compiled_call_impl\u001b[0m\u001b[0;34m(\u001b[0m\u001b[0;34m*\u001b[0m\u001b[0margs\u001b[0m\u001b[0;34m,\u001b[0m \u001b[0;34m**\u001b[0m\u001b[0mkwargs\u001b[0m\u001b[0;34m)\u001b[0m  \u001b[0;31m# type: ignore[misc]\u001b[0m\u001b[0;34m\u001b[0m\u001b[0;34m\u001b[0m\u001b[0m\n\u001b[1;32m   1517\u001b[0m         \u001b[0;32melse\u001b[0m\u001b[0;34m:\u001b[0m\u001b[0;34m\u001b[0m\u001b[0;34m\u001b[0m\u001b[0m\n\u001b[0;32m-> 1518\u001b[0;31m             \u001b[0;32mreturn\u001b[0m \u001b[0mself\u001b[0m\u001b[0;34m.\u001b[0m\u001b[0m_call_impl\u001b[0m\u001b[0;34m(\u001b[0m\u001b[0;34m*\u001b[0m\u001b[0margs\u001b[0m\u001b[0;34m,\u001b[0m \u001b[0;34m**\u001b[0m\u001b[0mkwargs\u001b[0m\u001b[0;34m)\u001b[0m\u001b[0;34m\u001b[0m\u001b[0;34m\u001b[0m\u001b[0m\n\u001b[0m\u001b[1;32m   1519\u001b[0m \u001b[0;34m\u001b[0m\u001b[0m\n\u001b[1;32m   1520\u001b[0m     \u001b[0;32mdef\u001b[0m \u001b[0m_call_impl\u001b[0m\u001b[0;34m(\u001b[0m\u001b[0mself\u001b[0m\u001b[0;34m,\u001b[0m \u001b[0;34m*\u001b[0m\u001b[0margs\u001b[0m\u001b[0;34m,\u001b[0m \u001b[0;34m**\u001b[0m\u001b[0mkwargs\u001b[0m\u001b[0;34m)\u001b[0m\u001b[0;34m:\u001b[0m\u001b[0;34m\u001b[0m\u001b[0;34m\u001b[0m\u001b[0m\n",
            "\u001b[0;32m/usr/local/lib/python3.10/dist-packages/torch/nn/modules/module.py\u001b[0m in \u001b[0;36m_call_impl\u001b[0;34m(self, *args, **kwargs)\u001b[0m\n\u001b[1;32m   1525\u001b[0m                 \u001b[0;32mor\u001b[0m \u001b[0m_global_backward_pre_hooks\u001b[0m \u001b[0;32mor\u001b[0m \u001b[0m_global_backward_hooks\u001b[0m\u001b[0;34m\u001b[0m\u001b[0;34m\u001b[0m\u001b[0m\n\u001b[1;32m   1526\u001b[0m                 or _global_forward_hooks or _global_forward_pre_hooks):\n\u001b[0;32m-> 1527\u001b[0;31m             \u001b[0;32mreturn\u001b[0m \u001b[0mforward_call\u001b[0m\u001b[0;34m(\u001b[0m\u001b[0;34m*\u001b[0m\u001b[0margs\u001b[0m\u001b[0;34m,\u001b[0m \u001b[0;34m**\u001b[0m\u001b[0mkwargs\u001b[0m\u001b[0;34m)\u001b[0m\u001b[0;34m\u001b[0m\u001b[0;34m\u001b[0m\u001b[0m\n\u001b[0m\u001b[1;32m   1528\u001b[0m \u001b[0;34m\u001b[0m\u001b[0m\n\u001b[1;32m   1529\u001b[0m         \u001b[0;32mtry\u001b[0m\u001b[0;34m:\u001b[0m\u001b[0;34m\u001b[0m\u001b[0;34m\u001b[0m\u001b[0m\n",
            "\u001b[0;32m/usr/local/lib/python3.10/dist-packages/torch/nn/modules/loss.py\u001b[0m in \u001b[0;36mforward\u001b[0;34m(self, input, target)\u001b[0m\n\u001b[1;32m   1177\u001b[0m \u001b[0;34m\u001b[0m\u001b[0m\n\u001b[1;32m   1178\u001b[0m     \u001b[0;32mdef\u001b[0m \u001b[0mforward\u001b[0m\u001b[0;34m(\u001b[0m\u001b[0mself\u001b[0m\u001b[0;34m,\u001b[0m \u001b[0minput\u001b[0m\u001b[0;34m:\u001b[0m \u001b[0mTensor\u001b[0m\u001b[0;34m,\u001b[0m \u001b[0mtarget\u001b[0m\u001b[0;34m:\u001b[0m \u001b[0mTensor\u001b[0m\u001b[0;34m)\u001b[0m \u001b[0;34m->\u001b[0m \u001b[0mTensor\u001b[0m\u001b[0;34m:\u001b[0m\u001b[0;34m\u001b[0m\u001b[0;34m\u001b[0m\u001b[0m\n\u001b[0;32m-> 1179\u001b[0;31m         return F.cross_entropy(input, target, weight=self.weight,\n\u001b[0m\u001b[1;32m   1180\u001b[0m                                \u001b[0mignore_index\u001b[0m\u001b[0;34m=\u001b[0m\u001b[0mself\u001b[0m\u001b[0;34m.\u001b[0m\u001b[0mignore_index\u001b[0m\u001b[0;34m,\u001b[0m \u001b[0mreduction\u001b[0m\u001b[0;34m=\u001b[0m\u001b[0mself\u001b[0m\u001b[0;34m.\u001b[0m\u001b[0mreduction\u001b[0m\u001b[0;34m,\u001b[0m\u001b[0;34m\u001b[0m\u001b[0;34m\u001b[0m\u001b[0m\n\u001b[1;32m   1181\u001b[0m                                label_smoothing=self.label_smoothing)\n",
            "\u001b[0;32m/usr/local/lib/python3.10/dist-packages/torch/nn/functional.py\u001b[0m in \u001b[0;36mcross_entropy\u001b[0;34m(input, target, weight, size_average, ignore_index, reduce, reduction, label_smoothing)\u001b[0m\n\u001b[1;32m   3051\u001b[0m     \u001b[0;32mif\u001b[0m \u001b[0msize_average\u001b[0m \u001b[0;32mis\u001b[0m \u001b[0;32mnot\u001b[0m \u001b[0;32mNone\u001b[0m \u001b[0;32mor\u001b[0m \u001b[0mreduce\u001b[0m \u001b[0;32mis\u001b[0m \u001b[0;32mnot\u001b[0m \u001b[0;32mNone\u001b[0m\u001b[0;34m:\u001b[0m\u001b[0;34m\u001b[0m\u001b[0;34m\u001b[0m\u001b[0m\n\u001b[1;32m   3052\u001b[0m         \u001b[0mreduction\u001b[0m \u001b[0;34m=\u001b[0m \u001b[0m_Reduction\u001b[0m\u001b[0;34m.\u001b[0m\u001b[0mlegacy_get_string\u001b[0m\u001b[0;34m(\u001b[0m\u001b[0msize_average\u001b[0m\u001b[0;34m,\u001b[0m \u001b[0mreduce\u001b[0m\u001b[0;34m)\u001b[0m\u001b[0;34m\u001b[0m\u001b[0;34m\u001b[0m\u001b[0m\n\u001b[0;32m-> 3053\u001b[0;31m     \u001b[0;32mreturn\u001b[0m \u001b[0mtorch\u001b[0m\u001b[0;34m.\u001b[0m\u001b[0m_C\u001b[0m\u001b[0;34m.\u001b[0m\u001b[0m_nn\u001b[0m\u001b[0;34m.\u001b[0m\u001b[0mcross_entropy_loss\u001b[0m\u001b[0;34m(\u001b[0m\u001b[0minput\u001b[0m\u001b[0;34m,\u001b[0m \u001b[0mtarget\u001b[0m\u001b[0;34m,\u001b[0m \u001b[0mweight\u001b[0m\u001b[0;34m,\u001b[0m \u001b[0m_Reduction\u001b[0m\u001b[0;34m.\u001b[0m\u001b[0mget_enum\u001b[0m\u001b[0;34m(\u001b[0m\u001b[0mreduction\u001b[0m\u001b[0;34m)\u001b[0m\u001b[0;34m,\u001b[0m \u001b[0mignore_index\u001b[0m\u001b[0;34m,\u001b[0m \u001b[0mlabel_smoothing\u001b[0m\u001b[0;34m)\u001b[0m\u001b[0;34m\u001b[0m\u001b[0;34m\u001b[0m\u001b[0m\n\u001b[0m\u001b[1;32m   3054\u001b[0m \u001b[0;34m\u001b[0m\u001b[0m\n\u001b[1;32m   3055\u001b[0m \u001b[0;34m\u001b[0m\u001b[0m\n",
            "\u001b[0;31mRuntimeError\u001b[0m: expected scalar type Long but found Float"
          ]
        }
      ]
    },
    {
      "cell_type": "markdown",
      "source": [
        "## 8. Test"
      ],
      "metadata": {
        "id": "MROj3PHKSHAP"
      }
    },
    {
      "cell_type": "code",
      "source": [
        "# Testing the model\n",
        "predicted_labels = []\n",
        "model.eval()\n",
        "with torch.no_grad():\n",
        "    test_outputs = model(X_test.float())\n",
        "    predicted_labels.append(np.sign(test_outputs.numpy()))\n",
        "    print(test_outputs.numpy())\n",
        "\n",
        "# Print or use 'predicted_labels' for further analysis\n",
        "print(predicted_labels)"
      ],
      "metadata": {
        "id": "0eeOsJXfSHAQ"
      },
      "execution_count": null,
      "outputs": []
    },
    {
      "cell_type": "code",
      "source": [
        "from sklearn.metrics import confusion_matrix\n",
        "a = np.array(*predicted_labels)\n",
        "conf_matrix = confusion_matrix(y_test[1:], a)\n",
        "import seaborn as sns\n",
        "# Plot confusion matrix\n",
        "plt.figure(figsize=(10, 8))\n",
        "sns.heatmap(conf_matrix, annot=True, fmt='d', cmap='Blues')\n",
        "plt.title('Confusion Matrix')\n",
        "plt.xlabel('Predicted Label')\n",
        "plt.ylabel('True Label')\n",
        "plt.show()"
      ],
      "metadata": {
        "id": "sglvjRmE9HxZ"
      },
      "execution_count": null,
      "outputs": []
    }
  ],
  "metadata": {
    "colab": {
      "provenance": [],
      "include_colab_link": true
    },
    "kernelspec": {
      "display_name": "Python 3",
      "name": "python3"
    },
    "language_info": {
      "name": "python"
    }
  },
  "nbformat": 4,
  "nbformat_minor": 0
}