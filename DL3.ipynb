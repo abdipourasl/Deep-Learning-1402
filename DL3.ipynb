{
  "cells": [
    {
      "cell_type": "markdown",
      "metadata": {
        "id": "view-in-github",
        "colab_type": "text"
      },
      "source": [
        "<a href=\"https://colab.research.google.com/github/abdipourasl/Deep-Learning-1402/blob/main/DL3.ipynb\" target=\"_parent\"><img src=\"https://colab.research.google.com/assets/colab-badge.svg\" alt=\"Open In Colab\"/></a>"
      ]
    },
    {
      "cell_type": "markdown",
      "metadata": {
        "id": "lQPNR08rglpt"
      },
      "source": [
        "<div class=\"alert alert-block alert-success\">\n",
        "<h1>Deep Learning Project #3<h1>\n",
        "Amin Abdipour</h1>\n",
        "</div>"
      ]
    },
    {
      "cell_type": "markdown",
      "metadata": {
        "id": "aQRGn10ph9-0"
      },
      "source": [
        "#  ***Question 1***"
      ]
    },
    {
      "cell_type": "markdown",
      "metadata": {
        "id": "WDdJFcJpglpw"
      },
      "source": [
        "### Importing Libraries"
      ]
    },
    {
      "cell_type": "code",
      "source": [
        "pip install minisom"
      ],
      "metadata": {
        "colab": {
          "base_uri": "https://localhost:8080/"
        },
        "id": "K0uyWWVOFxLL",
        "outputId": "f0473842-8ff6-4518-9c59-3605d9fbd9ad"
      },
      "execution_count": 1,
      "outputs": [
        {
          "output_type": "stream",
          "name": "stdout",
          "text": [
            "Collecting minisom\n",
            "  Downloading MiniSom-2.3.1.tar.gz (10 kB)\n",
            "  Preparing metadata (setup.py) ... \u001b[?25l\u001b[?25hdone\n",
            "Building wheels for collected packages: minisom\n",
            "  Building wheel for minisom (setup.py) ... \u001b[?25l\u001b[?25hdone\n",
            "  Created wheel for minisom: filename=MiniSom-2.3.1-py3-none-any.whl size=10589 sha256=7a4a3ee86b5d2a7f89364ce7bdd73eeec1b0b3b15e24d2ce88b1967b7df6165a\n",
            "  Stored in directory: /root/.cache/pip/wheels/c7/92/d2/33bbda5f86fd8830510b16aa98c8dd420129b5cb24248fd6db\n",
            "Successfully built minisom\n",
            "Installing collected packages: minisom\n",
            "Successfully installed minisom-2.3.1\n"
          ]
        }
      ]
    },
    {
      "cell_type": "code",
      "execution_count": 2,
      "metadata": {
        "id": "OCzkV-6xVs6g",
        "colab": {
          "base_uri": "https://localhost:8080/"
        },
        "outputId": "2dcb7e4f-3f71-4f13-c9d8-5137daff5a17"
      },
      "outputs": [
        {
          "output_type": "stream",
          "name": "stdout",
          "text": [
            "Mounted at /content/drive\n"
          ]
        }
      ],
      "source": [
        "import numpy as np\n",
        "import torch\n",
        "#pip install minisom\n",
        "from minisom import MiniSom\n",
        "from scipy.io import loadmat\n",
        "import pandas as pd\n",
        "import os\n",
        "import os.path as op\n",
        "import sklearn\n",
        "import matplotlib.pyplot as plt\n",
        "from google.colab import drive\n",
        "import cv2\n",
        "drive.mount('/content/drive')\n",
        "from google.colab.patches import cv2_imshow\n",
        "from PIL import Image\n",
        "from torch.utils.data import random_split, DataLoader\n",
        "import torch.nn as nn"
      ]
    },
    {
      "cell_type": "markdown",
      "metadata": {
        "id": "o2eR4EKOXwez"
      },
      "source": [
        "### 1. Import  Data"
      ]
    },
    {
      "cell_type": "code",
      "execution_count": 3,
      "metadata": {
        "id": "wqijgFF6XDMY"
      },
      "outputs": [],
      "source": [
        "dir = op.join('/content/drive/My Drive/','DL','DL_HW03','ids2.mat')  # Path to the Data folder\n",
        "ids2 = loadmat(dir)\n",
        "dir = op.join('/content/drive/My Drive/','DL','DL_HW03','GLI_85.mat')  # Path to the Data folder\n",
        "GLI_85 = loadmat(dir)\n",
        "dir = op.join('/content/drive/My Drive/','DL','DL_HW03','lung.mat')  # Path to the Data folder\n",
        "lung = loadmat(dir)\n",
        "dir = op.join('/content/drive/My Drive/','DL','DL_HW03','nci9.mat')  # Path to the Data folder\n",
        "nci9 = loadmat(dir)\n",
        "dir = op.join('/content/drive/My Drive/','DL','DL_HW03','USPS.mat')  # Path to the Data folder\n",
        "USPS = loadmat(dir)"
      ]
    },
    {
      "cell_type": "markdown",
      "metadata": {
        "id": "cuUP68r5Uy5U"
      },
      "source": [
        "### 2.1. ids2  Data\n",
        "map_size = (2, 3),\n",
        "class_num = 5\n",
        "\n"
      ]
    },
    {
      "cell_type": "markdown",
      "source": [
        "Choose data"
      ],
      "metadata": {
        "id": "mi2xoKjvYxFH"
      }
    },
    {
      "cell_type": "code",
      "source": [
        "data = ids2['data']\n",
        "labels = ids2['label']\n",
        "n_class = ids2['class_num']\n",
        "data.shape"
      ],
      "metadata": {
        "colab": {
          "base_uri": "https://localhost:8080/"
        },
        "id": "cXE5PISfYvQb",
        "outputId": "8e5a927d-7471-42cc-f8b4-44716f49c564"
      },
      "execution_count": null,
      "outputs": [
        {
          "output_type": "execute_result",
          "data": {
            "text/plain": [
              "(3200, 2)"
            ]
          },
          "metadata": {},
          "execution_count": 87
        }
      ]
    },
    {
      "cell_type": "code",
      "source": [
        "true_labels = labels.reshape(-1)"
      ],
      "metadata": {
        "id": "zCrX38XK--Z9"
      },
      "execution_count": null,
      "outputs": []
    },
    {
      "cell_type": "code",
      "source": [
        "from sklearn import metrics\n",
        "\n",
        "input_size = data.shape[1]\n",
        "# Define SOM parameters\n",
        "map_size = (2, 3)\n",
        "learning_rate = 0.1\n",
        "num_epochs = 10000\n",
        "\n",
        "# Create and initialize the SOM\n",
        "som = MiniSom(map_size[0], map_size[1], input_size, sigma=1.0, learning_rate=learning_rate)\n",
        "\n",
        "# Train the SOM\n",
        "som.train_random(data, num_epochs)\n",
        "\n",
        "# Get the cluster assignments for each data point\n",
        "cluster_assignments = np.array([som.winner(sample) for sample in data])\n",
        "\n",
        "# Reshape the cluster assignments for compatibility with sklearn metrics\n",
        "cluster_assignments_flat = cluster_assignments[:, 0] * map_size[1] + cluster_assignments[:, 1] +1\n",
        "\n",
        "clusters = np.unique(cluster_assignments_flat)\n",
        "mapped_labels = np.zeros_like(cluster_assignments_flat)\n",
        "map = {cluster: np.argmax(np.bincount(true_labels[np.where(cluster_assignments_flat == cluster)[0]].flatten())) for cluster in clusters}\n",
        "\n",
        "mapped_labels = np.array([map[cluster] for cluster in cluster_assignments_flat])\n",
        "\n",
        "\n",
        "# # Calculate F1 score\n",
        "f1 = metrics.f1_score(true_labels, mapped_labels, average='weighted')\n",
        "\n",
        "# Calculate Normalized Mutual Information (NMI)\n",
        "nmi = metrics.normalized_mutual_info_score(true_labels, mapped_labels)\n",
        "\n",
        "# Print the results\n",
        "print(f\"F1 Score: {f1}\")\n",
        "print(f\"Normalized Mutual Information (NMI): {nmi}\")\n",
        "\n",
        "# Visualize the SOM\n",
        "plt.figure(figsize=(5, 5))\n",
        "plt.pcolor(som.distance_map().T, cmap='bone_r')  # Plot the distance map as a heatmap\n",
        "plt.colorbar()\n",
        "\n",
        "# Mark the data points on the map\n",
        "for i, sample in enumerate(data):\n",
        "    winner_index = som.winner(sample)\n",
        "    plt.plot(winner_index[0] + 0.5, winner_index[1] + 0.5, 'o', markerfacecolor='None', markersize=10, markeredgecolor='r', markeredgewidth=2)\n",
        "\n",
        "plt.show()\n"
      ],
      "metadata": {
        "colab": {
          "base_uri": "https://localhost:8080/",
          "height": 487
        },
        "id": "NQ8vFL6ix5pu",
        "outputId": "c34c839e-746b-48e6-d8a6-cb0fcf5a7e4e"
      },
      "execution_count": null,
      "outputs": [
        {
          "output_type": "stream",
          "name": "stdout",
          "text": [
            "F1 Score: 0.9021334580917236\n",
            "Normalized Mutual Information (NMI): 0.8873154144817597\n"
          ]
        },
        {
          "output_type": "display_data",
          "data": {
            "text/plain": [
              "<Figure size 500x500 with 2 Axes>"
            ],
            "image/png": "[encoded data removed]"
          },
          "metadata": {}
        }
      ]
    },
    {
      "cell_type": "markdown",
      "metadata": {
        "id": "Rd5RK-yUJxaj"
      },
      "source": [
        "### 2.2 ids2  Data\n",
        "map_size = (4, 4),\n",
        "class_num = 5\n",
        "\n"
      ]
    },
    {
      "cell_type": "markdown",
      "source": [
        "Choose data"
      ],
      "metadata": {
        "id": "xU0G4dMTJxas"
      }
    },
    {
      "cell_type": "code",
      "source": [
        "data = ids2['data']\n",
        "labels = ids2['label']\n",
        "n_class = ids2['class_num']\n",
        "data.shape"
      ],
      "metadata": {
        "colab": {
          "base_uri": "https://localhost:8080/"
        },
        "outputId": "84343773-556b-4a11-bfb7-4df22576b236",
        "id": "2vFrepFWJxas"
      },
      "execution_count": null,
      "outputs": [
        {
          "output_type": "execute_result",
          "data": {
            "text/plain": [
              "(3200, 2)"
            ]
          },
          "metadata": {},
          "execution_count": 90
        }
      ]
    },
    {
      "cell_type": "code",
      "source": [
        "true_labels = labels.reshape(-1)"
      ],
      "metadata": {
        "id": "zr2V8wFxJxas"
      },
      "execution_count": null,
      "outputs": []
    },
    {
      "cell_type": "code",
      "source": [
        "from sklearn import metrics\n",
        "\n",
        "input_size = data.shape[1]\n",
        "# Define SOM parameters\n",
        "map_size = (4, 4)\n",
        "learning_rate = 0.1\n",
        "num_epochs = 10000\n",
        "\n",
        "# Create and initialize the SOM\n",
        "som = MiniSom(map_size[0], map_size[1], input_size, sigma=1.0, learning_rate=learning_rate)\n",
        "\n",
        "# Train the SOM\n",
        "som.train_random(data, num_epochs)\n",
        "\n",
        "# Get the cluster assignments for each data point\n",
        "cluster_assignments = np.array([som.winner(sample) for sample in data])\n",
        "\n",
        "# Reshape the cluster assignments for compatibility with sklearn metrics\n",
        "cluster_assignments_flat = cluster_assignments[:, 0] * map_size[1] + cluster_assignments[:, 1] +1\n",
        "\n",
        "clusters = np.unique(cluster_assignments_flat)\n",
        "mapped_labels = np.zeros_like(cluster_assignments_flat)\n",
        "map = {cluster: np.argmax(np.bincount(true_labels[np.where(cluster_assignments_flat == cluster)[0]].flatten())) for cluster in clusters}\n",
        "\n",
        "mapped_labels = np.array([map[cluster] for cluster in cluster_assignments_flat])\n",
        "\n",
        "\n",
        "# # Calculate F1 score\n",
        "f1 = metrics.f1_score(true_labels, mapped_labels, average='weighted')\n",
        "\n",
        "# Calculate Normalized Mutual Information (NMI)\n",
        "nmi = metrics.normalized_mutual_info_score(true_labels, mapped_labels)\n",
        "\n",
        "# Print the results\n",
        "print(f\"F1 Score: {f1}\")\n",
        "print(f\"Normalized Mutual Information (NMI): {nmi}\")\n",
        "\n",
        "# Visualize the SOM\n",
        "plt.figure(figsize=(5, 5))\n",
        "plt.pcolor(som.distance_map().T, cmap='bone_r')  # Plot the distance map as a heatmap\n",
        "plt.colorbar()\n",
        "\n",
        "# Mark the data points on the map\n",
        "for i, sample in enumerate(data):\n",
        "    winner_index = som.winner(sample)\n",
        "    plt.plot(winner_index[0] + 0.5, winner_index[1] + 0.5, 'o', markerfacecolor='None', markersize=10, markeredgecolor='r', markeredgewidth=2)\n",
        "\n",
        "plt.show()\n"
      ],
      "metadata": {
        "colab": {
          "base_uri": "https://localhost:8080/"
        },
        "outputId": "92d5f1fe-cd5d-473d-de24-f1c8110b9ecd",
        "id": "BQcVEkmiJxas"
      },
      "execution_count": null,
      "outputs": [
        {
          "output_type": "stream",
          "name": "stdout",
          "text": [
            "F1 Score: 0.9925297896841667\n",
            "Normalized Mutual Information (NMI): 0.9628125155252276\n"
          ]
        },
        {
          "output_type": "display_data",
          "data": {
            "text/plain": [
              "<Figure size 500x500 with 2 Axes>"
            ],
            "image/png": "[encoded data removed]"
          },
          "metadata": {}
        }
      ]
    },
    {
      "cell_type": "markdown",
      "metadata": {
        "id": "DIIG-zy5KIVQ"
      },
      "source": [
        "### 2.3 ids2  Data\n",
        "map_size = (5, 5),\n",
        "class_num = 5\n"
      ]
    },
    {
      "cell_type": "markdown",
      "source": [
        "Choose data"
      ],
      "metadata": {
        "id": "0-_Lv644KIVZ"
      }
    },
    {
      "cell_type": "code",
      "source": [
        "data = ids2['data']\n",
        "labels = ids2['label']\n",
        "n_class = ids2['class_num']\n",
        "data.shape"
      ],
      "metadata": {
        "colab": {
          "base_uri": "https://localhost:8080/"
        },
        "outputId": "3602c474-512f-4607-fe98-220870760dc8",
        "id": "20RXxLVmKIVZ"
      },
      "execution_count": null,
      "outputs": [
        {
          "output_type": "execute_result",
          "data": {
            "text/plain": [
              "(3200, 2)"
            ]
          },
          "metadata": {},
          "execution_count": 93
        }
      ]
    },
    {
      "cell_type": "code",
      "source": [
        "true_labels = labels.reshape(-1)"
      ],
      "metadata": {
        "id": "AvpVqAwCKIVZ"
      },
      "execution_count": null,
      "outputs": []
    },
    {
      "cell_type": "code",
      "source": [
        "from sklearn import metrics\n",
        "\n",
        "input_size = data.shape[1]\n",
        "# Define SOM parameters\n",
        "map_size = (5, 5)\n",
        "learning_rate = 0.1\n",
        "num_epochs = 10000\n",
        "\n",
        "# Create and initialize the SOM\n",
        "som = MiniSom(map_size[0], map_size[1], input_size, sigma=1.0, learning_rate=learning_rate)\n",
        "\n",
        "# Train the SOM\n",
        "som.train_random(data, num_epochs)\n",
        "\n",
        "# Get the cluster assignments for each data point\n",
        "cluster_assignments = np.array([som.winner(sample) for sample in data])\n",
        "\n",
        "# Reshape the cluster assignments for compatibility with sklearn metrics\n",
        "cluster_assignments_flat = cluster_assignments[:, 0] * map_size[1] + cluster_assignments[:, 1] +1\n",
        "\n",
        "clusters = np.unique(cluster_assignments_flat)\n",
        "mapped_labels = np.zeros_like(cluster_assignments_flat)\n",
        "map = {cluster: np.argmax(np.bincount(true_labels[np.where(cluster_assignments_flat == cluster)[0]].flatten())) for cluster in clusters}\n",
        "\n",
        "mapped_labels = np.array([map[cluster] for cluster in cluster_assignments_flat])\n",
        "\n",
        "\n",
        "# # Calculate F1 score\n",
        "f1 = metrics.f1_score(true_labels, mapped_labels, average='weighted')\n",
        "\n",
        "# Calculate Normalized Mutual Information (NMI)\n",
        "nmi = metrics.normalized_mutual_info_score(true_labels, mapped_labels)\n",
        "\n",
        "# Print the results\n",
        "print(f\"F1 Score: {f1}\")\n",
        "print(f\"Normalized Mutual Information (NMI): {nmi}\")\n",
        "\n",
        "# Visualize the SOM\n",
        "plt.figure(figsize=(5, 5))\n",
        "plt.pcolor(som.distance_map().T, cmap='bone_r')  # Plot the distance map as a heatmap\n",
        "plt.colorbar()\n",
        "\n",
        "# Mark the data points on the map\n",
        "for i, sample in enumerate(data):\n",
        "    winner_index = som.winner(sample)\n",
        "    plt.plot(winner_index[0] + 0.5, winner_index[1] + 0.5, 'o', markerfacecolor='None', markersize=10, markeredgecolor='r', markeredgewidth=2)\n",
        "\n",
        "plt.show()\n"
      ],
      "metadata": {
        "colab": {
          "base_uri": "https://localhost:8080/"
        },
        "outputId": "6fa0e66f-3571-4048-e479-29ec2d84de51",
        "id": "ERa6L31qKIVZ"
      },
      "execution_count": null,
      "outputs": [
        {
          "output_type": "stream",
          "name": "stdout",
          "text": [
            "F1 Score: 0.9956379003314005\n",
            "Normalized Mutual Information (NMI): 0.9766229736604498\n"
          ]
        },
        {
          "output_type": "display_data",
          "data": {
            "text/plain": [
              "<Figure size 500x500 with 2 Axes>"
            ],
            "image/png": "[encoded data removed]"
          },
          "metadata": {}
        }
      ]
    },
    {
      "cell_type": "markdown",
      "metadata": {
        "id": "UvSNxIMlKe79"
      },
      "source": [
        "### 3.1 GLI_85  Data\n",
        "map_size = (2, 1),\n",
        "class_num = 2\n",
        "\n"
      ]
    },
    {
      "cell_type": "markdown",
      "source": [
        "Choose data"
      ],
      "metadata": {
        "id": "7Vy7pKx-Ke8E"
      }
    },
    {
      "cell_type": "code",
      "source": [
        "data = GLI_85['X']\n",
        "labels = GLI_85['Y']\n",
        "# n_class = ids2['class_num']\n",
        "data.shape"
      ],
      "metadata": {
        "colab": {
          "base_uri": "https://localhost:8080/"
        },
        "outputId": "737b7f58-4792-4f45-faff-43f8fadee16e",
        "id": "GJ60AqcNKe8E"
      },
      "execution_count": null,
      "outputs": [
        {
          "output_type": "execute_result",
          "data": {
            "text/plain": [
              "(85, 22283)"
            ]
          },
          "metadata": {},
          "execution_count": 96
        }
      ]
    },
    {
      "cell_type": "code",
      "source": [
        "true_labels = labels.reshape(-1)"
      ],
      "metadata": {
        "id": "eqaaQFRoKe8E"
      },
      "execution_count": null,
      "outputs": []
    },
    {
      "cell_type": "code",
      "source": [
        "from sklearn import metrics\n",
        "\n",
        "input_size = data.shape[1]\n",
        "# Define SOM parameters\n",
        "map_size = (2, 1)\n",
        "learning_rate = 0.1\n",
        "num_epochs = 10000\n",
        "\n",
        "# Create and initialize the SOM\n",
        "som = MiniSom(map_size[0], map_size[1], input_size, sigma=1.0, learning_rate=learning_rate)\n",
        "\n",
        "# Train the SOM\n",
        "som.train_random(data, num_epochs)\n",
        "\n",
        "# Get the cluster assignments for each data point\n",
        "cluster_assignments = np.array([som.winner(sample) for sample in data])\n",
        "\n",
        "# Reshape the cluster assignments for compatibility with sklearn metrics\n",
        "cluster_assignments_flat = cluster_assignments[:, 0] * map_size[1] + cluster_assignments[:, 1] +1\n",
        "\n",
        "clusters = np.unique(cluster_assignments_flat)\n",
        "mapped_labels = np.zeros_like(cluster_assignments_flat)\n",
        "map = {cluster: np.argmax(np.bincount(true_labels[np.where(cluster_assignments_flat == cluster)[0]].flatten())) for cluster in clusters}\n",
        "\n",
        "mapped_labels = np.array([map[cluster] for cluster in cluster_assignments_flat])\n",
        "\n",
        "\n",
        "# # Calculate F1 score\n",
        "f1 = metrics.f1_score(true_labels, mapped_labels, average='weighted')\n",
        "\n",
        "# Calculate Normalized Mutual Information (NMI)\n",
        "nmi = metrics.normalized_mutual_info_score(true_labels, mapped_labels)\n",
        "\n",
        "# Print the results\n",
        "print(f\"F1 Score: {f1}\")\n",
        "print(f\"Normalized Mutual Information (NMI): {nmi}\")\n",
        "\n",
        "# Visualize the SOM\n",
        "plt.figure(figsize=(5, 5))\n",
        "plt.pcolor(som.distance_map().T, cmap='bone_r')  # Plot the distance map as a heatmap\n",
        "plt.colorbar()\n",
        "\n",
        "# Mark the data points on the map\n",
        "for i, sample in enumerate(data):\n",
        "    winner_index = som.winner(sample)\n",
        "    plt.plot(winner_index[0] + 0.5, winner_index[1] + 0.5, 'o', markerfacecolor='None', markersize=10, markeredgecolor='r', markeredgewidth=2)\n",
        "\n",
        "plt.show()\n"
      ],
      "metadata": {
        "colab": {
          "base_uri": "https://localhost:8080/",
          "height": 524
        },
        "outputId": "8ca9a655-7f46-4f2b-accb-433c044e07d5",
        "id": "ti3HhLJMKe8E"
      },
      "execution_count": null,
      "outputs": [
        {
          "output_type": "stream",
          "name": "stderr",
          "text": [
            "/usr/local/lib/python3.10/dist-packages/minisom.py:162: UserWarning: Warning: sigma is too high for the dimension of the map.\n",
            "  warn('Warning: sigma is too high for the dimension of the map.')\n"
          ]
        },
        {
          "output_type": "stream",
          "name": "stdout",
          "text": [
            "F1 Score: 0.5687908496732026\n",
            "Normalized Mutual Information (NMI): 0.0\n"
          ]
        },
        {
          "output_type": "display_data",
          "data": {
            "text/plain": [
              "<Figure size 500x500 with 2 Axes>"
            ],
            "image/png": "[encoded data removed]"
          },
          "metadata": {}
        }
      ]
    },
    {
      "cell_type": "markdown",
      "metadata": {
        "id": "y_w9DwqbK4eX"
      },
      "source": [
        "### 3.2 GLI_85  Data\n",
        "map_size = (2, 2)\n",
        "class_num = 2\n",
        "\n"
      ]
    },
    {
      "cell_type": "markdown",
      "source": [
        "Choose data"
      ],
      "metadata": {
        "id": "ddUSzs1sK4ee"
      }
    },
    {
      "cell_type": "code",
      "source": [
        "data = GLI_85['X']\n",
        "labels = GLI_85['Y']\n",
        "# n_class = ids2['class_num']\n",
        "data.shape"
      ],
      "metadata": {
        "colab": {
          "base_uri": "https://localhost:8080/"
        },
        "outputId": "13af77e4-1c94-4e66-d1d8-9c52ca290882",
        "id": "x-Qi4fyGK4ef"
      },
      "execution_count": null,
      "outputs": [
        {
          "output_type": "execute_result",
          "data": {
            "text/plain": [
              "(85, 22283)"
            ]
          },
          "metadata": {},
          "execution_count": 99
        }
      ]
    },
    {
      "cell_type": "code",
      "source": [
        "true_labels = labels.reshape(-1)"
      ],
      "metadata": {
        "id": "J3Qf2nguK4ef"
      },
      "execution_count": null,
      "outputs": []
    },
    {
      "cell_type": "code",
      "source": [
        "from sklearn import metrics\n",
        "\n",
        "input_size = data.shape[1]\n",
        "# Define SOM parameters\n",
        "map_size = (2, 2)\n",
        "learning_rate = 0.1\n",
        "num_epochs = 10000\n",
        "\n",
        "# Create and initialize the SOM\n",
        "som = MiniSom(map_size[0], map_size[1], input_size, sigma=1.0, learning_rate=learning_rate)\n",
        "\n",
        "# Train the SOM\n",
        "som.train_random(data, num_epochs)\n",
        "\n",
        "# Get the cluster assignments for each data point\n",
        "cluster_assignments = np.array([som.winner(sample) for sample in data])\n",
        "\n",
        "# Reshape the cluster assignments for compatibility with sklearn metrics\n",
        "cluster_assignments_flat = cluster_assignments[:, 0] * map_size[1] + cluster_assignments[:, 1] +1\n",
        "\n",
        "clusters = np.unique(cluster_assignments_flat)\n",
        "mapped_labels = np.zeros_like(cluster_assignments_flat)\n",
        "map = {cluster: np.argmax(np.bincount(true_labels[np.where(cluster_assignments_flat == cluster)[0]].flatten())) for cluster in clusters}\n",
        "\n",
        "mapped_labels = np.array([map[cluster] for cluster in cluster_assignments_flat])\n",
        "\n",
        "\n",
        "# # Calculate F1 score\n",
        "f1 = metrics.f1_score(true_labels, mapped_labels, average='weighted')\n",
        "\n",
        "# Calculate Normalized Mutual Information (NMI)\n",
        "nmi = metrics.normalized_mutual_info_score(true_labels, mapped_labels)\n",
        "\n",
        "# Print the results\n",
        "print(f\"F1 Score: {f1}\")\n",
        "print(f\"Normalized Mutual Information (NMI): {nmi}\")\n",
        "\n",
        "# Visualize the SOM\n",
        "plt.figure(figsize=(5, 5))\n",
        "plt.pcolor(som.distance_map().T, cmap='bone_r')  # Plot the distance map as a heatmap\n",
        "plt.colorbar()\n",
        "\n",
        "# Mark the data points on the map\n",
        "for i, sample in enumerate(data):\n",
        "    winner_index = som.winner(sample)\n",
        "    plt.plot(winner_index[0] + 0.5, winner_index[1] + 0.5, 'o', markerfacecolor='None', markersize=10, markeredgecolor='r', markeredgewidth=2)\n",
        "\n",
        "plt.show()\n"
      ],
      "metadata": {
        "colab": {
          "base_uri": "https://localhost:8080/"
        },
        "outputId": "3e5826fa-8637-4cbe-bb85-e886bfbf21e3",
        "id": "LNmgK4eRK4ef"
      },
      "execution_count": null,
      "outputs": [
        {
          "output_type": "stream",
          "name": "stdout",
          "text": [
            "F1 Score: 0.7005248380343875\n",
            "Normalized Mutual Information (NMI): 0.06475868347136261\n"
          ]
        },
        {
          "output_type": "display_data",
          "data": {
            "text/plain": [
              "<Figure size 500x500 with 2 Axes>"
            ],
            "image/png": "[encoded data removed]"
          },
          "metadata": {}
        }
      ]
    },
    {
      "cell_type": "markdown",
      "metadata": {
        "id": "_FVbeetLK9CJ"
      },
      "source": [
        "### 3.3 GLI_85  Data\n",
        "map_size = (3, 3)\n",
        "class_num = 2\n"
      ]
    },
    {
      "cell_type": "markdown",
      "source": [
        "Choose data"
      ],
      "metadata": {
        "id": "BsVhaR4FK9CQ"
      }
    },
    {
      "cell_type": "code",
      "source": [
        "data = GLI_85['X']\n",
        "labels = GLI_85['Y']\n",
        "# n_class = ids2['class_num']\n",
        "data.shape"
      ],
      "metadata": {
        "colab": {
          "base_uri": "https://localhost:8080/"
        },
        "outputId": "aece5da4-4315-4f07-be43-53382f3671a6",
        "id": "ga6iqn69K9CR"
      },
      "execution_count": null,
      "outputs": [
        {
          "output_type": "execute_result",
          "data": {
            "text/plain": [
              "(85, 22283)"
            ]
          },
          "metadata": {},
          "execution_count": 102
        }
      ]
    },
    {
      "cell_type": "code",
      "source": [
        "true_labels = labels.reshape(-1)"
      ],
      "metadata": {
        "id": "jYBNNX3XK9CR"
      },
      "execution_count": null,
      "outputs": []
    },
    {
      "cell_type": "code",
      "source": [
        "from sklearn import metrics\n",
        "\n",
        "input_size = data.shape[1]\n",
        "# Define SOM parameters\n",
        "map_size = (3, 3)\n",
        "learning_rate = 0.1\n",
        "num_epochs = 10000\n",
        "\n",
        "# Create and initialize the SOM\n",
        "som = MiniSom(map_size[0], map_size[1], input_size, sigma=1.0, learning_rate=learning_rate)\n",
        "\n",
        "# Train the SOM\n",
        "som.train_random(data, num_epochs)\n",
        "\n",
        "# Get the cluster assignments for each data point\n",
        "cluster_assignments = np.array([som.winner(sample) for sample in data])\n",
        "\n",
        "# Reshape the cluster assignments for compatibility with sklearn metrics\n",
        "cluster_assignments_flat = cluster_assignments[:, 0] * map_size[1] + cluster_assignments[:, 1] +1\n",
        "\n",
        "clusters = np.unique(cluster_assignments_flat)\n",
        "mapped_labels = np.zeros_like(cluster_assignments_flat)\n",
        "map = {cluster: np.argmax(np.bincount(true_labels[np.where(cluster_assignments_flat == cluster)[0]].flatten())) for cluster in clusters}\n",
        "\n",
        "mapped_labels = np.array([map[cluster] for cluster in cluster_assignments_flat])\n",
        "\n",
        "\n",
        "# # Calculate F1 score\n",
        "f1 = metrics.f1_score(true_labels, mapped_labels, average='weighted')\n",
        "\n",
        "# Calculate Normalized Mutual Information (NMI)\n",
        "nmi = metrics.normalized_mutual_info_score(true_labels, mapped_labels)\n",
        "\n",
        "# Print the results\n",
        "print(f\"F1 Score: {f1}\")\n",
        "print(f\"Normalized Mutual Information (NMI): {nmi}\")\n",
        "\n",
        "# Visualize the SOM\n",
        "plt.figure(figsize=(5, 5))\n",
        "plt.pcolor(som.distance_map().T, cmap='bone_r')  # Plot the distance map as a heatmap\n",
        "plt.colorbar()\n",
        "\n",
        "# Mark the data points on the map\n",
        "for i, sample in enumerate(data):\n",
        "    winner_index = som.winner(sample)\n",
        "    plt.plot(winner_index[0] + 0.5, winner_index[1] + 0.5, 'o', markerfacecolor='None', markersize=10, markeredgecolor='r', markeredgewidth=2)\n",
        "\n",
        "plt.show()\n"
      ],
      "metadata": {
        "colab": {
          "base_uri": "https://localhost:8080/",
          "height": 487
        },
        "outputId": "2c491bbe-3582-46ec-b9e9-71db6d45277f",
        "id": "MEg8Q73YK9CR"
      },
      "execution_count": null,
      "outputs": [
        {
          "output_type": "stream",
          "name": "stdout",
          "text": [
            "F1 Score: 0.8164589973920603\n",
            "Normalized Mutual Information (NMI): 0.27960728138622704\n"
          ]
        },
        {
          "output_type": "display_data",
          "data": {
            "text/plain": [
              "<Figure size 500x500 with 2 Axes>"
            ],
            "image/png": "[encoded data removed]"
          },
          "metadata": {}
        }
      ]
    },
    {
      "cell_type": "markdown",
      "metadata": {
        "id": "iwFIYBBeL6j_"
      },
      "source": [
        "### 4.1. lung  Data\n",
        "map_size = (2, 3),\n",
        "class_num = 4\n",
        "\n"
      ]
    },
    {
      "cell_type": "markdown",
      "source": [
        "Choose data"
      ],
      "metadata": {
        "id": "iVsUyT5kL6kF"
      }
    },
    {
      "cell_type": "code",
      "source": [
        "data = lung['X']\n",
        "labels = lung['Y']\n",
        "# n_class = ids2['class_num']\n",
        "data.shape"
      ],
      "metadata": {
        "colab": {
          "base_uri": "https://localhost:8080/"
        },
        "outputId": "2d7fefd2-2a30-417b-f7c4-fc7fbe196b35",
        "id": "pVa48hppL6kG"
      },
      "execution_count": null,
      "outputs": [
        {
          "output_type": "execute_result",
          "data": {
            "text/plain": [
              "(203, 3312)"
            ]
          },
          "metadata": {},
          "execution_count": 105
        }
      ]
    },
    {
      "cell_type": "code",
      "source": [
        "true_labels = labels.reshape(-1)"
      ],
      "metadata": {
        "id": "CfTuwLULL6kG"
      },
      "execution_count": null,
      "outputs": []
    },
    {
      "cell_type": "code",
      "source": [
        "from sklearn import metrics\n",
        "\n",
        "input_size = data.shape[1]\n",
        "# Define SOM parameters\n",
        "map_size = (2, 3)\n",
        "learning_rate = 0.1\n",
        "num_epochs = 10000\n",
        "\n",
        "# Create and initialize the SOM\n",
        "som = MiniSom(map_size[0], map_size[1], input_size, sigma=1.0, learning_rate=learning_rate)\n",
        "\n",
        "# Train the SOM\n",
        "som.train_random(data, num_epochs)\n",
        "\n",
        "# Get the cluster assignments for each data point\n",
        "cluster_assignments = np.array([som.winner(sample) for sample in data])\n",
        "\n",
        "# Reshape the cluster assignments for compatibility with sklearn metrics\n",
        "cluster_assignments_flat = cluster_assignments[:, 0] * map_size[1] + cluster_assignments[:, 1] +1\n",
        "\n",
        "clusters = np.unique(cluster_assignments_flat)\n",
        "mapped_labels = np.zeros_like(cluster_assignments_flat)\n",
        "map = {cluster: np.argmax(np.bincount(true_labels[np.where(cluster_assignments_flat == cluster)[0]].flatten())) for cluster in clusters}\n",
        "\n",
        "mapped_labels = np.array([map[cluster] for cluster in cluster_assignments_flat])\n",
        "\n",
        "\n",
        "# # Calculate F1 score\n",
        "f1 = metrics.f1_score(true_labels, mapped_labels, average='weighted')\n",
        "\n",
        "# Calculate Normalized Mutual Information (NMI)\n",
        "nmi = metrics.normalized_mutual_info_score(true_labels, mapped_labels)\n",
        "\n",
        "# Print the results\n",
        "print(f\"F1 Score: {f1}\")\n",
        "print(f\"Normalized Mutual Information (NMI): {nmi}\")\n",
        "\n",
        "# Visualize the SOM\n",
        "plt.figure(figsize=(5, 5))\n",
        "plt.pcolor(som.distance_map().T, cmap='bone_r')  # Plot the distance map as a heatmap\n",
        "plt.colorbar()\n",
        "\n",
        "# Mark the data points on the map\n",
        "for i, sample in enumerate(data):\n",
        "    winner_index = som.winner(sample)\n",
        "    plt.plot(winner_index[0] + 0.5, winner_index[1] + 0.5, 'o', markerfacecolor='None', markersize=10, markeredgecolor='r', markeredgewidth=2)\n",
        "\n",
        "plt.show()\n"
      ],
      "metadata": {
        "colab": {
          "base_uri": "https://localhost:8080/"
        },
        "outputId": "d86c940c-3dfa-4d82-e79e-05acfc9e7608",
        "id": "U3EXzYC2L6kG"
      },
      "execution_count": null,
      "outputs": [
        {
          "output_type": "stream",
          "name": "stdout",
          "text": [
            "F1 Score: 0.9085516799638462\n",
            "Normalized Mutual Information (NMI): 0.7655851107097011\n"
          ]
        },
        {
          "output_type": "display_data",
          "data": {
            "text/plain": [
              "<Figure size 500x500 with 2 Axes>"
            ],
            "image/png": "[encoded data removed]"
          },
          "metadata": {}
        }
      ]
    },
    {
      "cell_type": "markdown",
      "metadata": {
        "id": "rtu9VASxMPBc"
      },
      "source": [
        "### 4.2 lung  Data\n",
        "map_size = (4, 4),\n",
        "class_num = 4\n",
        "\n"
      ]
    },
    {
      "cell_type": "markdown",
      "source": [
        "Choose data"
      ],
      "metadata": {
        "id": "U5Rhk3BwMPBi"
      }
    },
    {
      "cell_type": "code",
      "source": [
        "data = lung['X']\n",
        "labels = lung['Y']\n",
        "# n_class = ids2['class_num']\n",
        "data.shape"
      ],
      "metadata": {
        "colab": {
          "base_uri": "https://localhost:8080/"
        },
        "outputId": "fc0ad396-048b-4c06-db1f-88612461c050",
        "id": "X4keJWAEMPBi"
      },
      "execution_count": null,
      "outputs": [
        {
          "output_type": "execute_result",
          "data": {
            "text/plain": [
              "(203, 3312)"
            ]
          },
          "metadata": {},
          "execution_count": 108
        }
      ]
    },
    {
      "cell_type": "code",
      "source": [
        "true_labels = labels.reshape(-1)"
      ],
      "metadata": {
        "id": "YxUHA9M8MPBi"
      },
      "execution_count": null,
      "outputs": []
    },
    {
      "cell_type": "code",
      "source": [
        "from sklearn import metrics\n",
        "\n",
        "input_size = data.shape[1]\n",
        "# Define SOM parameters\n",
        "map_size = (4, 4)\n",
        "learning_rate = 0.1\n",
        "num_epochs = 10000\n",
        "\n",
        "# Create and initialize the SOM\n",
        "som = MiniSom(map_size[0], map_size[1], input_size, sigma=1.0, learning_rate=learning_rate)\n",
        "\n",
        "# Train the SOM\n",
        "som.train_random(data, num_epochs)\n",
        "\n",
        "# Get the cluster assignments for each data point\n",
        "cluster_assignments = np.array([som.winner(sample) for sample in data])\n",
        "\n",
        "# Reshape the cluster assignments for compatibility with sklearn metrics\n",
        "cluster_assignments_flat = cluster_assignments[:, 0] * map_size[1] + cluster_assignments[:, 1] +1\n",
        "\n",
        "clusters = np.unique(cluster_assignments_flat)\n",
        "mapped_labels = np.zeros_like(cluster_assignments_flat)\n",
        "map = {cluster: np.argmax(np.bincount(true_labels[np.where(cluster_assignments_flat == cluster)[0]].flatten())) for cluster in clusters}\n",
        "\n",
        "mapped_labels = np.array([map[cluster] for cluster in cluster_assignments_flat])\n",
        "\n",
        "\n",
        "# # Calculate F1 score\n",
        "f1 = metrics.f1_score(true_labels, mapped_labels, average='weighted')\n",
        "\n",
        "# Calculate Normalized Mutual Information (NMI)\n",
        "nmi = metrics.normalized_mutual_info_score(true_labels, mapped_labels)\n",
        "\n",
        "# Print the results\n",
        "print(f\"F1 Score: {f1}\")\n",
        "print(f\"Normalized Mutual Information (NMI): {nmi}\")\n",
        "\n",
        "# Visualize the SOM\n",
        "plt.figure(figsize=(5, 5))\n",
        "plt.pcolor(som.distance_map().T, cmap='bone_r')  # Plot the distance map as a heatmap\n",
        "plt.colorbar()\n",
        "\n",
        "# Mark the data points on the map\n",
        "for i, sample in enumerate(data):\n",
        "    winner_index = som.winner(sample)\n",
        "    plt.plot(winner_index[0] + 0.5, winner_index[1] + 0.5, 'o', markerfacecolor='None', markersize=10, markeredgecolor='r', markeredgewidth=2)\n",
        "\n",
        "plt.show()\n"
      ],
      "metadata": {
        "colab": {
          "base_uri": "https://localhost:8080/",
          "height": 487
        },
        "outputId": "e57e81c4-7108-4238-d9f2-55dfb9a5ad02",
        "id": "5u4FdqptMPBi"
      },
      "execution_count": null,
      "outputs": [
        {
          "output_type": "stream",
          "name": "stdout",
          "text": [
            "F1 Score: 0.9451846147221726\n",
            "Normalized Mutual Information (NMI): 0.7870113674609689\n"
          ]
        },
        {
          "output_type": "display_data",
          "data": {
            "text/plain": [
              "<Figure size 500x500 with 2 Axes>"
            ],
            "image/png": "[encoded data removed]"
          },
          "metadata": {}
        }
      ]
    },
    {
      "cell_type": "markdown",
      "metadata": {
        "id": "7eFAVAi2MPBj"
      },
      "source": [
        "### 4.3 lung  Data\n",
        "map_size = (5, 5),\n",
        "class_num = 4\n"
      ]
    },
    {
      "cell_type": "markdown",
      "source": [
        "Choose data"
      ],
      "metadata": {
        "id": "sE7tkrvFMPBj"
      }
    },
    {
      "cell_type": "code",
      "source": [
        "data = lung['X']\n",
        "labels = lung['Y']\n",
        "# n_class = ids2['class_num']\n",
        "data.shape"
      ],
      "metadata": {
        "colab": {
          "base_uri": "https://localhost:8080/"
        },
        "outputId": "373c47d6-fe5c-4be1-8ae0-0629fd945446",
        "id": "_A49FwqMMPBk"
      },
      "execution_count": null,
      "outputs": [
        {
          "output_type": "execute_result",
          "data": {
            "text/plain": [
              "(203, 3312)"
            ]
          },
          "metadata": {},
          "execution_count": 111
        }
      ]
    },
    {
      "cell_type": "code",
      "source": [
        "true_labels = labels.reshape(-1)"
      ],
      "metadata": {
        "id": "1cFJFu2QMPBk"
      },
      "execution_count": null,
      "outputs": []
    },
    {
      "cell_type": "code",
      "source": [
        "from sklearn import metrics\n",
        "\n",
        "input_size = data.shape[1]\n",
        "# Define SOM parameters\n",
        "map_size = (5, 5)\n",
        "learning_rate = 0.1\n",
        "num_epochs = 10000\n",
        "\n",
        "# Create and initialize the SOM\n",
        "som = MiniSom(map_size[0], map_size[1], input_size, sigma=1.0, learning_rate=learning_rate)\n",
        "\n",
        "# Train the SOM\n",
        "som.train_random(data, num_epochs)\n",
        "\n",
        "# Get the cluster assignments for each data point\n",
        "cluster_assignments = np.array([som.winner(sample) for sample in data])\n",
        "\n",
        "# Reshape the cluster assignments for compatibility with sklearn metrics\n",
        "cluster_assignments_flat = cluster_assignments[:, 0] * map_size[1] + cluster_assignments[:, 1] +1\n",
        "\n",
        "clusters = np.unique(cluster_assignments_flat)\n",
        "mapped_labels = np.zeros_like(cluster_assignments_flat)\n",
        "map = {cluster: np.argmax(np.bincount(true_labels[np.where(cluster_assignments_flat == cluster)[0]].flatten())) for cluster in clusters}\n",
        "\n",
        "mapped_labels = np.array([map[cluster] for cluster in cluster_assignments_flat])\n",
        "\n",
        "\n",
        "# # Calculate F1 score\n",
        "f1 = metrics.f1_score(true_labels, mapped_labels, average='weighted')\n",
        "\n",
        "# Calculate Normalized Mutual Information (NMI)\n",
        "nmi = metrics.normalized_mutual_info_score(true_labels, mapped_labels)\n",
        "\n",
        "# Print the results\n",
        "print(f\"F1 Score: {f1}\")\n",
        "print(f\"Normalized Mutual Information (NMI): {nmi}\")\n",
        "\n",
        "# Visualize the SOM\n",
        "plt.figure(figsize=(5, 5))\n",
        "plt.pcolor(som.distance_map().T, cmap='bone_r')  # Plot the distance map as a heatmap\n",
        "plt.colorbar()\n",
        "\n",
        "# Mark the data points on the map\n",
        "for i, sample in enumerate(data):\n",
        "    winner_index = som.winner(sample)\n",
        "    plt.plot(winner_index[0] + 0.5, winner_index[1] + 0.5, 'o', markerfacecolor='None', markersize=10, markeredgecolor='r', markeredgewidth=2)\n",
        "\n",
        "plt.show()\n"
      ],
      "metadata": {
        "colab": {
          "base_uri": "https://localhost:8080/",
          "height": 487
        },
        "outputId": "23a5aa1f-27dd-4f41-bc77-e22499479906",
        "id": "XnWRzJoZMPBk"
      },
      "execution_count": null,
      "outputs": [
        {
          "output_type": "stream",
          "name": "stdout",
          "text": [
            "F1 Score: 0.9403200036095409\n",
            "Normalized Mutual Information (NMI): 0.76281025778996\n"
          ]
        },
        {
          "output_type": "display_data",
          "data": {
            "text/plain": [
              "<Figure size 500x500 with 2 Axes>"
            ],
            "image/png": "[encoded data removed]"
          },
          "metadata": {}
        }
      ]
    },
    {
      "cell_type": "markdown",
      "metadata": {
        "id": "Ez73LTi5MyMF"
      },
      "source": [
        "### 5.1. nci9  Data\n",
        "map_size = (3, 3),\n",
        "class_num = 9\n",
        "\n"
      ]
    },
    {
      "cell_type": "markdown",
      "source": [
        "Choose data"
      ],
      "metadata": {
        "id": "vrtCZhp8MyMM"
      }
    },
    {
      "cell_type": "code",
      "source": [
        "data = nci9['X']\n",
        "labels = nci9['Y']\n",
        "# n_class = ids2['class_num']\n",
        "data.shape"
      ],
      "metadata": {
        "colab": {
          "base_uri": "https://localhost:8080/"
        },
        "outputId": "8be6f2b7-6c72-4db6-86fe-0d842cbac55f",
        "id": "RQ67qYliMyMM"
      },
      "execution_count": null,
      "outputs": [
        {
          "output_type": "execute_result",
          "data": {
            "text/plain": [
              "(60, 9712)"
            ]
          },
          "metadata": {},
          "execution_count": 132
        }
      ]
    },
    {
      "cell_type": "code",
      "source": [
        "true_labels = labels.reshape(-1)"
      ],
      "metadata": {
        "id": "pQjnuRJ-MyMM"
      },
      "execution_count": null,
      "outputs": []
    },
    {
      "cell_type": "code",
      "source": [
        "from sklearn import metrics\n",
        "\n",
        "input_size = data.shape[1]\n",
        "# Define SOM parameters\n",
        "map_size = (3, 3)\n",
        "learning_rate = 0.1\n",
        "num_epochs = 10000\n",
        "\n",
        "# Create and initialize the SOM\n",
        "som = MiniSom(map_size[0], map_size[1], input_size, sigma=1.0, learning_rate=learning_rate)\n",
        "\n",
        "# Train the SOM\n",
        "som.train_random(data, num_epochs)\n",
        "\n",
        "# Get the cluster assignments for each data point\n",
        "cluster_assignments = np.array([som.winner(sample) for sample in data])\n",
        "\n",
        "# Reshape the cluster assignments for compatibility with sklearn metrics\n",
        "cluster_assignments_flat = cluster_assignments[:, 0] * map_size[1] + cluster_assignments[:, 1] +1\n",
        "\n",
        "clusters = np.unique(cluster_assignments_flat)\n",
        "mapped_labels = np.zeros_like(cluster_assignments_flat)\n",
        "map = {cluster: np.argmax(np.bincount(true_labels[np.where(cluster_assignments_flat == cluster)[0]].flatten())) for cluster in clusters}\n",
        "\n",
        "mapped_labels = np.array([map[cluster] for cluster in cluster_assignments_flat])\n",
        "\n",
        "\n",
        "# # Calculate F1 score\n",
        "f1 = metrics.f1_score(true_labels, mapped_labels, average='weighted')\n",
        "\n",
        "# Calculate Normalized Mutual Information (NMI)\n",
        "nmi = metrics.normalized_mutual_info_score(true_labels, mapped_labels)\n",
        "\n",
        "# Print the results\n",
        "print(f\"F1 Score: {f1}\")\n",
        "print(f\"Normalized Mutual Information (NMI): {nmi}\")\n",
        "\n",
        "# Visualize the SOM\n",
        "plt.figure(figsize=(5, 5))\n",
        "plt.pcolor(som.distance_map().T, cmap='bone_r')  # Plot the distance map as a heatmap\n",
        "plt.colorbar()\n",
        "\n",
        "# Mark the data points on the map\n",
        "for i, sample in enumerate(data):\n",
        "    winner_index = som.winner(sample)\n",
        "    plt.plot(winner_index[0] + 0.5, winner_index[1] + 0.5, 'o', markerfacecolor='None', markersize=10, markeredgecolor='r', markeredgewidth=2)\n",
        "\n",
        "plt.show()\n"
      ],
      "metadata": {
        "colab": {
          "base_uri": "https://localhost:8080/"
        },
        "outputId": "9a737107-459a-4ae0-9f9d-c3638c180483",
        "id": "SRTeYKjsMyMM"
      },
      "execution_count": null,
      "outputs": [
        {
          "output_type": "stream",
          "name": "stdout",
          "text": [
            "F1 Score: 0.39480075480075477\n",
            "Normalized Mutual Information (NMI): 0.3963087371095415\n"
          ]
        },
        {
          "output_type": "display_data",
          "data": {
            "text/plain": [
              "<Figure size 500x500 with 2 Axes>"
            ],
            "image/png": "[encoded data removed]"
          },
          "metadata": {}
        }
      ]
    },
    {
      "cell_type": "markdown",
      "metadata": {
        "id": "pKsp8DsiMyMN"
      },
      "source": [
        "### 5.2 nci9  Data\n",
        "map_size = (4, 4),\n",
        "class_num = 9\n",
        "\n"
      ]
    },
    {
      "cell_type": "markdown",
      "source": [
        "Choose data"
      ],
      "metadata": {
        "id": "wqI-gDNRMyMN"
      }
    },
    {
      "cell_type": "code",
      "source": [
        "data = nci9['X']\n",
        "labels = nci9['Y']\n",
        "# n_class = ids2['class_num']\n",
        "data.shape"
      ],
      "metadata": {
        "colab": {
          "base_uri": "https://localhost:8080/"
        },
        "outputId": "8708f89b-9d63-45ec-caa3-bc311dc98fd4",
        "id": "By5d-1eVMyMN"
      },
      "execution_count": null,
      "outputs": [
        {
          "output_type": "execute_result",
          "data": {
            "text/plain": [
              "(60, 9712)"
            ]
          },
          "metadata": {},
          "execution_count": 135
        }
      ]
    },
    {
      "cell_type": "code",
      "source": [
        "true_labels = labels.reshape(-1)"
      ],
      "metadata": {
        "id": "-XBxP9d2MyMN"
      },
      "execution_count": null,
      "outputs": []
    },
    {
      "cell_type": "code",
      "source": [
        "from sklearn import metrics\n",
        "\n",
        "input_size = data.shape[1]\n",
        "# Define SOM parameters\n",
        "map_size = (4, 4)\n",
        "learning_rate = 0.1\n",
        "num_epochs = 10000\n",
        "\n",
        "# Create and initialize the SOM\n",
        "som = MiniSom(map_size[0], map_size[1], input_size, sigma=1.0, learning_rate=learning_rate)\n",
        "\n",
        "# Train the SOM\n",
        "som.train_random(data, num_epochs)\n",
        "\n",
        "# Get the cluster assignments for each data point\n",
        "cluster_assignments = np.array([som.winner(sample) for sample in data])\n",
        "\n",
        "# Reshape the cluster assignments for compatibility with sklearn metrics\n",
        "cluster_assignments_flat = cluster_assignments[:, 0] * map_size[1] + cluster_assignments[:, 1] +1\n",
        "\n",
        "clusters = np.unique(cluster_assignments_flat)\n",
        "mapped_labels = np.zeros_like(cluster_assignments_flat)\n",
        "map = {cluster: np.argmax(np.bincount(true_labels[np.where(cluster_assignments_flat == cluster)[0]].flatten())) for cluster in clusters}\n",
        "\n",
        "mapped_labels = np.array([map[cluster] for cluster in cluster_assignments_flat])\n",
        "\n",
        "\n",
        "# # Calculate F1 score\n",
        "f1 = metrics.f1_score(true_labels, mapped_labels, average='weighted')\n",
        "\n",
        "# Calculate Normalized Mutual Information (NMI)\n",
        "nmi = metrics.normalized_mutual_info_score(true_labels, mapped_labels)\n",
        "\n",
        "# Print the results\n",
        "print(f\"F1 Score: {f1}\")\n",
        "print(f\"Normalized Mutual Information (NMI): {nmi}\")\n",
        "\n",
        "# Visualize the SOM\n",
        "plt.figure(figsize=(5, 5))\n",
        "plt.pcolor(som.distance_map().T, cmap='bone_r')  # Plot the distance map as a heatmap\n",
        "plt.colorbar()\n",
        "\n",
        "# Mark the data points on the map\n",
        "for i, sample in enumerate(data):\n",
        "    winner_index = som.winner(sample)\n",
        "    plt.plot(winner_index[0] + 0.5, winner_index[1] + 0.5, 'o', markerfacecolor='None', markersize=10, markeredgecolor='r', markeredgewidth=2)\n",
        "\n",
        "plt.show()\n"
      ],
      "metadata": {
        "colab": {
          "base_uri": "https://localhost:8080/"
        },
        "outputId": "2586cfe0-a5fc-4a71-a43f-56db7705281e",
        "id": "6VArGObYMyMN"
      },
      "execution_count": null,
      "outputs": [
        {
          "output_type": "stream",
          "name": "stdout",
          "text": [
            "F1 Score: 0.6542302604802605\n",
            "Normalized Mutual Information (NMI): 0.604502139640897\n"
          ]
        },
        {
          "output_type": "display_data",
          "data": {
            "text/plain": [
              "<Figure size 500x500 with 2 Axes>"
            ],
            "image/png": "[encoded data removed]"
          },
          "metadata": {}
        }
      ]
    },
    {
      "cell_type": "markdown",
      "metadata": {
        "id": "9gIbVRAmMyMN"
      },
      "source": [
        "### 5.3 nci9  Data\n",
        "map_size = (5, 5),\n",
        "class_num = 9\n"
      ]
    },
    {
      "cell_type": "markdown",
      "source": [
        "Choose data"
      ],
      "metadata": {
        "id": "inSD0SpHMyMN"
      }
    },
    {
      "cell_type": "code",
      "source": [
        "data = nci9['X']\n",
        "labels = nci9['Y']\n",
        "# n_class = ids2['class_num']\n",
        "data.shape"
      ],
      "metadata": {
        "colab": {
          "base_uri": "https://localhost:8080/"
        },
        "outputId": "905e4647-6241-4961-994a-80d19948aac0",
        "id": "9IcjvElOMyMN"
      },
      "execution_count": null,
      "outputs": [
        {
          "output_type": "execute_result",
          "data": {
            "text/plain": [
              "(60, 9712)"
            ]
          },
          "metadata": {},
          "execution_count": 138
        }
      ]
    },
    {
      "cell_type": "code",
      "source": [
        "true_labels = labels.reshape(-1)"
      ],
      "metadata": {
        "id": "rgldwSyzMyMN"
      },
      "execution_count": null,
      "outputs": []
    },
    {
      "cell_type": "code",
      "source": [
        "from sklearn import metrics\n",
        "\n",
        "input_size = data.shape[1]\n",
        "# Define SOM parameters\n",
        "map_size = (5, 5)\n",
        "learning_rate = 0.1\n",
        "num_epochs = 10000\n",
        "\n",
        "# Create and initialize the SOM\n",
        "som = MiniSom(map_size[0], map_size[1], input_size, sigma=1.0, learning_rate=learning_rate)\n",
        "\n",
        "# Train the SOM\n",
        "som.train_random(data, num_epochs)\n",
        "\n",
        "# Get the cluster assignments for each data point\n",
        "cluster_assignments = np.array([som.winner(sample) for sample in data])\n",
        "\n",
        "# Reshape the cluster assignments for compatibility with sklearn metrics\n",
        "cluster_assignments_flat = cluster_assignments[:, 0] * map_size[1] + cluster_assignments[:, 1] +1\n",
        "\n",
        "clusters = np.unique(cluster_assignments_flat)\n",
        "mapped_labels = np.zeros_like(cluster_assignments_flat)\n",
        "map = {cluster: np.argmax(np.bincount(true_labels[np.where(cluster_assignments_flat == cluster)[0]].flatten())) for cluster in clusters}\n",
        "\n",
        "mapped_labels = np.array([map[cluster] for cluster in cluster_assignments_flat])\n",
        "\n",
        "\n",
        "# # Calculate F1 score\n",
        "f1 = metrics.f1_score(true_labels, mapped_labels, average='weighted')\n",
        "\n",
        "# Calculate Normalized Mutual Information (NMI)\n",
        "nmi = metrics.normalized_mutual_info_score(true_labels, mapped_labels)\n",
        "\n",
        "# Print the results\n",
        "print(f\"F1 Score: {f1}\")\n",
        "print(f\"Normalized Mutual Information (NMI): {nmi}\")\n",
        "\n",
        "# Visualize the SOM\n",
        "plt.figure(figsize=(5, 5))\n",
        "plt.pcolor(som.distance_map().T, cmap='bone_r')  # Plot the distance map as a heatmap\n",
        "plt.colorbar()\n",
        "\n",
        "# Mark the data points on the map\n",
        "for i, sample in enumerate(data):\n",
        "    winner_index = som.winner(sample)\n",
        "    plt.plot(winner_index[0] + 0.5, winner_index[1] + 0.5, 'o', markerfacecolor='None', markersize=10, markeredgecolor='r', markeredgewidth=2)\n",
        "\n",
        "plt.show()\n"
      ],
      "metadata": {
        "colab": {
          "base_uri": "https://localhost:8080/"
        },
        "outputId": "ea4fb619-eba0-4818-cbb2-247aaf1fde28",
        "id": "EdDxGeuvMyMN"
      },
      "execution_count": null,
      "outputs": [
        {
          "output_type": "stream",
          "name": "stdout",
          "text": [
            "F1 Score: 0.6380254686833633\n",
            "Normalized Mutual Information (NMI): 0.6129313043543404\n"
          ]
        },
        {
          "output_type": "display_data",
          "data": {
            "text/plain": [
              "<Figure size 500x500 with 2 Axes>"
            ],
            "image/png": "[encoded data removed]"
          },
          "metadata": {}
        }
      ]
    },
    {
      "cell_type": "markdown",
      "metadata": {
        "id": "fUERK3DgNlSB"
      },
      "source": [
        "### 6.1. USPS  Data\n",
        "map_size = (2, 5),\n",
        "class_num = 10\n",
        "\n"
      ]
    },
    {
      "cell_type": "markdown",
      "source": [
        "Choose data"
      ],
      "metadata": {
        "id": "FU1ONPVINlSI"
      }
    },
    {
      "cell_type": "code",
      "source": [
        "data = USPS['X']\n",
        "labels = USPS['Y']\n",
        "# n_class = ids2['class_num']\n",
        "data.shape"
      ],
      "metadata": {
        "colab": {
          "base_uri": "https://localhost:8080/"
        },
        "outputId": "904fc179-5fb8-44ca-ee87-9d6d54aa7c79",
        "id": "y4KvUyjjNlSI"
      },
      "execution_count": null,
      "outputs": [
        {
          "output_type": "execute_result",
          "data": {
            "text/plain": [
              "(9298, 256)"
            ]
          },
          "metadata": {},
          "execution_count": 141
        }
      ]
    },
    {
      "cell_type": "code",
      "source": [
        "true_labels = labels.reshape(-1)"
      ],
      "metadata": {
        "id": "cq02GUbRNlSI"
      },
      "execution_count": null,
      "outputs": []
    },
    {
      "cell_type": "code",
      "source": [
        "from sklearn import metrics\n",
        "\n",
        "input_size = data.shape[1]\n",
        "# Define SOM parameters\n",
        "map_size = (2, 5)\n",
        "learning_rate = 0.1\n",
        "num_epochs = 10000\n",
        "\n",
        "# Create and initialize the SOM\n",
        "som = MiniSom(map_size[0], map_size[1], input_size, sigma=1.0, learning_rate=learning_rate)\n",
        "\n",
        "# Train the SOM\n",
        "som.train_random(data, num_epochs)\n",
        "\n",
        "# Get the cluster assignments for each data point\n",
        "cluster_assignments = np.array([som.winner(sample) for sample in data])\n",
        "\n",
        "# Reshape the cluster assignments for compatibility with sklearn metrics\n",
        "cluster_assignments_flat = cluster_assignments[:, 0] * map_size[1] + cluster_assignments[:, 1] +1\n",
        "\n",
        "clusters = np.unique(cluster_assignments_flat)\n",
        "mapped_labels = np.zeros_like(cluster_assignments_flat)\n",
        "map = {cluster: np.argmax(np.bincount(true_labels[np.where(cluster_assignments_flat == cluster)[0]].flatten())) for cluster in clusters}\n",
        "\n",
        "mapped_labels = np.array([map[cluster] for cluster in cluster_assignments_flat])\n",
        "\n",
        "\n",
        "# # Calculate F1 score\n",
        "f1 = metrics.f1_score(true_labels, mapped_labels, average='weighted')\n",
        "\n",
        "# Calculate Normalized Mutual Information (NMI)\n",
        "nmi = metrics.normalized_mutual_info_score(true_labels, mapped_labels)\n",
        "\n",
        "# Print the results\n",
        "print(f\"F1 Score: {f1}\")\n",
        "print(f\"Normalized Mutual Information (NMI): {nmi}\")\n",
        "\n",
        "# Visualize the SOM\n",
        "plt.figure(figsize=(5, 5))\n",
        "plt.pcolor(som.distance_map().T, cmap='bone_r')  # Plot the distance map as a heatmap\n",
        "plt.colorbar()\n",
        "\n",
        "# Mark the data points on the map\n",
        "for i, sample in enumerate(data):\n",
        "    winner_index = som.winner(sample)\n",
        "    plt.plot(winner_index[0] + 0.5, winner_index[1] + 0.5, 'o', markerfacecolor='None', markersize=10, markeredgecolor='r', markeredgewidth=2)\n",
        "\n",
        "plt.show()\n"
      ],
      "metadata": {
        "colab": {
          "base_uri": "https://localhost:8080/",
          "height": 487
        },
        "outputId": "8da1b269-b2e0-4c67-e22a-982f77e29fc5",
        "id": "cspQX-q1NlSI"
      },
      "execution_count": null,
      "outputs": [
        {
          "output_type": "stream",
          "name": "stdout",
          "text": [
            "F1 Score: 0.6833781727392094\n",
            "Normalized Mutual Information (NMI): 0.6089084526372736\n"
          ]
        },
        {
          "output_type": "display_data",
          "data": {
            "text/plain": [
              "<Figure size 500x500 with 2 Axes>"
            ],
            "image/png": "[encoded data removed]"
          },
          "metadata": {}
        }
      ]
    },
    {
      "cell_type": "markdown",
      "metadata": {
        "id": "mojYzDLjNlSJ"
      },
      "source": [
        "### 6.2 USPS  Data\n",
        "map_size = (4, 4),\n",
        "class_num = 10\n",
        "\n"
      ]
    },
    {
      "cell_type": "markdown",
      "source": [
        "Choose data"
      ],
      "metadata": {
        "id": "fNDduAfQNlSJ"
      }
    },
    {
      "cell_type": "code",
      "source": [
        "data = USPS['X']\n",
        "labels = USPS['Y']\n",
        "# n_class = ids2['class_num']\n",
        "data.shape"
      ],
      "metadata": {
        "colab": {
          "base_uri": "https://localhost:8080/"
        },
        "outputId": "b70ae2fb-788b-4c1f-fa00-ca8b0fe0775a",
        "id": "F-rJ6408NlSJ"
      },
      "execution_count": null,
      "outputs": [
        {
          "output_type": "execute_result",
          "data": {
            "text/plain": [
              "(9298, 256)"
            ]
          },
          "metadata": {},
          "execution_count": 144
        }
      ]
    },
    {
      "cell_type": "code",
      "source": [
        "true_labels = labels.reshape(-1)"
      ],
      "metadata": {
        "id": "rsNJyHP0NlSJ"
      },
      "execution_count": null,
      "outputs": []
    },
    {
      "cell_type": "code",
      "source": [
        "from sklearn import metrics\n",
        "\n",
        "input_size = data.shape[1]\n",
        "# Define SOM parameters\n",
        "map_size = (4, 4)\n",
        "learning_rate = 0.1\n",
        "num_epochs = 10000\n",
        "\n",
        "# Create and initialize the SOM\n",
        "som = MiniSom(map_size[0], map_size[1], input_size, sigma=1.0, learning_rate=learning_rate)\n",
        "\n",
        "# Train the SOM\n",
        "som.train_random(data, num_epochs)\n",
        "\n",
        "# Get the cluster assignments for each data point\n",
        "cluster_assignments = np.array([som.winner(sample) for sample in data])\n",
        "\n",
        "# Reshape the cluster assignments for compatibility with sklearn metrics\n",
        "cluster_assignments_flat = cluster_assignments[:, 0] * map_size[1] + cluster_assignments[:, 1] +1\n",
        "\n",
        "clusters = np.unique(cluster_assignments_flat)\n",
        "mapped_labels = np.zeros_like(cluster_assignments_flat)\n",
        "map = {cluster: np.argmax(np.bincount(true_labels[np.where(cluster_assignments_flat == cluster)[0]].flatten())) for cluster in clusters}\n",
        "\n",
        "mapped_labels = np.array([map[cluster] for cluster in cluster_assignments_flat])\n",
        "\n",
        "\n",
        "# # Calculate F1 score\n",
        "f1 = metrics.f1_score(true_labels, mapped_labels, average='weighted')\n",
        "\n",
        "# Calculate Normalized Mutual Information (NMI)\n",
        "nmi = metrics.normalized_mutual_info_score(true_labels, mapped_labels)\n",
        "\n",
        "# Print the results\n",
        "print(f\"F1 Score: {f1}\")\n",
        "print(f\"Normalized Mutual Information (NMI): {nmi}\")\n",
        "\n",
        "# Visualize the SOM\n",
        "plt.figure(figsize=(5, 5))\n",
        "plt.pcolor(som.distance_map().T, cmap='bone_r')  # Plot the distance map as a heatmap\n",
        "plt.colorbar()\n",
        "\n",
        "# Mark the data points on the map\n",
        "for i, sample in enumerate(data):\n",
        "    winner_index = som.winner(sample)\n",
        "    plt.plot(winner_index[0] + 0.5, winner_index[1] + 0.5, 'o', markerfacecolor='None', markersize=10, markeredgecolor='r', markeredgewidth=2)\n",
        "\n",
        "plt.show()\n"
      ],
      "metadata": {
        "colab": {
          "base_uri": "https://localhost:8080/"
        },
        "outputId": "fe6d3e20-e292-4645-a519-255424dd1299",
        "id": "7oeHSwe3NlSJ"
      },
      "execution_count": null,
      "outputs": [
        {
          "output_type": "stream",
          "name": "stdout",
          "text": [
            "F1 Score: 0.7438223748283179\n",
            "Normalized Mutual Information (NMI): 0.6430325838750355\n"
          ]
        },
        {
          "output_type": "display_data",
          "data": {
            "text/plain": [
              "<Figure size 500x500 with 2 Axes>"
            ],
            "image/png": "[encoded data removed]"
          },
          "metadata": {}
        }
      ]
    },
    {
      "cell_type": "markdown",
      "metadata": {
        "id": "jhbJ33YqNlSJ"
      },
      "source": [
        "### 6.3 USPS  Data\n",
        "map_size = (5, 5),\n",
        "class_num = 10\n"
      ]
    },
    {
      "cell_type": "markdown",
      "source": [
        "Choose data"
      ],
      "metadata": {
        "id": "vohrl8oNNlSJ"
      }
    },
    {
      "cell_type": "code",
      "source": [
        "data = USPS['X']\n",
        "labels = USPS['Y']\n",
        "# n_class = ids2['class_num']\n",
        "data.shape"
      ],
      "metadata": {
        "colab": {
          "base_uri": "https://localhost:8080/"
        },
        "outputId": "fe6ebfc1-832b-459e-f9d6-1a1a62176196",
        "id": "cTg63ZfTNlSJ"
      },
      "execution_count": null,
      "outputs": [
        {
          "output_type": "execute_result",
          "data": {
            "text/plain": [
              "(9298, 256)"
            ]
          },
          "metadata": {},
          "execution_count": 147
        }
      ]
    },
    {
      "cell_type": "code",
      "source": [
        "true_labels = labels.reshape(-1)"
      ],
      "metadata": {
        "id": "HT5vNjzjNlSK"
      },
      "execution_count": null,
      "outputs": []
    },
    {
      "cell_type": "code",
      "source": [
        "from sklearn import metrics\n",
        "\n",
        "input_size = data.shape[1]\n",
        "# Define SOM parameters\n",
        "map_size = (5, 5)\n",
        "learning_rate = 0.1\n",
        "num_epochs = 10000\n",
        "\n",
        "# Create and initialize the SOM\n",
        "som = MiniSom(map_size[0], map_size[1], input_size, sigma=1.0, learning_rate=learning_rate)\n",
        "\n",
        "# Train the SOM\n",
        "som.train_random(data, num_epochs)\n",
        "\n",
        "# Get the cluster assignments for each data point\n",
        "cluster_assignments = np.array([som.winner(sample) for sample in data])\n",
        "\n",
        "# Reshape the cluster assignments for compatibility with sklearn metrics\n",
        "cluster_assignments_flat = cluster_assignments[:, 0] * map_size[1] + cluster_assignments[:, 1] +1\n",
        "\n",
        "clusters = np.unique(cluster_assignments_flat)\n",
        "mapped_labels = np.zeros_like(cluster_assignments_flat)\n",
        "map = {cluster: np.argmax(np.bincount(true_labels[np.where(cluster_assignments_flat == cluster)[0]].flatten())) for cluster in clusters}\n",
        "\n",
        "mapped_labels = np.array([map[cluster] for cluster in cluster_assignments_flat])\n",
        "\n",
        "\n",
        "# # Calculate F1 score\n",
        "f1 = metrics.f1_score(true_labels, mapped_labels, average='weighted')\n",
        "\n",
        "# Calculate Normalized Mutual Information (NMI)\n",
        "nmi = metrics.normalized_mutual_info_score(true_labels, mapped_labels)\n",
        "\n",
        "# Print the results\n",
        "print(f\"F1 Score: {f1}\")\n",
        "print(f\"Normalized Mutual Information (NMI): {nmi}\")\n",
        "\n",
        "# Visualize the SOM\n",
        "plt.figure(figsize=(5, 5))\n",
        "plt.pcolor(som.distance_map().T, cmap='bone_r')  # Plot the distance map as a heatmap\n",
        "plt.colorbar()\n",
        "\n",
        "# Mark the data points on the map\n",
        "for i, sample in enumerate(data):\n",
        "    winner_index = som.winner(sample)\n",
        "    plt.plot(winner_index[0] + 0.5, winner_index[1] + 0.5, 'o', markerfacecolor='None', markersize=10, markeredgecolor='r', markeredgewidth=2)\n",
        "\n",
        "plt.show()\n"
      ],
      "metadata": {
        "colab": {
          "base_uri": "https://localhost:8080/"
        },
        "outputId": "8a269f52-a00c-4d2c-b5b3-7fdea2d3bd5e",
        "id": "2a8HQAcpNlSK"
      },
      "execution_count": null,
      "outputs": [
        {
          "output_type": "stream",
          "name": "stdout",
          "text": [
            "F1 Score: 0.8253318005748799\n",
            "Normalized Mutual Information (NMI): 0.7155378155017895\n"
          ]
        },
        {
          "output_type": "display_data",
          "data": {
            "text/plain": [
              "<Figure size 500x500 with 2 Axes>"
            ],
            "image/png": "[encoded data removed]"
          },
          "metadata": {}
        }
      ]
    },
    {
      "cell_type": "markdown",
      "metadata": {
        "id": "BT1sRVlUm2ae"
      },
      "source": [
        "#  ***Question 2 : SOM with a hexagonal topology***"
      ]
    },
    {
      "cell_type": "markdown",
      "metadata": {
        "id": "KBTFTWgHWQQo"
      },
      "source": [
        "### 2.1. ids2  Data\n",
        "map_size = (2, 3),\n",
        "class_num = 5\n",
        "\n"
      ]
    },
    {
      "cell_type": "markdown",
      "source": [
        "Choose data"
      ],
      "metadata": {
        "id": "CdEvtEn6WQQo"
      }
    },
    {
      "cell_type": "code",
      "source": [
        "data = ids2['data']\n",
        "labels = ids2['label']\n",
        "n_class = ids2['class_num']\n",
        "data.shape"
      ],
      "metadata": {
        "colab": {
          "base_uri": "https://localhost:8080/"
        },
        "outputId": "26af86e3-3f5b-4989-a93f-dff22d9bc0cb",
        "id": "yj8tZylwWQQo"
      },
      "execution_count": 161,
      "outputs": [
        {
          "output_type": "execute_result",
          "data": {
            "text/plain": [
              "(3200, 2)"
            ]
          },
          "metadata": {},
          "execution_count": 161
        }
      ]
    },
    {
      "cell_type": "code",
      "source": [
        "true_labels = labels.reshape(-1)"
      ],
      "metadata": {
        "id": "kAZ9MZqmWQQp"
      },
      "execution_count": 162,
      "outputs": []
    },
    {
      "cell_type": "code",
      "source": [
        "from sklearn import metrics\n",
        "\n",
        "input_size = data.shape[1]\n",
        "# Define SOM parameters\n",
        "map_size = (2, 3)\n",
        "learning_rate = 0.1\n",
        "num_epochs = 10000\n",
        "\n",
        "# Create and initialize the SOM\n",
        "som = MiniSom(map_size[0], map_size[1], input_size,topology='hexagonal', sigma=1.0, learning_rate=learning_rate)\n",
        "\n",
        "# Train the SOM\n",
        "som.train_random(data, num_epochs)\n",
        "\n",
        "# Get the cluster assignments for each data point\n",
        "cluster_assignments = np.array([som.winner(sample) for sample in data])\n",
        "\n",
        "# Reshape the cluster assignments for compatibility with sklearn metrics\n",
        "cluster_assignments_flat = cluster_assignments[:, 0] * map_size[1] + cluster_assignments[:, 1] +1\n",
        "\n",
        "clusters = np.unique(cluster_assignments_flat)\n",
        "mapped_labels = np.zeros_like(cluster_assignments_flat)\n",
        "map = {cluster: np.argmax(np.bincount(true_labels[np.where(cluster_assignments_flat == cluster)[0]].flatten())) for cluster in clusters}\n",
        "\n",
        "mapped_labels = np.array([map[cluster] for cluster in cluster_assignments_flat])\n",
        "\n",
        "\n",
        "# # Calculate F1 score\n",
        "f1 = metrics.f1_score(true_labels, mapped_labels, average='weighted')\n",
        "\n",
        "# Calculate Normalized Mutual Information (NMI)\n",
        "nmi = metrics.normalized_mutual_info_score(true_labels, mapped_labels)\n",
        "\n",
        "# Print the results\n",
        "print(f\"F1 Score: {f1}\")\n",
        "print(f\"Normalized Mutual Information (NMI): {nmi}\")\n",
        "\n",
        "# Visualize the SOM\n",
        "plt.figure(figsize=(5, 5))\n",
        "plt.pcolor(som.distance_map().T, cmap='bone_r')  # Plot the distance map as a heatmap\n",
        "plt.colorbar()\n",
        "\n",
        "# Mark the data points on the map\n",
        "for i, sample in enumerate(data):\n",
        "    winner_index = som.winner(sample)\n",
        "    plt.plot(winner_index[0] + 0.5, winner_index[1] + 0.5, 'o', markerfacecolor='None', markersize=10, markeredgecolor='r', markeredgewidth=2)\n",
        "\n",
        "plt.show()\n"
      ],
      "metadata": {
        "colab": {
          "base_uri": "https://localhost:8080/",
          "height": 487
        },
        "outputId": "c1b028e4-4fee-49f1-f1ae-b74c6b4b8e3c",
        "id": "DE2eqxMlWQQp"
      },
      "execution_count": 163,
      "outputs": [
        {
          "output_type": "stream",
          "name": "stdout",
          "text": [
            "F1 Score: 0.9032522752537715\n",
            "Normalized Mutual Information (NMI): 0.8920476658093498\n"
          ]
        },
        {
          "output_type": "display_data",
          "data": {
            "text/plain": [
              "<Figure size 500x500 with 2 Axes>"
            ],
            "image/png": "[encoded data removed]"
          },
          "metadata": {}
        }
      ]
    },
    {
      "cell_type": "markdown",
      "metadata": {
        "id": "Bdh4aPOiWQQp"
      },
      "source": [
        "### 2.2 ids2  Data\n",
        "map_size = (4, 4),\n",
        "class_num = 5\n",
        "\n"
      ]
    },
    {
      "cell_type": "markdown",
      "source": [
        "Choose data"
      ],
      "metadata": {
        "id": "RfE_Dq-gWQQp"
      }
    },
    {
      "cell_type": "code",
      "source": [
        "data = ids2['data']\n",
        "labels = ids2['label']\n",
        "n_class = ids2['class_num']\n",
        "data.shape"
      ],
      "metadata": {
        "colab": {
          "base_uri": "https://localhost:8080/"
        },
        "outputId": "bafb5c1c-693c-440c-e076-22dadeece273",
        "id": "3MBilyfYWQQp"
      },
      "execution_count": 164,
      "outputs": [
        {
          "output_type": "execute_result",
          "data": {
            "text/plain": [
              "(3200, 2)"
            ]
          },
          "metadata": {},
          "execution_count": 164
        }
      ]
    },
    {
      "cell_type": "code",
      "source": [
        "true_labels = labels.reshape(-1)"
      ],
      "metadata": {
        "id": "dEVFSqE1WQQp"
      },
      "execution_count": 165,
      "outputs": []
    },
    {
      "cell_type": "code",
      "source": [
        "from sklearn import metrics\n",
        "\n",
        "input_size = data.shape[1]\n",
        "# Define SOM parameters\n",
        "map_size = (4, 4)\n",
        "learning_rate = 0.1\n",
        "num_epochs = 10000\n",
        "\n",
        "# Create and initialize the SOM\n",
        "som = MiniSom(map_size[0], map_size[1], input_size,topology='hexagonal', sigma=1.0, learning_rate=learning_rate)\n",
        "\n",
        "# Train the SOM\n",
        "som.train_random(data, num_epochs)\n",
        "\n",
        "# Get the cluster assignments for each data point\n",
        "cluster_assignments = np.array([som.winner(sample) for sample in data])\n",
        "\n",
        "# Reshape the cluster assignments for compatibility with sklearn metrics\n",
        "cluster_assignments_flat = cluster_assignments[:, 0] * map_size[1] + cluster_assignments[:, 1] +1\n",
        "\n",
        "clusters = np.unique(cluster_assignments_flat)\n",
        "mapped_labels = np.zeros_like(cluster_assignments_flat)\n",
        "map = {cluster: np.argmax(np.bincount(true_labels[np.where(cluster_assignments_flat == cluster)[0]].flatten())) for cluster in clusters}\n",
        "\n",
        "mapped_labels = np.array([map[cluster] for cluster in cluster_assignments_flat])\n",
        "\n",
        "\n",
        "# # Calculate F1 score\n",
        "f1 = metrics.f1_score(true_labels, mapped_labels, average='weighted')\n",
        "\n",
        "# Calculate Normalized Mutual Information (NMI)\n",
        "nmi = metrics.normalized_mutual_info_score(true_labels, mapped_labels)\n",
        "\n",
        "# Print the results\n",
        "print(f\"F1 Score: {f1}\")\n",
        "print(f\"Normalized Mutual Information (NMI): {nmi}\")\n",
        "\n",
        "# Visualize the SOM\n",
        "plt.figure(figsize=(5, 5))\n",
        "plt.pcolor(som.distance_map().T, cmap='bone_r')  # Plot the distance map as a heatmap\n",
        "plt.colorbar()\n",
        "\n",
        "# Mark the data points on the map\n",
        "for i, sample in enumerate(data):\n",
        "    winner_index = som.winner(sample)\n",
        "    plt.plot(winner_index[0] + 0.5, winner_index[1] + 0.5, 'o', markerfacecolor='None', markersize=10, markeredgecolor='r', markeredgewidth=2)\n",
        "\n",
        "plt.show()\n"
      ],
      "metadata": {
        "colab": {
          "base_uri": "https://localhost:8080/",
          "height": 487
        },
        "outputId": "fa76ad56-9038-42bb-a384-ff5df2c21da1",
        "id": "12TlDd_eWQQp"
      },
      "execution_count": 166,
      "outputs": [
        {
          "output_type": "stream",
          "name": "stdout",
          "text": [
            "F1 Score: 0.9971911738169931\n",
            "Normalized Mutual Information (NMI): 0.9832864566454396\n"
          ]
        },
        {
          "output_type": "display_data",
          "data": {
            "text/plain": [
              "<Figure size 500x500 with 2 Axes>"
            ],
            "image/png": "[encoded data removed]"
          },
          "metadata": {}
        }
      ]
    },
    {
      "cell_type": "markdown",
      "metadata": {
        "id": "agp0b1wgWQQp"
      },
      "source": [
        "### 2.3 ids2  Data\n",
        "map_size = (5, 5),\n",
        "class_num = 5\n"
      ]
    },
    {
      "cell_type": "markdown",
      "source": [
        "Choose data"
      ],
      "metadata": {
        "id": "w0T4LYEYWQQp"
      }
    },
    {
      "cell_type": "code",
      "source": [
        "data = ids2['data']\n",
        "labels = ids2['label']\n",
        "n_class = ids2['class_num']\n",
        "data.shape"
      ],
      "metadata": {
        "colab": {
          "base_uri": "https://localhost:8080/"
        },
        "outputId": "5b4f2e3a-5a81-4fea-8646-407b0e54acec",
        "id": "38VM1fYrWQQp"
      },
      "execution_count": 167,
      "outputs": [
        {
          "output_type": "execute_result",
          "data": {
            "text/plain": [
              "(3200, 2)"
            ]
          },
          "metadata": {},
          "execution_count": 167
        }
      ]
    },
    {
      "cell_type": "code",
      "source": [
        "true_labels = labels.reshape(-1)"
      ],
      "metadata": {
        "id": "ysEhEAleWQQq"
      },
      "execution_count": 168,
      "outputs": []
    },
    {
      "cell_type": "code",
      "source": [
        "from sklearn import metrics\n",
        "\n",
        "input_size = data.shape[1]\n",
        "# Define SOM parameters\n",
        "map_size = (5, 5)\n",
        "learning_rate = 0.1\n",
        "num_epochs = 10000\n",
        "\n",
        "# Create and initialize the SOM\n",
        "som = MiniSom(map_size[0], map_size[1], input_size,topology='hexagonal', sigma=1.0, learning_rate=learning_rate)\n",
        "\n",
        "# Train the SOM\n",
        "som.train_random(data, num_epochs)\n",
        "\n",
        "# Get the cluster assignments for each data point\n",
        "cluster_assignments = np.array([som.winner(sample) for sample in data])\n",
        "\n",
        "# Reshape the cluster assignments for compatibility with sklearn metrics\n",
        "cluster_assignments_flat = cluster_assignments[:, 0] * map_size[1] + cluster_assignments[:, 1] +1\n",
        "\n",
        "clusters = np.unique(cluster_assignments_flat)\n",
        "mapped_labels = np.zeros_like(cluster_assignments_flat)\n",
        "map = {cluster: np.argmax(np.bincount(true_labels[np.where(cluster_assignments_flat == cluster)[0]].flatten())) for cluster in clusters}\n",
        "\n",
        "mapped_labels = np.array([map[cluster] for cluster in cluster_assignments_flat])\n",
        "\n",
        "\n",
        "# # Calculate F1 score\n",
        "f1 = metrics.f1_score(true_labels, mapped_labels, average='weighted')\n",
        "\n",
        "# Calculate Normalized Mutual Information (NMI)\n",
        "nmi = metrics.normalized_mutual_info_score(true_labels, mapped_labels)\n",
        "\n",
        "# Print the results\n",
        "print(f\"F1 Score: {f1}\")\n",
        "print(f\"Normalized Mutual Information (NMI): {nmi}\")\n",
        "\n",
        "# Visualize the SOM\n",
        "plt.figure(figsize=(5, 5))\n",
        "plt.pcolor(som.distance_map().T, cmap='bone_r')  # Plot the distance map as a heatmap\n",
        "plt.colorbar()\n",
        "\n",
        "# Mark the data points on the map\n",
        "for i, sample in enumerate(data):\n",
        "    winner_index = som.winner(sample)\n",
        "    plt.plot(winner_index[0] + 0.5, winner_index[1] + 0.5, 'o', markerfacecolor='None', markersize=10, markeredgecolor='r', markeredgewidth=2)\n",
        "\n",
        "plt.show()\n"
      ],
      "metadata": {
        "colab": {
          "base_uri": "https://localhost:8080/",
          "height": 487
        },
        "outputId": "2d4757ca-250f-44e0-96d1-23734d0434ad",
        "id": "oboxFJYSWQQq"
      },
      "execution_count": 169,
      "outputs": [
        {
          "output_type": "stream",
          "name": "stdout",
          "text": [
            "F1 Score: 0.9928252519084028\n",
            "Normalized Mutual Information (NMI): 0.9668518758710081\n"
          ]
        },
        {
          "output_type": "display_data",
          "data": {
            "text/plain": [
              "<Figure size 500x500 with 2 Axes>"
            ],
            "image/png": "[encoded data removed]"
          },
          "metadata": {}
        }
      ]
    },
    {
      "cell_type": "markdown",
      "metadata": {
        "id": "zPWXKJ-PWQQq"
      },
      "source": [
        "### 3.1 GLI_85  Data\n",
        "map_size = (2, 1),\n",
        "class_num = 2\n",
        "\n"
      ]
    },
    {
      "cell_type": "markdown",
      "source": [
        "Choose data"
      ],
      "metadata": {
        "id": "JOmaHTDhWQQq"
      }
    },
    {
      "cell_type": "code",
      "source": [
        "data = GLI_85['X']\n",
        "labels = GLI_85['Y']\n",
        "# n_class = ids2['class_num']\n",
        "data.shape"
      ],
      "metadata": {
        "colab": {
          "base_uri": "https://localhost:8080/"
        },
        "outputId": "3cbc9a8e-ed0f-4e2e-cba9-54daab212961",
        "id": "G2cpTdvwWQQq"
      },
      "execution_count": 170,
      "outputs": [
        {
          "output_type": "execute_result",
          "data": {
            "text/plain": [
              "(85, 22283)"
            ]
          },
          "metadata": {},
          "execution_count": 170
        }
      ]
    },
    {
      "cell_type": "code",
      "source": [
        "true_labels = labels.reshape(-1)"
      ],
      "metadata": {
        "id": "eb8_vvplWQQr"
      },
      "execution_count": 171,
      "outputs": []
    },
    {
      "cell_type": "code",
      "source": [
        "from sklearn import metrics\n",
        "\n",
        "input_size = data.shape[1]\n",
        "# Define SOM parameters\n",
        "map_size = (2, 1)\n",
        "learning_rate = 0.1\n",
        "num_epochs = 10000\n",
        "\n",
        "# Create and initialize the SOM\n",
        "som = MiniSom(map_size[0], map_size[1], input_size,topology='hexagonal', sigma=1.0, learning_rate=learning_rate)\n",
        "\n",
        "# Train the SOM\n",
        "som.train_random(data, num_epochs)\n",
        "\n",
        "# Get the cluster assignments for each data point\n",
        "cluster_assignments = np.array([som.winner(sample) for sample in data])\n",
        "\n",
        "# Reshape the cluster assignments for compatibility with sklearn metrics\n",
        "cluster_assignments_flat = cluster_assignments[:, 0] * map_size[1] + cluster_assignments[:, 1] +1\n",
        "\n",
        "clusters = np.unique(cluster_assignments_flat)\n",
        "mapped_labels = np.zeros_like(cluster_assignments_flat)\n",
        "map = {cluster: np.argmax(np.bincount(true_labels[np.where(cluster_assignments_flat == cluster)[0]].flatten())) for cluster in clusters}\n",
        "\n",
        "mapped_labels = np.array([map[cluster] for cluster in cluster_assignments_flat])\n",
        "\n",
        "\n",
        "# # Calculate F1 score\n",
        "f1 = metrics.f1_score(true_labels, mapped_labels, average='weighted')\n",
        "\n",
        "# Calculate Normalized Mutual Information (NMI)\n",
        "nmi = metrics.normalized_mutual_info_score(true_labels, mapped_labels)\n",
        "\n",
        "# Print the results\n",
        "print(f\"F1 Score: {f1}\")\n",
        "print(f\"Normalized Mutual Information (NMI): {nmi}\")\n",
        "\n",
        "# Visualize the SOM\n",
        "plt.figure(figsize=(5, 5))\n",
        "plt.pcolor(som.distance_map().T, cmap='bone_r')  # Plot the distance map as a heatmap\n",
        "plt.colorbar()\n",
        "\n",
        "# Mark the data points on the map\n",
        "for i, sample in enumerate(data):\n",
        "    winner_index = som.winner(sample)\n",
        "    plt.plot(winner_index[0] + 0.5, winner_index[1] + 0.5, 'o', markerfacecolor='None', markersize=10, markeredgecolor='r', markeredgewidth=2)\n",
        "\n",
        "plt.show()\n"
      ],
      "metadata": {
        "colab": {
          "base_uri": "https://localhost:8080/",
          "height": 524
        },
        "outputId": "6af3a13b-a403-46a2-9f8b-2d8861fa3033",
        "id": "um51uU_6WQQr"
      },
      "execution_count": 172,
      "outputs": [
        {
          "output_type": "stream",
          "name": "stderr",
          "text": [
            "/usr/local/lib/python3.10/dist-packages/minisom.py:162: UserWarning: Warning: sigma is too high for the dimension of the map.\n",
            "  warn('Warning: sigma is too high for the dimension of the map.')\n"
          ]
        },
        {
          "output_type": "stream",
          "name": "stdout",
          "text": [
            "F1 Score: 0.5687908496732026\n",
            "Normalized Mutual Information (NMI): 0.0\n"
          ]
        },
        {
          "output_type": "display_data",
          "data": {
            "text/plain": [
              "<Figure size 500x500 with 2 Axes>"
            ],
            "image/png": "[encoded data removed]"
          },
          "metadata": {}
        }
      ]
    },
    {
      "cell_type": "markdown",
      "metadata": {
        "id": "NLkXCq4IWQQr"
      },
      "source": [
        "### 3.2 GLI_85  Data\n",
        "map_size = (2, 2)\n",
        "class_num = 2\n",
        "\n"
      ]
    },
    {
      "cell_type": "markdown",
      "source": [
        "Choose data"
      ],
      "metadata": {
        "id": "O114RpysWQQr"
      }
    },
    {
      "cell_type": "code",
      "source": [
        "data = GLI_85['X']\n",
        "labels = GLI_85['Y']\n",
        "# n_class = ids2['class_num']\n",
        "data.shape"
      ],
      "metadata": {
        "colab": {
          "base_uri": "https://localhost:8080/"
        },
        "outputId": "b0b9b231-5e51-4ed0-9a38-85a83cf19223",
        "id": "1EzXar0rWQQs"
      },
      "execution_count": 173,
      "outputs": [
        {
          "output_type": "execute_result",
          "data": {
            "text/plain": [
              "(85, 22283)"
            ]
          },
          "metadata": {},
          "execution_count": 173
        }
      ]
    },
    {
      "cell_type": "code",
      "source": [
        "true_labels = labels.reshape(-1)"
      ],
      "metadata": {
        "id": "0DmhiifBWQQs"
      },
      "execution_count": 174,
      "outputs": []
    },
    {
      "cell_type": "code",
      "source": [
        "from sklearn import metrics\n",
        "\n",
        "input_size = data.shape[1]\n",
        "# Define SOM parameters\n",
        "map_size = (2, 2)\n",
        "learning_rate = 0.1\n",
        "num_epochs = 10000\n",
        "\n",
        "# Create and initialize the SOM\n",
        "som = MiniSom(map_size[0], map_size[1], input_size,topology='hexagonal', sigma=1.0, learning_rate=learning_rate)\n",
        "\n",
        "# Train the SOM\n",
        "som.train_random(data, num_epochs)\n",
        "\n",
        "# Get the cluster assignments for each data point\n",
        "cluster_assignments = np.array([som.winner(sample) for sample in data])\n",
        "\n",
        "# Reshape the cluster assignments for compatibility with sklearn metrics\n",
        "cluster_assignments_flat = cluster_assignments[:, 0] * map_size[1] + cluster_assignments[:, 1] +1\n",
        "\n",
        "clusters = np.unique(cluster_assignments_flat)\n",
        "mapped_labels = np.zeros_like(cluster_assignments_flat)\n",
        "map = {cluster: np.argmax(np.bincount(true_labels[np.where(cluster_assignments_flat == cluster)[0]].flatten())) for cluster in clusters}\n",
        "\n",
        "mapped_labels = np.array([map[cluster] for cluster in cluster_assignments_flat])\n",
        "\n",
        "\n",
        "# # Calculate F1 score\n",
        "f1 = metrics.f1_score(true_labels, mapped_labels, average='weighted')\n",
        "\n",
        "# Calculate Normalized Mutual Information (NMI)\n",
        "nmi = metrics.normalized_mutual_info_score(true_labels, mapped_labels)\n",
        "\n",
        "# Print the results\n",
        "print(f\"F1 Score: {f1}\")\n",
        "print(f\"Normalized Mutual Information (NMI): {nmi}\")\n",
        "\n",
        "# Visualize the SOM\n",
        "plt.figure(figsize=(5, 5))\n",
        "plt.pcolor(som.distance_map().T, cmap='bone_r')  # Plot the distance map as a heatmap\n",
        "plt.colorbar()\n",
        "\n",
        "# Mark the data points on the map\n",
        "for i, sample in enumerate(data):\n",
        "    winner_index = som.winner(sample)\n",
        "    plt.plot(winner_index[0] + 0.5, winner_index[1] + 0.5, 'o', markerfacecolor='None', markersize=10, markeredgecolor='r', markeredgewidth=2)\n",
        "\n",
        "plt.show()\n"
      ],
      "metadata": {
        "colab": {
          "base_uri": "https://localhost:8080/",
          "height": 487
        },
        "outputId": "2d5a50b2-d46b-4e2d-a8b8-1322045fe6bc",
        "id": "iuJmHtGWWQQs"
      },
      "execution_count": 175,
      "outputs": [
        {
          "output_type": "stream",
          "name": "stdout",
          "text": [
            "F1 Score: 0.5687908496732026\n",
            "Normalized Mutual Information (NMI): 0.0\n"
          ]
        },
        {
          "output_type": "display_data",
          "data": {
            "text/plain": [
              "<Figure size 500x500 with 2 Axes>"
            ],
            "image/png": "[encoded data removed]"
          },
          "metadata": {}
        }
      ]
    },
    {
      "cell_type": "markdown",
      "metadata": {
        "id": "UQ3pcUWLWQQt"
      },
      "source": [
        "### 3.3 GLI_85  Data\n",
        "map_size = (3, 3)\n",
        "class_num = 2\n"
      ]
    },
    {
      "cell_type": "markdown",
      "source": [
        "Choose data"
      ],
      "metadata": {
        "id": "1MBVfWNuWQQt"
      }
    },
    {
      "cell_type": "code",
      "source": [
        "data = GLI_85['X']\n",
        "labels = GLI_85['Y']\n",
        "# n_class = ids2['class_num']\n",
        "data.shape"
      ],
      "metadata": {
        "colab": {
          "base_uri": "https://localhost:8080/"
        },
        "outputId": "2ba88cef-3af6-438c-c742-62ddcfd2d66e",
        "id": "cGcTHiLTWQQt"
      },
      "execution_count": 176,
      "outputs": [
        {
          "output_type": "execute_result",
          "data": {
            "text/plain": [
              "(85, 22283)"
            ]
          },
          "metadata": {},
          "execution_count": 176
        }
      ]
    },
    {
      "cell_type": "code",
      "source": [
        "true_labels = labels.reshape(-1)"
      ],
      "metadata": {
        "id": "F7zrJvrfWQQt"
      },
      "execution_count": 177,
      "outputs": []
    },
    {
      "cell_type": "code",
      "source": [
        "from sklearn import metrics\n",
        "\n",
        "input_size = data.shape[1]\n",
        "# Define SOM parameters\n",
        "map_size = (3, 3)\n",
        "learning_rate = 0.1\n",
        "num_epochs = 10000\n",
        "\n",
        "# Create and initialize the SOM\n",
        "som = MiniSom(map_size[0], map_size[1], input_size,topology='hexagonal', sigma=1.0, learning_rate=learning_rate)\n",
        "\n",
        "# Train the SOM\n",
        "som.train_random(data, num_epochs)\n",
        "\n",
        "# Get the cluster assignments for each data point\n",
        "cluster_assignments = np.array([som.winner(sample) for sample in data])\n",
        "\n",
        "# Reshape the cluster assignments for compatibility with sklearn metrics\n",
        "cluster_assignments_flat = cluster_assignments[:, 0] * map_size[1] + cluster_assignments[:, 1] +1\n",
        "\n",
        "clusters = np.unique(cluster_assignments_flat)\n",
        "mapped_labels = np.zeros_like(cluster_assignments_flat)\n",
        "map = {cluster: np.argmax(np.bincount(true_labels[np.where(cluster_assignments_flat == cluster)[0]].flatten())) for cluster in clusters}\n",
        "\n",
        "mapped_labels = np.array([map[cluster] for cluster in cluster_assignments_flat])\n",
        "\n",
        "\n",
        "# # Calculate F1 score\n",
        "f1 = metrics.f1_score(true_labels, mapped_labels, average='weighted')\n",
        "\n",
        "# Calculate Normalized Mutual Information (NMI)\n",
        "nmi = metrics.normalized_mutual_info_score(true_labels, mapped_labels)\n",
        "\n",
        "# Print the results\n",
        "print(f\"F1 Score: {f1}\")\n",
        "print(f\"Normalized Mutual Information (NMI): {nmi}\")\n",
        "\n",
        "# Visualize the SOM\n",
        "plt.figure(figsize=(5, 5))\n",
        "plt.pcolor(som.distance_map().T, cmap='bone_r')  # Plot the distance map as a heatmap\n",
        "plt.colorbar()\n",
        "\n",
        "# Mark the data points on the map\n",
        "for i, sample in enumerate(data):\n",
        "    winner_index = som.winner(sample)\n",
        "    plt.plot(winner_index[0] + 0.5, winner_index[1] + 0.5, 'o', markerfacecolor='None', markersize=10, markeredgecolor='r', markeredgewidth=2)\n",
        "\n",
        "plt.show()\n"
      ],
      "metadata": {
        "colab": {
          "base_uri": "https://localhost:8080/",
          "height": 487
        },
        "outputId": "63a1c59c-0596-477e-c25e-e360b20c9928",
        "id": "76X_9R-QWQQt"
      },
      "execution_count": 178,
      "outputs": [
        {
          "output_type": "stream",
          "name": "stdout",
          "text": [
            "F1 Score: 0.8040425707449881\n",
            "Normalized Mutual Information (NMI): 0.23380782307368184\n"
          ]
        },
        {
          "output_type": "display_data",
          "data": {
            "text/plain": [
              "<Figure size 500x500 with 2 Axes>"
            ],
            "image/png": "[encoded data removed]"
          },
          "metadata": {}
        }
      ]
    },
    {
      "cell_type": "markdown",
      "metadata": {
        "id": "2_ZPuVaNWQQt"
      },
      "source": [
        "### 4.1. lung  Data\n",
        "map_size = (2, 3),\n",
        "class_num = 4\n",
        "\n"
      ]
    },
    {
      "cell_type": "markdown",
      "source": [
        "Choose data"
      ],
      "metadata": {
        "id": "FegrhDr3WQQt"
      }
    },
    {
      "cell_type": "code",
      "source": [
        "data = lung['X']\n",
        "labels = lung['Y']\n",
        "# n_class = ids2['class_num']\n",
        "data.shape"
      ],
      "metadata": {
        "colab": {
          "base_uri": "https://localhost:8080/"
        },
        "outputId": "a054f5ca-04de-45e9-914e-739ce11d6daf",
        "id": "GeB__FmBWQQt"
      },
      "execution_count": 179,
      "outputs": [
        {
          "output_type": "execute_result",
          "data": {
            "text/plain": [
              "(203, 3312)"
            ]
          },
          "metadata": {},
          "execution_count": 179
        }
      ]
    },
    {
      "cell_type": "code",
      "source": [
        "true_labels = labels.reshape(-1)"
      ],
      "metadata": {
        "id": "K3nACxdUWQQt"
      },
      "execution_count": 180,
      "outputs": []
    },
    {
      "cell_type": "code",
      "source": [
        "from sklearn import metrics\n",
        "\n",
        "input_size = data.shape[1]\n",
        "# Define SOM parameters\n",
        "map_size = (2, 3)\n",
        "learning_rate = 0.1\n",
        "num_epochs = 10000\n",
        "\n",
        "# Create and initialize the SOM\n",
        "som = MiniSom(map_size[0], map_size[1], input_size,topology='hexagonal', sigma=1.0, learning_rate=learning_rate)\n",
        "\n",
        "# Train the SOM\n",
        "som.train_random(data, num_epochs)\n",
        "\n",
        "# Get the cluster assignments for each data point\n",
        "cluster_assignments = np.array([som.winner(sample) for sample in data])\n",
        "\n",
        "# Reshape the cluster assignments for compatibility with sklearn metrics\n",
        "cluster_assignments_flat = cluster_assignments[:, 0] * map_size[1] + cluster_assignments[:, 1] +1\n",
        "\n",
        "clusters = np.unique(cluster_assignments_flat)\n",
        "mapped_labels = np.zeros_like(cluster_assignments_flat)\n",
        "map = {cluster: np.argmax(np.bincount(true_labels[np.where(cluster_assignments_flat == cluster)[0]].flatten())) for cluster in clusters}\n",
        "\n",
        "mapped_labels = np.array([map[cluster] for cluster in cluster_assignments_flat])\n",
        "\n",
        "\n",
        "# # Calculate F1 score\n",
        "f1 = metrics.f1_score(true_labels, mapped_labels, average='weighted')\n",
        "\n",
        "# Calculate Normalized Mutual Information (NMI)\n",
        "nmi = metrics.normalized_mutual_info_score(true_labels, mapped_labels)\n",
        "\n",
        "# Print the results\n",
        "print(f\"F1 Score: {f1}\")\n",
        "print(f\"Normalized Mutual Information (NMI): {nmi}\")\n",
        "\n",
        "# Visualize the SOM\n",
        "plt.figure(figsize=(5, 5))\n",
        "plt.pcolor(som.distance_map().T, cmap='bone_r')  # Plot the distance map as a heatmap\n",
        "plt.colorbar()\n",
        "\n",
        "# Mark the data points on the map\n",
        "for i, sample in enumerate(data):\n",
        "    winner_index = som.winner(sample)\n",
        "    plt.plot(winner_index[0] + 0.5, winner_index[1] + 0.5, 'o', markerfacecolor='None', markersize=10, markeredgecolor='r', markeredgewidth=2)\n",
        "\n",
        "plt.show()\n"
      ],
      "metadata": {
        "colab": {
          "base_uri": "https://localhost:8080/",
          "height": 487
        },
        "outputId": "f029d16d-05d1-4941-9d10-32c24195ee99",
        "id": "pe_d9NV-WQQu"
      },
      "execution_count": 181,
      "outputs": [
        {
          "output_type": "stream",
          "name": "stdout",
          "text": [
            "F1 Score: 0.9040832233935682\n",
            "Normalized Mutual Information (NMI): 0.7559579302041219\n"
          ]
        },
        {
          "output_type": "display_data",
          "data": {
            "text/plain": [
              "<Figure size 500x500 with 2 Axes>"
            ],
            "image/png": "[encoded data removed]"
          },
          "metadata": {}
        }
      ]
    },
    {
      "cell_type": "markdown",
      "metadata": {
        "id": "jc9x_O53WQQu"
      },
      "source": [
        "### 4.2 lung  Data\n",
        "map_size = (4, 4),\n",
        "class_num = 4\n",
        "\n"
      ]
    },
    {
      "cell_type": "markdown",
      "source": [
        "Choose data"
      ],
      "metadata": {
        "id": "Iz8HLZt6WQQu"
      }
    },
    {
      "cell_type": "code",
      "source": [
        "data = lung['X']\n",
        "labels = lung['Y']\n",
        "# n_class = ids2['class_num']\n",
        "data.shape"
      ],
      "metadata": {
        "colab": {
          "base_uri": "https://localhost:8080/"
        },
        "outputId": "47e3067f-6045-479c-da10-95e8be18a740",
        "id": "0_hSjFIkWQQu"
      },
      "execution_count": 182,
      "outputs": [
        {
          "output_type": "execute_result",
          "data": {
            "text/plain": [
              "(203, 3312)"
            ]
          },
          "metadata": {},
          "execution_count": 182
        }
      ]
    },
    {
      "cell_type": "code",
      "source": [
        "true_labels = labels.reshape(-1)"
      ],
      "metadata": {
        "id": "phEN5fmhWQQu"
      },
      "execution_count": 183,
      "outputs": []
    },
    {
      "cell_type": "code",
      "source": [
        "from sklearn import metrics\n",
        "\n",
        "input_size = data.shape[1]\n",
        "# Define SOM parameters\n",
        "map_size = (4, 4)\n",
        "learning_rate = 0.1\n",
        "num_epochs = 10000\n",
        "\n",
        "# Create and initialize the SOM\n",
        "som = MiniSom(map_size[0], map_size[1], input_size,topology='hexagonal', sigma=1.0, learning_rate=learning_rate)\n",
        "\n",
        "# Train the SOM\n",
        "som.train_random(data, num_epochs)\n",
        "\n",
        "# Get the cluster assignments for each data point\n",
        "cluster_assignments = np.array([som.winner(sample) for sample in data])\n",
        "\n",
        "# Reshape the cluster assignments for compatibility with sklearn metrics\n",
        "cluster_assignments_flat = cluster_assignments[:, 0] * map_size[1] + cluster_assignments[:, 1] +1\n",
        "\n",
        "clusters = np.unique(cluster_assignments_flat)\n",
        "mapped_labels = np.zeros_like(cluster_assignments_flat)\n",
        "map = {cluster: np.argmax(np.bincount(true_labels[np.where(cluster_assignments_flat == cluster)[0]].flatten())) for cluster in clusters}\n",
        "\n",
        "mapped_labels = np.array([map[cluster] for cluster in cluster_assignments_flat])\n",
        "\n",
        "\n",
        "# # Calculate F1 score\n",
        "f1 = metrics.f1_score(true_labels, mapped_labels, average='weighted')\n",
        "\n",
        "# Calculate Normalized Mutual Information (NMI)\n",
        "nmi = metrics.normalized_mutual_info_score(true_labels, mapped_labels)\n",
        "\n",
        "# Print the results\n",
        "print(f\"F1 Score: {f1}\")\n",
        "print(f\"Normalized Mutual Information (NMI): {nmi}\")\n",
        "\n",
        "# Visualize the SOM\n",
        "plt.figure(figsize=(5, 5))\n",
        "plt.pcolor(som.distance_map().T, cmap='bone_r')  # Plot the distance map as a heatmap\n",
        "plt.colorbar()\n",
        "\n",
        "# Mark the data points on the map\n",
        "for i, sample in enumerate(data):\n",
        "    winner_index = som.winner(sample)\n",
        "    plt.plot(winner_index[0] + 0.5, winner_index[1] + 0.5, 'o', markerfacecolor='None', markersize=10, markeredgecolor='r', markeredgewidth=2)\n",
        "\n",
        "plt.show()\n"
      ],
      "metadata": {
        "colab": {
          "base_uri": "https://localhost:8080/",
          "height": 487
        },
        "outputId": "595ab430-d029-4d66-ede2-cc19ea377d1d",
        "id": "nm5dapecWQQv"
      },
      "execution_count": 184,
      "outputs": [
        {
          "output_type": "stream",
          "name": "stdout",
          "text": [
            "F1 Score: 0.9402888110846562\n",
            "Normalized Mutual Information (NMI): 0.7645756259627313\n"
          ]
        },
        {
          "output_type": "display_data",
          "data": {
            "text/plain": [
              "<Figure size 500x500 with 2 Axes>"
            ],
            "image/png": "[encoded data removed]"
          },
          "metadata": {}
        }
      ]
    },
    {
      "cell_type": "markdown",
      "metadata": {
        "id": "7trsbwUVWQQv"
      },
      "source": [
        "### 4.3 lung  Data\n",
        "map_size = (5, 5),\n",
        "class_num = 4\n"
      ]
    },
    {
      "cell_type": "markdown",
      "source": [
        "Choose data"
      ],
      "metadata": {
        "id": "vevcEwIxWQQv"
      }
    },
    {
      "cell_type": "code",
      "source": [
        "data = lung['X']\n",
        "labels = lung['Y']\n",
        "# n_class = ids2['class_num']\n",
        "data.shape"
      ],
      "metadata": {
        "colab": {
          "base_uri": "https://localhost:8080/"
        },
        "outputId": "d332d073-6801-4661-f069-f6f81791d0c9",
        "id": "fgqekOJ9WQQv"
      },
      "execution_count": 185,
      "outputs": [
        {
          "output_type": "execute_result",
          "data": {
            "text/plain": [
              "(203, 3312)"
            ]
          },
          "metadata": {},
          "execution_count": 185
        }
      ]
    },
    {
      "cell_type": "code",
      "source": [
        "true_labels = labels.reshape(-1)"
      ],
      "metadata": {
        "id": "spqnbu6yWQQv"
      },
      "execution_count": 186,
      "outputs": []
    },
    {
      "cell_type": "code",
      "source": [
        "from sklearn import metrics\n",
        "\n",
        "input_size = data.shape[1]\n",
        "# Define SOM parameters\n",
        "map_size = (5, 5)\n",
        "learning_rate = 0.1\n",
        "num_epochs = 10000\n",
        "\n",
        "# Create and initialize the SOM\n",
        "som = MiniSom(map_size[0], map_size[1], input_size,topology='hexagonal', sigma=1.0, learning_rate=learning_rate)\n",
        "\n",
        "# Train the SOM\n",
        "som.train_random(data, num_epochs)\n",
        "\n",
        "# Get the cluster assignments for each data point\n",
        "cluster_assignments = np.array([som.winner(sample) for sample in data])\n",
        "\n",
        "# Reshape the cluster assignments for compatibility with sklearn metrics\n",
        "cluster_assignments_flat = cluster_assignments[:, 0] * map_size[1] + cluster_assignments[:, 1] +1\n",
        "\n",
        "clusters = np.unique(cluster_assignments_flat)\n",
        "mapped_labels = np.zeros_like(cluster_assignments_flat)\n",
        "map = {cluster: np.argmax(np.bincount(true_labels[np.where(cluster_assignments_flat == cluster)[0]].flatten())) for cluster in clusters}\n",
        "\n",
        "mapped_labels = np.array([map[cluster] for cluster in cluster_assignments_flat])\n",
        "\n",
        "\n",
        "# # Calculate F1 score\n",
        "f1 = metrics.f1_score(true_labels, mapped_labels, average='weighted')\n",
        "\n",
        "# Calculate Normalized Mutual Information (NMI)\n",
        "nmi = metrics.normalized_mutual_info_score(true_labels, mapped_labels)\n",
        "\n",
        "# Print the results\n",
        "print(f\"F1 Score: {f1}\")\n",
        "print(f\"Normalized Mutual Information (NMI): {nmi}\")\n",
        "\n",
        "# Visualize the SOM\n",
        "plt.figure(figsize=(5, 5))\n",
        "plt.pcolor(som.distance_map().T, cmap='bone_r')  # Plot the distance map as a heatmap\n",
        "plt.colorbar()\n",
        "\n",
        "# Mark the data points on the map\n",
        "for i, sample in enumerate(data):\n",
        "    winner_index = som.winner(sample)\n",
        "    plt.plot(winner_index[0] + 0.5, winner_index[1] + 0.5, 'o', markerfacecolor='None', markersize=10, markeredgecolor='r', markeredgewidth=2)\n",
        "\n",
        "plt.show()\n"
      ],
      "metadata": {
        "colab": {
          "base_uri": "https://localhost:8080/",
          "height": 487
        },
        "outputId": "fa204450-94d4-4452-bbac-96de74bd856e",
        "id": "hustfIC_WQQv"
      },
      "execution_count": 187,
      "outputs": [
        {
          "output_type": "stream",
          "name": "stdout",
          "text": [
            "F1 Score: 0.9557541543627343\n",
            "Normalized Mutual Information (NMI): 0.821503141166449\n"
          ]
        },
        {
          "output_type": "display_data",
          "data": {
            "text/plain": [
              "<Figure size 500x500 with 2 Axes>"
            ],
            "image/png": "[encoded data removed]"
          },
          "metadata": {}
        }
      ]
    },
    {
      "cell_type": "markdown",
      "metadata": {
        "id": "W0Kjc7HCWQQv"
      },
      "source": [
        "### 5.1. nci9  Data\n",
        "map_size = (3, 3),\n",
        "class_num = 9\n",
        "\n"
      ]
    },
    {
      "cell_type": "markdown",
      "source": [
        "Choose data"
      ],
      "metadata": {
        "id": "BaiGCLuWWQQw"
      }
    },
    {
      "cell_type": "code",
      "source": [
        "data = nci9['X']\n",
        "labels = nci9['Y']\n",
        "# n_class = ids2['class_num']\n",
        "data.shape"
      ],
      "metadata": {
        "colab": {
          "base_uri": "https://localhost:8080/"
        },
        "outputId": "925ccb91-e16b-4722-9dcb-350b69d2502c",
        "id": "BkhhaE5lWQQw"
      },
      "execution_count": 188,
      "outputs": [
        {
          "output_type": "execute_result",
          "data": {
            "text/plain": [
              "(60, 9712)"
            ]
          },
          "metadata": {},
          "execution_count": 188
        }
      ]
    },
    {
      "cell_type": "code",
      "source": [
        "true_labels = labels.reshape(-1)"
      ],
      "metadata": {
        "id": "szcHbaV-WQQw"
      },
      "execution_count": 189,
      "outputs": []
    },
    {
      "cell_type": "code",
      "source": [
        "from sklearn import metrics\n",
        "\n",
        "input_size = data.shape[1]\n",
        "# Define SOM parameters\n",
        "map_size = (3, 3)\n",
        "learning_rate = 0.1\n",
        "num_epochs = 10000\n",
        "\n",
        "# Create and initialize the SOM\n",
        "som = MiniSom(map_size[0], map_size[1], input_size,topology='hexagonal', sigma=1.0, learning_rate=learning_rate)\n",
        "\n",
        "# Train the SOM\n",
        "som.train_random(data, num_epochs)\n",
        "\n",
        "# Get the cluster assignments for each data point\n",
        "cluster_assignments = np.array([som.winner(sample) for sample in data])\n",
        "\n",
        "# Reshape the cluster assignments for compatibility with sklearn metrics\n",
        "cluster_assignments_flat = cluster_assignments[:, 0] * map_size[1] + cluster_assignments[:, 1] +1\n",
        "\n",
        "clusters = np.unique(cluster_assignments_flat)\n",
        "mapped_labels = np.zeros_like(cluster_assignments_flat)\n",
        "map = {cluster: np.argmax(np.bincount(true_labels[np.where(cluster_assignments_flat == cluster)[0]].flatten())) for cluster in clusters}\n",
        "\n",
        "mapped_labels = np.array([map[cluster] for cluster in cluster_assignments_flat])\n",
        "\n",
        "\n",
        "# # Calculate F1 score\n",
        "f1 = metrics.f1_score(true_labels, mapped_labels, average='weighted')\n",
        "\n",
        "# Calculate Normalized Mutual Information (NMI)\n",
        "nmi = metrics.normalized_mutual_info_score(true_labels, mapped_labels)\n",
        "\n",
        "# Print the results\n",
        "print(f\"F1 Score: {f1}\")\n",
        "print(f\"Normalized Mutual Information (NMI): {nmi}\")\n",
        "\n",
        "# Visualize the SOM\n",
        "plt.figure(figsize=(5, 5))\n",
        "plt.pcolor(som.distance_map().T, cmap='bone_r')  # Plot the distance map as a heatmap\n",
        "plt.colorbar()\n",
        "\n",
        "# Mark the data points on the map\n",
        "for i, sample in enumerate(data):\n",
        "    winner_index = som.winner(sample)\n",
        "    plt.plot(winner_index[0] + 0.5, winner_index[1] + 0.5, 'o', markerfacecolor='None', markersize=10, markeredgecolor='r', markeredgewidth=2)\n",
        "\n",
        "plt.show()\n"
      ],
      "metadata": {
        "colab": {
          "base_uri": "https://localhost:8080/",
          "height": 487
        },
        "outputId": "af048099-5592-4bfa-e906-5e9e3b514682",
        "id": "DxThKmCXWQQw"
      },
      "execution_count": 190,
      "outputs": [
        {
          "output_type": "stream",
          "name": "stdout",
          "text": [
            "F1 Score: 0.37485449735449733\n",
            "Normalized Mutual Information (NMI): 0.39913618556452657\n"
          ]
        },
        {
          "output_type": "display_data",
          "data": {
            "text/plain": [
              "<Figure size 500x500 with 2 Axes>"
            ],
            "image/png": "[encoded data removed]"
          },
          "metadata": {}
        }
      ]
    },
    {
      "cell_type": "markdown",
      "metadata": {
        "id": "uNzvSbGJWQQw"
      },
      "source": [
        "### 5.2 nci9  Data\n",
        "map_size = (4, 4),\n",
        "class_num = 9\n",
        "\n"
      ]
    },
    {
      "cell_type": "markdown",
      "source": [
        "Choose data"
      ],
      "metadata": {
        "id": "j7v9iwFEWQQw"
      }
    },
    {
      "cell_type": "code",
      "source": [
        "data = nci9['X']\n",
        "labels = nci9['Y']\n",
        "# n_class = ids2['class_num']\n",
        "data.shape"
      ],
      "metadata": {
        "colab": {
          "base_uri": "https://localhost:8080/"
        },
        "outputId": "b44aa37c-31d9-429c-dbff-9bf94c9ced96",
        "id": "Z1ROIYy8WQQw"
      },
      "execution_count": 191,
      "outputs": [
        {
          "output_type": "execute_result",
          "data": {
            "text/plain": [
              "(60, 9712)"
            ]
          },
          "metadata": {},
          "execution_count": 191
        }
      ]
    },
    {
      "cell_type": "code",
      "source": [
        "true_labels = labels.reshape(-1)"
      ],
      "metadata": {
        "id": "civC5D1JWQQw"
      },
      "execution_count": 192,
      "outputs": []
    },
    {
      "cell_type": "code",
      "source": [
        "from sklearn import metrics\n",
        "\n",
        "input_size = data.shape[1]\n",
        "# Define SOM parameters\n",
        "map_size = (4, 4)\n",
        "learning_rate = 0.1\n",
        "num_epochs = 10000\n",
        "\n",
        "# Create and initialize the SOM\n",
        "som = MiniSom(map_size[0], map_size[1], input_size,topology='hexagonal', sigma=1.0, learning_rate=learning_rate)\n",
        "\n",
        "# Train the SOM\n",
        "som.train_random(data, num_epochs)\n",
        "\n",
        "# Get the cluster assignments for each data point\n",
        "cluster_assignments = np.array([som.winner(sample) for sample in data])\n",
        "\n",
        "# Reshape the cluster assignments for compatibility with sklearn metrics\n",
        "cluster_assignments_flat = cluster_assignments[:, 0] * map_size[1] + cluster_assignments[:, 1] +1\n",
        "\n",
        "clusters = np.unique(cluster_assignments_flat)\n",
        "mapped_labels = np.zeros_like(cluster_assignments_flat)\n",
        "map = {cluster: np.argmax(np.bincount(true_labels[np.where(cluster_assignments_flat == cluster)[0]].flatten())) for cluster in clusters}\n",
        "\n",
        "mapped_labels = np.array([map[cluster] for cluster in cluster_assignments_flat])\n",
        "\n",
        "\n",
        "# # Calculate F1 score\n",
        "f1 = metrics.f1_score(true_labels, mapped_labels, average='weighted')\n",
        "\n",
        "# Calculate Normalized Mutual Information (NMI)\n",
        "nmi = metrics.normalized_mutual_info_score(true_labels, mapped_labels)\n",
        "\n",
        "# Print the results\n",
        "print(f\"F1 Score: {f1}\")\n",
        "print(f\"Normalized Mutual Information (NMI): {nmi}\")\n",
        "\n",
        "# Visualize the SOM\n",
        "plt.figure(figsize=(5, 5))\n",
        "plt.pcolor(som.distance_map().T, cmap='bone_r')  # Plot the distance map as a heatmap\n",
        "plt.colorbar()\n",
        "\n",
        "# Mark the data points on the map\n",
        "for i, sample in enumerate(data):\n",
        "    winner_index = som.winner(sample)\n",
        "    plt.plot(winner_index[0] + 0.5, winner_index[1] + 0.5, 'o', markerfacecolor='None', markersize=10, markeredgecolor='r', markeredgewidth=2)\n",
        "\n",
        "plt.show()\n"
      ],
      "metadata": {
        "colab": {
          "base_uri": "https://localhost:8080/",
          "height": 487
        },
        "outputId": "b5ae538d-516e-4028-eb97-2829f32ad8d2",
        "id": "4QE8zGDMWQQw"
      },
      "execution_count": 193,
      "outputs": [
        {
          "output_type": "stream",
          "name": "stdout",
          "text": [
            "F1 Score: 0.5141825916019465\n",
            "Normalized Mutual Information (NMI): 0.5026294637653883\n"
          ]
        },
        {
          "output_type": "display_data",
          "data": {
            "text/plain": [
              "<Figure size 500x500 with 2 Axes>"
            ],
            "image/png": "[encoded data removed]"
          },
          "metadata": {}
        }
      ]
    },
    {
      "cell_type": "markdown",
      "metadata": {
        "id": "kEErxWedWQQw"
      },
      "source": [
        "### 5.3 nci9  Data\n",
        "map_size = (5, 5),\n",
        "class_num = 9\n"
      ]
    },
    {
      "cell_type": "markdown",
      "source": [
        "Choose data"
      ],
      "metadata": {
        "id": "TNbZqF-ZWQQw"
      }
    },
    {
      "cell_type": "code",
      "source": [
        "data = nci9['X']\n",
        "labels = nci9['Y']\n",
        "# n_class = ids2['class_num']\n",
        "data.shape"
      ],
      "metadata": {
        "colab": {
          "base_uri": "https://localhost:8080/"
        },
        "outputId": "ab4d664e-8c04-4d65-a18b-5329cf9ec036",
        "id": "nW_Ef9fkWQQx"
      },
      "execution_count": 194,
      "outputs": [
        {
          "output_type": "execute_result",
          "data": {
            "text/plain": [
              "(60, 9712)"
            ]
          },
          "metadata": {},
          "execution_count": 194
        }
      ]
    },
    {
      "cell_type": "code",
      "source": [
        "true_labels = labels.reshape(-1)"
      ],
      "metadata": {
        "id": "OkzxNML4WQQx"
      },
      "execution_count": 195,
      "outputs": []
    },
    {
      "cell_type": "code",
      "source": [
        "from sklearn import metrics\n",
        "\n",
        "input_size = data.shape[1]\n",
        "# Define SOM parameters\n",
        "map_size = (5, 5)\n",
        "learning_rate = 0.1\n",
        "num_epochs = 10000\n",
        "\n",
        "# Create and initialize the SOM\n",
        "som = MiniSom(map_size[0], map_size[1], input_size,topology='hexagonal', sigma=1.0, learning_rate=learning_rate)\n",
        "\n",
        "# Train the SOM\n",
        "som.train_random(data, num_epochs)\n",
        "\n",
        "# Get the cluster assignments for each data point\n",
        "cluster_assignments = np.array([som.winner(sample) for sample in data])\n",
        "\n",
        "# Reshape the cluster assignments for compatibility with sklearn metrics\n",
        "cluster_assignments_flat = cluster_assignments[:, 0] * map_size[1] + cluster_assignments[:, 1] +1\n",
        "\n",
        "clusters = np.unique(cluster_assignments_flat)\n",
        "mapped_labels = np.zeros_like(cluster_assignments_flat)\n",
        "map = {cluster: np.argmax(np.bincount(true_labels[np.where(cluster_assignments_flat == cluster)[0]].flatten())) for cluster in clusters}\n",
        "\n",
        "mapped_labels = np.array([map[cluster] for cluster in cluster_assignments_flat])\n",
        "\n",
        "\n",
        "# # Calculate F1 score\n",
        "f1 = metrics.f1_score(true_labels, mapped_labels, average='weighted')\n",
        "\n",
        "# Calculate Normalized Mutual Information (NMI)\n",
        "nmi = metrics.normalized_mutual_info_score(true_labels, mapped_labels)\n",
        "\n",
        "# Print the results\n",
        "print(f\"F1 Score: {f1}\")\n",
        "print(f\"Normalized Mutual Information (NMI): {nmi}\")\n",
        "\n",
        "# Visualize the SOM\n",
        "plt.figure(figsize=(5, 5))\n",
        "plt.pcolor(som.distance_map().T, cmap='bone_r')  # Plot the distance map as a heatmap\n",
        "plt.colorbar()\n",
        "\n",
        "# Mark the data points on the map\n",
        "for i, sample in enumerate(data):\n",
        "    winner_index = som.winner(sample)\n",
        "    plt.plot(winner_index[0] + 0.5, winner_index[1] + 0.5, 'o', markerfacecolor='None', markersize=10, markeredgecolor='r', markeredgewidth=2)\n",
        "\n",
        "plt.show()\n"
      ],
      "metadata": {
        "colab": {
          "base_uri": "https://localhost:8080/",
          "height": 487
        },
        "outputId": "33dac25b-c437-4b4b-8964-84c9dd98db49",
        "id": "xttKzK8QWQQx"
      },
      "execution_count": 196,
      "outputs": [
        {
          "output_type": "stream",
          "name": "stdout",
          "text": [
            "F1 Score: 0.6758989898989899\n",
            "Normalized Mutual Information (NMI): 0.639657152425889\n"
          ]
        },
        {
          "output_type": "display_data",
          "data": {
            "text/plain": [
              "<Figure size 500x500 with 2 Axes>"
            ],
            "image/png": "[encoded data removed]"
          },
          "metadata": {}
        }
      ]
    },
    {
      "cell_type": "markdown",
      "metadata": {
        "id": "Lwu29-fAWQQx"
      },
      "source": [
        "### 6.1. USPS  Data\n",
        "map_size = (2, 5),\n",
        "class_num = 10\n",
        "\n"
      ]
    },
    {
      "cell_type": "markdown",
      "source": [
        "Choose data"
      ],
      "metadata": {
        "id": "xWHGO3gmWQQx"
      }
    },
    {
      "cell_type": "code",
      "source": [
        "data = USPS['X']\n",
        "labels = USPS['Y']\n",
        "# n_class = ids2['class_num']\n",
        "data.shape"
      ],
      "metadata": {
        "colab": {
          "base_uri": "https://localhost:8080/"
        },
        "outputId": "b6143a6d-9df8-48b3-f7d5-30837eddc5e4",
        "id": "5epzY0WNWQQx"
      },
      "execution_count": 197,
      "outputs": [
        {
          "output_type": "execute_result",
          "data": {
            "text/plain": [
              "(9298, 256)"
            ]
          },
          "metadata": {},
          "execution_count": 197
        }
      ]
    },
    {
      "cell_type": "code",
      "source": [
        "true_labels = labels.reshape(-1)"
      ],
      "metadata": {
        "id": "IEpENZ-FWQQx"
      },
      "execution_count": 198,
      "outputs": []
    },
    {
      "cell_type": "code",
      "source": [
        "from sklearn import metrics\n",
        "\n",
        "input_size = data.shape[1]\n",
        "# Define SOM parameters\n",
        "map_size = (2, 5)\n",
        "learning_rate = 0.1\n",
        "num_epochs = 10000\n",
        "\n",
        "# Create and initialize the SOM\n",
        "som = MiniSom(map_size[0], map_size[1], input_size, sigma=1.0,topology='hexagonal', learning_rate=learning_rate)\n",
        "\n",
        "# Train the SOM\n",
        "som.train_random(data, num_epochs)\n",
        "\n",
        "# Get the cluster assignments for each data point\n",
        "cluster_assignments = np.array([som.winner(sample) for sample in data])\n",
        "\n",
        "# Reshape the cluster assignments for compatibility with sklearn metrics\n",
        "cluster_assignments_flat = cluster_assignments[:, 0] * map_size[1] + cluster_assignments[:, 1] +1\n",
        "\n",
        "clusters = np.unique(cluster_assignments_flat)\n",
        "mapped_labels = np.zeros_like(cluster_assignments_flat)\n",
        "map = {cluster: np.argmax(np.bincount(true_labels[np.where(cluster_assignments_flat == cluster)[0]].flatten())) for cluster in clusters}\n",
        "\n",
        "mapped_labels = np.array([map[cluster] for cluster in cluster_assignments_flat])\n",
        "\n",
        "\n",
        "# # Calculate F1 score\n",
        "f1 = metrics.f1_score(true_labels, mapped_labels, average='weighted')\n",
        "\n",
        "# Calculate Normalized Mutual Information (NMI)\n",
        "nmi = metrics.normalized_mutual_info_score(true_labels, mapped_labels)\n",
        "\n",
        "# Print the results\n",
        "print(f\"F1 Score: {f1}\")\n",
        "print(f\"Normalized Mutual Information (NMI): {nmi}\")\n",
        "\n",
        "# Visualize the SOM\n",
        "plt.figure(figsize=(5, 5))\n",
        "plt.pcolor(som.distance_map().T, cmap='bone_r')  # Plot the distance map as a heatmap\n",
        "plt.colorbar()\n",
        "\n",
        "# Mark the data points on the map\n",
        "for i, sample in enumerate(data):\n",
        "    winner_index = som.winner(sample)\n",
        "    plt.plot(winner_index[0] + 0.5, winner_index[1] + 0.5, 'o', markerfacecolor='None', markersize=10, markeredgecolor='r', markeredgewidth=2)\n",
        "\n",
        "plt.show()\n"
      ],
      "metadata": {
        "colab": {
          "base_uri": "https://localhost:8080/",
          "height": 487
        },
        "outputId": "e8e896b4-0324-46ba-c7f3-ac9981ba32b2",
        "id": "-EgDS_oyWQQx"
      },
      "execution_count": 199,
      "outputs": [
        {
          "output_type": "stream",
          "name": "stdout",
          "text": [
            "F1 Score: 0.6944159395599354\n",
            "Normalized Mutual Information (NMI): 0.6154314199372344\n"
          ]
        },
        {
          "output_type": "display_data",
          "data": {
            "text/plain": [
              "<Figure size 500x500 with 2 Axes>"
            ],
            "image/png": "[encoded data removed]"
          },
          "metadata": {}
        }
      ]
    },
    {
      "cell_type": "markdown",
      "metadata": {
        "id": "R5-GkqXfWQQx"
      },
      "source": [
        "### 6.2 USPS  Data\n",
        "map_size = (4, 4),\n",
        "class_num = 10\n",
        "\n"
      ]
    },
    {
      "cell_type": "markdown",
      "source": [
        "Choose data"
      ],
      "metadata": {
        "id": "pCfYVrUkWQQy"
      }
    },
    {
      "cell_type": "code",
      "source": [
        "data = USPS['X']\n",
        "labels = USPS['Y']\n",
        "# n_class = ids2['class_num']\n",
        "data.shape"
      ],
      "metadata": {
        "colab": {
          "base_uri": "https://localhost:8080/"
        },
        "outputId": "baab7804-df51-4cfc-8632-24e04caad4df",
        "id": "pKFj5nDzWQQy"
      },
      "execution_count": 200,
      "outputs": [
        {
          "output_type": "execute_result",
          "data": {
            "text/plain": [
              "(9298, 256)"
            ]
          },
          "metadata": {},
          "execution_count": 200
        }
      ]
    },
    {
      "cell_type": "code",
      "source": [
        "true_labels = labels.reshape(-1)"
      ],
      "metadata": {
        "id": "IcfddgvZWQQy"
      },
      "execution_count": 201,
      "outputs": []
    },
    {
      "cell_type": "code",
      "source": [
        "from sklearn import metrics\n",
        "\n",
        "input_size = data.shape[1]\n",
        "# Define SOM parameters\n",
        "map_size = (4, 4)\n",
        "learning_rate = 0.1\n",
        "num_epochs = 10000\n",
        "\n",
        "# Create and initialize the SOM\n",
        "som = MiniSom(map_size[0], map_size[1], input_size,topology='hexagonal', sigma=1.0, learning_rate=learning_rate)\n",
        "\n",
        "# Train the SOM\n",
        "som.train_random(data, num_epochs)\n",
        "\n",
        "# Get the cluster assignments for each data point\n",
        "cluster_assignments = np.array([som.winner(sample) for sample in data])\n",
        "\n",
        "# Reshape the cluster assignments for compatibility with sklearn metrics\n",
        "cluster_assignments_flat = cluster_assignments[:, 0] * map_size[1] + cluster_assignments[:, 1] +1\n",
        "\n",
        "clusters = np.unique(cluster_assignments_flat)\n",
        "mapped_labels = np.zeros_like(cluster_assignments_flat)\n",
        "map = {cluster: np.argmax(np.bincount(true_labels[np.where(cluster_assignments_flat == cluster)[0]].flatten())) for cluster in clusters}\n",
        "\n",
        "mapped_labels = np.array([map[cluster] for cluster in cluster_assignments_flat])\n",
        "\n",
        "\n",
        "# # Calculate F1 score\n",
        "f1 = metrics.f1_score(true_labels, mapped_labels, average='weighted')\n",
        "\n",
        "# Calculate Normalized Mutual Information (NMI)\n",
        "nmi = metrics.normalized_mutual_info_score(true_labels, mapped_labels)\n",
        "\n",
        "# Print the results\n",
        "print(f\"F1 Score: {f1}\")\n",
        "print(f\"Normalized Mutual Information (NMI): {nmi}\")\n",
        "\n",
        "# Visualize the SOM\n",
        "plt.figure(figsize=(5, 5))\n",
        "plt.pcolor(som.distance_map().T, cmap='bone_r')  # Plot the distance map as a heatmap\n",
        "plt.colorbar()\n",
        "\n",
        "# Mark the data points on the map\n",
        "for i, sample in enumerate(data):\n",
        "    winner_index = som.winner(sample)\n",
        "    plt.plot(winner_index[0] + 0.5, winner_index[1] + 0.5, 'o', markerfacecolor='None', markersize=10, markeredgecolor='r', markeredgewidth=2)\n",
        "\n",
        "plt.show()\n"
      ],
      "metadata": {
        "colab": {
          "base_uri": "https://localhost:8080/",
          "height": 487
        },
        "outputId": "5c43f127-7ebe-471e-b6ec-b938db2b22f8",
        "id": "kwmsp-nMWQQy"
      },
      "execution_count": 202,
      "outputs": [
        {
          "output_type": "stream",
          "name": "stdout",
          "text": [
            "F1 Score: 0.7573926256892604\n",
            "Normalized Mutual Information (NMI): 0.6528339589549269\n"
          ]
        },
        {
          "output_type": "display_data",
          "data": {
            "text/plain": [
              "<Figure size 500x500 with 2 Axes>"
            ],
            "image/png": "[encoded data removed]"
          },
          "metadata": {}
        }
      ]
    },
    {
      "cell_type": "markdown",
      "metadata": {
        "id": "aNES9fvWWQQy"
      },
      "source": [
        "### 6.3 USPS  Data\n",
        "map_size = (5, 5),\n",
        "class_num = 10\n"
      ]
    },
    {
      "cell_type": "markdown",
      "source": [
        "Choose data"
      ],
      "metadata": {
        "id": "XODE6ZCfWQQy"
      }
    },
    {
      "cell_type": "code",
      "source": [
        "data = USPS['X']\n",
        "labels = USPS['Y']\n",
        "# n_class = ids2['class_num']\n",
        "data.shape"
      ],
      "metadata": {
        "colab": {
          "base_uri": "https://localhost:8080/"
        },
        "outputId": "d7de2553-02be-41d0-ead6-d8eddb8a2358",
        "id": "AJ8uNbQaWQQy"
      },
      "execution_count": 203,
      "outputs": [
        {
          "output_type": "execute_result",
          "data": {
            "text/plain": [
              "(9298, 256)"
            ]
          },
          "metadata": {},
          "execution_count": 203
        }
      ]
    },
    {
      "cell_type": "code",
      "source": [
        "true_labels = labels.reshape(-1)"
      ],
      "metadata": {
        "id": "Q3DuQB-KWQQz"
      },
      "execution_count": 204,
      "outputs": []
    },
    {
      "cell_type": "code",
      "source": [
        "from sklearn import metrics\n",
        "\n",
        "input_size = data.shape[1]\n",
        "# Define SOM parameters\n",
        "map_size = (5, 5)\n",
        "learning_rate = 0.1\n",
        "num_epochs = 10000\n",
        "\n",
        "# Create and initialize the SOM\n",
        "som = MiniSom(map_size[0], map_size[1], input_size,topology='hexagonal', sigma=1.0, learning_rate=learning_rate)\n",
        "\n",
        "# Train the SOM\n",
        "som.train_random(data, num_epochs)\n",
        "\n",
        "# Get the cluster assignments for each data point\n",
        "cluster_assignments = np.array([som.winner(sample) for sample in data])\n",
        "\n",
        "# Reshape the cluster assignments for compatibility with sklearn metrics\n",
        "cluster_assignments_flat = cluster_assignments[:, 0] * map_size[1] + cluster_assignments[:, 1] +1\n",
        "\n",
        "clusters = np.unique(cluster_assignments_flat)\n",
        "mapped_labels = np.zeros_like(cluster_assignments_flat)\n",
        "map = {cluster: np.argmax(np.bincount(true_labels[np.where(cluster_assignments_flat == cluster)[0]].flatten())) for cluster in clusters}\n",
        "\n",
        "mapped_labels = np.array([map[cluster] for cluster in cluster_assignments_flat])\n",
        "\n",
        "\n",
        "# # Calculate F1 score\n",
        "f1 = metrics.f1_score(true_labels, mapped_labels, average='weighted')\n",
        "\n",
        "# Calculate Normalized Mutual Information (NMI)\n",
        "nmi = metrics.normalized_mutual_info_score(true_labels, mapped_labels)\n",
        "\n",
        "# Print the results\n",
        "print(f\"F1 Score: {f1}\")\n",
        "print(f\"Normalized Mutual Information (NMI): {nmi}\")\n",
        "\n",
        "# Visualize the SOM\n",
        "plt.figure(figsize=(5, 5))\n",
        "plt.pcolor(som.distance_map().T, cmap='bone_r')  # Plot the distance map as a heatmap\n",
        "plt.colorbar()\n",
        "\n",
        "# Mark the data points on the map\n",
        "for i, sample in enumerate(data):\n",
        "    winner_index = som.winner(sample)\n",
        "    plt.plot(winner_index[0] + 0.5, winner_index[1] + 0.5, 'o', markerfacecolor='None', markersize=10, markeredgecolor='r', markeredgewidth=2)\n",
        "\n",
        "plt.show()\n"
      ],
      "metadata": {
        "colab": {
          "base_uri": "https://localhost:8080/",
          "height": 487
        },
        "outputId": "6583ff82-0bcc-4f8a-b172-645f025cd21f",
        "id": "4dDrfS3XWQQz"
      },
      "execution_count": 205,
      "outputs": [
        {
          "output_type": "stream",
          "name": "stdout",
          "text": [
            "F1 Score: 0.8043688542888106\n",
            "Normalized Mutual Information (NMI): 0.7022215462591223\n"
          ]
        },
        {
          "output_type": "display_data",
          "data": {
            "text/plain": [
              "<Figure size 500x500 with 2 Axes>"
            ],
            "image/png": "[encoded data removed]"
          },
          "metadata": {}
        }
      ]
    },
    {
      "cell_type": "markdown",
      "metadata": {
        "id": "JkapRNZc8T4_"
      },
      "source": [
        "#  ***Question 3: Train MLP***\n"
      ]
    },
    {
      "cell_type": "markdown",
      "metadata": {
        "id": "jRvzfArZABaC"
      },
      "source": [
        "## lung  Data\n",
        "class_num = 4\n"
      ]
    },
    {
      "cell_type": "markdown",
      "metadata": {
        "id": "S3zNI_mqYetr"
      },
      "source": [
        "### 1. Load Data"
      ]
    },
    {
      "cell_type": "code",
      "source": [
        "data1 = lung['X']\n",
        "labels = lung['Y']\n",
        "# n_class = ids2['class_num']\n",
        "data1.shape"
      ],
      "metadata": {
        "colab": {
          "base_uri": "https://localhost:8080/"
        },
        "outputId": "fd477825-38c0-45e8-9074-795288598004",
        "id": "USxrHrznYbJl"
      },
      "execution_count": 212,
      "outputs": [
        {
          "output_type": "execute_result",
          "data": {
            "text/plain": [
              "(203, 3312)"
            ]
          },
          "metadata": {},
          "execution_count": 212
        }
      ]
    },
    {
      "cell_type": "code",
      "source": [
        "true_labels = labels.reshape(-1)"
      ],
      "metadata": {
        "id": "A-osmDWaYbJm"
      },
      "execution_count": 213,
      "outputs": []
    },
    {
      "cell_type": "code",
      "source": [
        "from torch.utils.data import TensorDataset, DataLoader, random_split\n",
        "\n",
        "input_tensor = torch.tensor(data1, dtype=torch.float32)\n",
        "label_tensor = torch.tensor(true_labels, dtype=torch.long)  # Assuming labels are integers\n",
        "\n",
        "# Create a TensorDataset\n",
        "dataset = TensorDataset(input_tensor, label_tensor)\n",
        "\n",
        "torch.manual_seed(42)\n",
        "\n",
        "# Shuffle the dataset\n",
        "shuffled_dataset = torch.utils.data.random_split(dataset, [int(len(dataset)*0.8), len(dataset) - int(len(dataset)*0.8)])\n",
        "\n",
        "# Split into training and validation sets8 (0% train, 20% validation)\n",
        "train_dataset, val_dataset = shuffled_dataset\n",
        "\n",
        "# Create DataLoaders for training and validation\n",
        "batch_size = 8\n",
        "train_loader = DataLoader(train_dataset, batch_size=batch_size, shuffle=True)\n",
        "val_loader = DataLoader(val_dataset, batch_size=batch_size, shuffle=False)\n",
        "\n",
        "\n",
        "\n",
        "\n",
        "# dataset = torch.utils.data.TensorDataset(torch.tensor(data1),torch.tensor(labels))\n",
        "# dataset = torch.cat((a, b))\n",
        "# print(dataset)"
      ],
      "metadata": {
        "id": "MYlv41wDcZW9"
      },
      "execution_count": 214,
      "outputs": []
    },
    {
      "cell_type": "markdown",
      "metadata": {
        "id": "yrfQxaZuQ_Cu"
      },
      "source": [
        "### 2. Define Network Model"
      ]
    },
    {
      "cell_type": "code",
      "source": [
        "model = nn.Sequential(\n",
        "    nn.Linear(data1.shape[1], 4096),\n",
        "    nn.ReLU(),\n",
        "    nn.Linear(4096, 1024),\n",
        "    nn.ReLU(),\n",
        "    nn.Linear(1024, 512),\n",
        "    nn.ReLU(),\n",
        "    nn.Linear(512, 256),\n",
        "    nn.ReLU(),\n",
        "    nn.Linear(256, 64),\n",
        "    nn.ReLU(),\n",
        "    nn.Linear(64, 5),\n",
        ")"
      ],
      "metadata": {
        "id": "r5L-9svIahUL"
      },
      "execution_count": 215,
      "outputs": []
    },
    {
      "cell_type": "markdown",
      "metadata": {
        "id": "kou-HHh0a_46"
      },
      "source": [
        "### 3. Define Optimizer & Loss function"
      ]
    },
    {
      "cell_type": "code",
      "source": [
        "criterion = nn.CrossEntropyLoss()\n",
        "\n",
        "# specify optimizer\n",
        "optimizer = torch.optim.SGD(model.parameters(), lr=0.05, momentum= 0.4)\n",
        "scheduler = torch.optim.lr_scheduler.ExponentialLR(optimizer, gamma=0.9)\n"
      ],
      "metadata": {
        "id": "-YODRLeIbIW1"
      },
      "execution_count": 216,
      "outputs": []
    },
    {
      "cell_type": "markdown",
      "metadata": {
        "id": "ekStACBkaXTt"
      },
      "source": [
        "### 4. Train Model"
      ]
    },
    {
      "cell_type": "code",
      "source": [
        "n_epochs = 300\n",
        "model.train() # prep model for training\n",
        "for epoch in range(n_epochs):\n",
        "    train_loss = 0.0\n",
        "    for data, target in train_loader:\n",
        "\n",
        "        optimizer.zero_grad()\n",
        "        # forward pass: compute predicted outputs by passing inputs to the model\n",
        "        output = model(data)\n",
        "        # calculate the loss\n",
        "        target = (target - 1)\n",
        "\n",
        "        loss = criterion(output, target)\n",
        "        # backward pass: compute gradient of the loss with respect to model parameters\n",
        "        loss.backward()\n",
        "        # perform a single optimization step (parameter update)\n",
        "        optimizer.step()\n",
        "        # update running training loss\n",
        "        train_loss += loss.item()*data.size(0)\n",
        "    if epoch % 8 == 0:\n",
        "      scheduler.step()\n",
        "    # calculate average loss over an epoch\n",
        "    train_loss = train_loss/len(train_loader.dataset)\n",
        "\n",
        "    print('Epoch: {} \\tTraining Loss: {:.6f}'.format(\n",
        "        epoch+1,\n",
        "        train_loss\n",
        "        ))"
      ],
      "metadata": {
        "colab": {
          "base_uri": "https://localhost:8080/"
        },
        "id": "fb03-ofYfEup",
        "outputId": "0e606783-b785-479b-e0af-bec1fe957893"
      },
      "execution_count": 217,
      "outputs": [
        {
          "output_type": "stream",
          "name": "stdout",
          "text": [
            "Epoch: 1 \tTraining Loss: 1.355573\n",
            "Epoch: 2 \tTraining Loss: 1.194636\n",
            "Epoch: 3 \tTraining Loss: 1.064943\n",
            "Epoch: 4 \tTraining Loss: 1.049726\n",
            "Epoch: 5 \tTraining Loss: 1.041389\n",
            "Epoch: 6 \tTraining Loss: 1.031460\n",
            "Epoch: 7 \tTraining Loss: 1.035191\n",
            "Epoch: 8 \tTraining Loss: 1.027475\n",
            "Epoch: 9 \tTraining Loss: 1.065498\n",
            "Epoch: 10 \tTraining Loss: 1.055852\n",
            "Epoch: 11 \tTraining Loss: 1.042225\n",
            "Epoch: 12 \tTraining Loss: 1.031426\n",
            "Epoch: 13 \tTraining Loss: 1.041744\n",
            "Epoch: 14 \tTraining Loss: 1.005547\n",
            "Epoch: 15 \tTraining Loss: 1.021596\n",
            "Epoch: 16 \tTraining Loss: 1.037935\n",
            "Epoch: 17 \tTraining Loss: 0.946151\n",
            "Epoch: 18 \tTraining Loss: 1.066132\n",
            "Epoch: 19 \tTraining Loss: 0.951131\n",
            "Epoch: 20 \tTraining Loss: 0.934879\n",
            "Epoch: 21 \tTraining Loss: 0.929560\n",
            "Epoch: 22 \tTraining Loss: 1.007731\n",
            "Epoch: 23 \tTraining Loss: 0.948489\n",
            "Epoch: 24 \tTraining Loss: 0.844370\n",
            "Epoch: 25 \tTraining Loss: 0.898435\n",
            "Epoch: 26 \tTraining Loss: 1.062848\n",
            "Epoch: 27 \tTraining Loss: 1.023034\n",
            "Epoch: 28 \tTraining Loss: 0.987854\n",
            "Epoch: 29 \tTraining Loss: 0.985638\n",
            "Epoch: 30 \tTraining Loss: 0.978899\n",
            "Epoch: 31 \tTraining Loss: 0.988202\n",
            "Epoch: 32 \tTraining Loss: 0.959078\n",
            "Epoch: 33 \tTraining Loss: 0.920928\n",
            "Epoch: 34 \tTraining Loss: 0.846104\n",
            "Epoch: 35 \tTraining Loss: 0.805671\n",
            "Epoch: 36 \tTraining Loss: 1.000140\n",
            "Epoch: 37 \tTraining Loss: 1.022902\n",
            "Epoch: 38 \tTraining Loss: 1.055279\n",
            "Epoch: 39 \tTraining Loss: 1.038639\n",
            "Epoch: 40 \tTraining Loss: 1.036450\n",
            "Epoch: 41 \tTraining Loss: 1.027555\n",
            "Epoch: 42 \tTraining Loss: 1.028889\n",
            "Epoch: 43 \tTraining Loss: 1.021461\n",
            "Epoch: 44 \tTraining Loss: 1.008728\n",
            "Epoch: 45 \tTraining Loss: 0.992389\n",
            "Epoch: 46 \tTraining Loss: 0.949177\n",
            "Epoch: 47 \tTraining Loss: 0.873150\n",
            "Epoch: 48 \tTraining Loss: 1.075685\n",
            "Epoch: 49 \tTraining Loss: 0.982455\n",
            "Epoch: 50 \tTraining Loss: 0.936035\n",
            "Epoch: 51 \tTraining Loss: 0.986593\n",
            "Epoch: 52 \tTraining Loss: 0.975589\n",
            "Epoch: 53 \tTraining Loss: 0.832412\n",
            "Epoch: 54 \tTraining Loss: 1.002958\n",
            "Epoch: 55 \tTraining Loss: 0.875355\n",
            "Epoch: 56 \tTraining Loss: 0.889139\n",
            "Epoch: 57 \tTraining Loss: 1.115798\n",
            "Epoch: 58 \tTraining Loss: 1.049716\n",
            "Epoch: 59 \tTraining Loss: 1.035381\n",
            "Epoch: 60 \tTraining Loss: 1.018157\n",
            "Epoch: 61 \tTraining Loss: 1.022551\n",
            "Epoch: 62 \tTraining Loss: 0.987895\n",
            "Epoch: 63 \tTraining Loss: 0.961702\n",
            "Epoch: 64 \tTraining Loss: 0.927451\n",
            "Epoch: 65 \tTraining Loss: 0.855709\n",
            "Epoch: 66 \tTraining Loss: 1.064977\n",
            "Epoch: 67 \tTraining Loss: 0.957696\n",
            "Epoch: 68 \tTraining Loss: 0.928439\n",
            "Epoch: 69 \tTraining Loss: 0.977610\n",
            "Epoch: 70 \tTraining Loss: 1.052461\n",
            "Epoch: 71 \tTraining Loss: 1.037740\n",
            "Epoch: 72 \tTraining Loss: 1.026635\n",
            "Epoch: 73 \tTraining Loss: 1.005126\n",
            "Epoch: 74 \tTraining Loss: 0.927762\n",
            "Epoch: 75 \tTraining Loss: 0.960891\n",
            "Epoch: 76 \tTraining Loss: 0.959593\n",
            "Epoch: 77 \tTraining Loss: 0.948409\n",
            "Epoch: 78 \tTraining Loss: 0.901706\n",
            "Epoch: 79 \tTraining Loss: 0.922795\n",
            "Epoch: 80 \tTraining Loss: 0.791115\n",
            "Epoch: 81 \tTraining Loss: 0.910530\n",
            "Epoch: 82 \tTraining Loss: 1.028627\n",
            "Epoch: 83 \tTraining Loss: 1.039800\n",
            "Epoch: 84 \tTraining Loss: 1.038251\n",
            "Epoch: 85 \tTraining Loss: 1.038194\n",
            "Epoch: 86 \tTraining Loss: 1.037921\n",
            "Epoch: 87 \tTraining Loss: 1.037555\n",
            "Epoch: 88 \tTraining Loss: 1.037826\n",
            "Epoch: 89 \tTraining Loss: 1.037270\n",
            "Epoch: 90 \tTraining Loss: 1.037454\n",
            "Epoch: 91 \tTraining Loss: 1.037192\n",
            "Epoch: 92 \tTraining Loss: 1.036999\n",
            "Epoch: 93 \tTraining Loss: 1.037048\n",
            "Epoch: 94 \tTraining Loss: 1.037283\n",
            "Epoch: 95 \tTraining Loss: 1.037818\n",
            "Epoch: 96 \tTraining Loss: 1.037560\n",
            "Epoch: 97 \tTraining Loss: 1.037202\n",
            "Epoch: 98 \tTraining Loss: 1.036579\n",
            "Epoch: 99 \tTraining Loss: 1.037373\n",
            "Epoch: 100 \tTraining Loss: 1.037154\n",
            "Epoch: 101 \tTraining Loss: 1.038226\n",
            "Epoch: 102 \tTraining Loss: 1.037726\n",
            "Epoch: 103 \tTraining Loss: 1.036560\n",
            "Epoch: 104 \tTraining Loss: 1.037356\n",
            "Epoch: 105 \tTraining Loss: 1.036059\n",
            "Epoch: 106 \tTraining Loss: 1.036877\n",
            "Epoch: 107 \tTraining Loss: 1.036485\n",
            "Epoch: 108 \tTraining Loss: 1.036502\n",
            "Epoch: 109 \tTraining Loss: 1.036666\n",
            "Epoch: 110 \tTraining Loss: 1.037132\n",
            "Epoch: 111 \tTraining Loss: 1.036487\n",
            "Epoch: 112 \tTraining Loss: 1.036668\n",
            "Epoch: 113 \tTraining Loss: 1.036887\n",
            "Epoch: 114 \tTraining Loss: 1.036406\n",
            "Epoch: 115 \tTraining Loss: 1.036723\n",
            "Epoch: 116 \tTraining Loss: 1.036554\n",
            "Epoch: 117 \tTraining Loss: 1.036074\n",
            "Epoch: 118 \tTraining Loss: 1.037053\n",
            "Epoch: 119 \tTraining Loss: 1.036325\n",
            "Epoch: 120 \tTraining Loss: 1.036840\n",
            "Epoch: 121 \tTraining Loss: 1.037000\n",
            "Epoch: 122 \tTraining Loss: 1.036841\n",
            "Epoch: 123 \tTraining Loss: 1.036041\n",
            "Epoch: 124 \tTraining Loss: 1.036232\n",
            "Epoch: 125 \tTraining Loss: 1.036207\n",
            "Epoch: 126 \tTraining Loss: 1.036248\n",
            "Epoch: 127 \tTraining Loss: 1.036295\n",
            "Epoch: 128 \tTraining Loss: 1.036794\n",
            "Epoch: 129 \tTraining Loss: 1.036646\n",
            "Epoch: 130 \tTraining Loss: 1.036537\n",
            "Epoch: 131 \tTraining Loss: 1.036164\n",
            "Epoch: 132 \tTraining Loss: 1.036001\n",
            "Epoch: 133 \tTraining Loss: 1.037028\n",
            "Epoch: 134 \tTraining Loss: 1.036085\n",
            "Epoch: 135 \tTraining Loss: 1.035960\n",
            "Epoch: 136 \tTraining Loss: 1.036499\n",
            "Epoch: 137 \tTraining Loss: 1.036284\n",
            "Epoch: 138 \tTraining Loss: 1.035676\n",
            "Epoch: 139 \tTraining Loss: 1.036348\n",
            "Epoch: 140 \tTraining Loss: 1.036549\n",
            "Epoch: 141 \tTraining Loss: 1.036157\n",
            "Epoch: 142 \tTraining Loss: 1.036304\n",
            "Epoch: 143 \tTraining Loss: 1.036419\n",
            "Epoch: 144 \tTraining Loss: 1.035676\n",
            "Epoch: 145 \tTraining Loss: 1.036136\n",
            "Epoch: 146 \tTraining Loss: 1.036155\n",
            "Epoch: 147 \tTraining Loss: 1.035824\n",
            "Epoch: 148 \tTraining Loss: 1.035746\n",
            "Epoch: 149 \tTraining Loss: 1.035796\n",
            "Epoch: 150 \tTraining Loss: 1.035773\n",
            "Epoch: 151 \tTraining Loss: 1.035639\n",
            "Epoch: 152 \tTraining Loss: 1.035797\n",
            "Epoch: 153 \tTraining Loss: 1.036062\n",
            "Epoch: 154 \tTraining Loss: 1.035885\n",
            "Epoch: 155 \tTraining Loss: 1.035697\n",
            "Epoch: 156 \tTraining Loss: 1.035954\n",
            "Epoch: 157 \tTraining Loss: 1.036219\n",
            "Epoch: 158 \tTraining Loss: 1.036078\n",
            "Epoch: 159 \tTraining Loss: 1.036101\n",
            "Epoch: 160 \tTraining Loss: 1.036264\n",
            "Epoch: 161 \tTraining Loss: 1.036169\n",
            "Epoch: 162 \tTraining Loss: 1.036068\n",
            "Epoch: 163 \tTraining Loss: 1.035624\n",
            "Epoch: 164 \tTraining Loss: 1.035795\n",
            "Epoch: 165 \tTraining Loss: 1.035864\n",
            "Epoch: 166 \tTraining Loss: 1.035900\n",
            "Epoch: 167 \tTraining Loss: 1.035797\n",
            "Epoch: 168 \tTraining Loss: 1.035728\n",
            "Epoch: 169 \tTraining Loss: 1.036278\n",
            "Epoch: 170 \tTraining Loss: 1.035534\n",
            "Epoch: 171 \tTraining Loss: 1.035442\n",
            "Epoch: 172 \tTraining Loss: 1.035685\n",
            "Epoch: 173 \tTraining Loss: 1.035399\n",
            "Epoch: 174 \tTraining Loss: 1.035706\n",
            "Epoch: 175 \tTraining Loss: 1.035763\n",
            "Epoch: 176 \tTraining Loss: 1.035664\n",
            "Epoch: 177 \tTraining Loss: 1.035499\n",
            "Epoch: 178 \tTraining Loss: 1.035587\n",
            "Epoch: 179 \tTraining Loss: 1.035722\n",
            "Epoch: 180 \tTraining Loss: 1.035349\n",
            "Epoch: 181 \tTraining Loss: 1.035568\n",
            "Epoch: 182 \tTraining Loss: 1.035445\n",
            "Epoch: 183 \tTraining Loss: 1.035358\n",
            "Epoch: 184 \tTraining Loss: 1.035953\n",
            "Epoch: 185 \tTraining Loss: 1.035622\n",
            "Epoch: 186 \tTraining Loss: 1.035522\n",
            "Epoch: 187 \tTraining Loss: 1.035446\n",
            "Epoch: 188 \tTraining Loss: 1.035584\n",
            "Epoch: 189 \tTraining Loss: 1.035324\n",
            "Epoch: 190 \tTraining Loss: 1.035478\n",
            "Epoch: 191 \tTraining Loss: 1.035504\n",
            "Epoch: 192 \tTraining Loss: 1.035419\n",
            "Epoch: 193 \tTraining Loss: 1.035657\n",
            "Epoch: 194 \tTraining Loss: 1.035489\n",
            "Epoch: 195 \tTraining Loss: 1.035226\n",
            "Epoch: 196 \tTraining Loss: 1.035571\n",
            "Epoch: 197 \tTraining Loss: 1.035624\n",
            "Epoch: 198 \tTraining Loss: 1.035432\n",
            "Epoch: 199 \tTraining Loss: 1.035532\n",
            "Epoch: 200 \tTraining Loss: 1.035482\n",
            "Epoch: 201 \tTraining Loss: 1.035441\n",
            "Epoch: 202 \tTraining Loss: 1.035330\n",
            "Epoch: 203 \tTraining Loss: 1.035558\n",
            "Epoch: 204 \tTraining Loss: 1.035325\n",
            "Epoch: 205 \tTraining Loss: 1.035440\n",
            "Epoch: 206 \tTraining Loss: 1.035390\n",
            "Epoch: 207 \tTraining Loss: 1.035461\n",
            "Epoch: 208 \tTraining Loss: 1.035373\n",
            "Epoch: 209 \tTraining Loss: 1.035634\n",
            "Epoch: 210 \tTraining Loss: 1.035355\n",
            "Epoch: 211 \tTraining Loss: 1.035341\n",
            "Epoch: 212 \tTraining Loss: 1.035188\n",
            "Epoch: 213 \tTraining Loss: 1.035435\n",
            "Epoch: 214 \tTraining Loss: 1.035308\n",
            "Epoch: 215 \tTraining Loss: 1.035231\n",
            "Epoch: 216 \tTraining Loss: 1.035443\n",
            "Epoch: 217 \tTraining Loss: 1.035375\n",
            "Epoch: 218 \tTraining Loss: 1.035316\n",
            "Epoch: 219 \tTraining Loss: 1.035235\n",
            "Epoch: 220 \tTraining Loss: 1.035323\n",
            "Epoch: 221 \tTraining Loss: 1.035539\n",
            "Epoch: 222 \tTraining Loss: 1.035267\n",
            "Epoch: 223 \tTraining Loss: 1.035199\n",
            "Epoch: 224 \tTraining Loss: 1.035440\n",
            "Epoch: 225 \tTraining Loss: 1.035275\n",
            "Epoch: 226 \tTraining Loss: 1.035251\n",
            "Epoch: 227 \tTraining Loss: 1.035253\n",
            "Epoch: 228 \tTraining Loss: 1.035193\n",
            "Epoch: 229 \tTraining Loss: 1.035233\n",
            "Epoch: 230 \tTraining Loss: 1.035252\n",
            "Epoch: 231 \tTraining Loss: 1.035219\n",
            "Epoch: 232 \tTraining Loss: 1.035375\n",
            "Epoch: 233 \tTraining Loss: 1.035267\n",
            "Epoch: 234 \tTraining Loss: 1.035266\n",
            "Epoch: 235 \tTraining Loss: 1.035210\n",
            "Epoch: 236 \tTraining Loss: 1.035161\n",
            "Epoch: 237 \tTraining Loss: 1.035254\n",
            "Epoch: 238 \tTraining Loss: 1.035225\n",
            "Epoch: 239 \tTraining Loss: 1.035164\n",
            "Epoch: 240 \tTraining Loss: 1.035263\n",
            "Epoch: 241 \tTraining Loss: 1.035236\n",
            "Epoch: 242 \tTraining Loss: 1.035124\n",
            "Epoch: 243 \tTraining Loss: 1.035167\n",
            "Epoch: 244 \tTraining Loss: 1.035234\n",
            "Epoch: 245 \tTraining Loss: 1.035242\n",
            "Epoch: 246 \tTraining Loss: 1.035239\n",
            "Epoch: 247 \tTraining Loss: 1.035182\n",
            "Epoch: 248 \tTraining Loss: 1.035398\n",
            "Epoch: 249 \tTraining Loss: 1.035198\n",
            "Epoch: 250 \tTraining Loss: 1.035235\n",
            "Epoch: 251 \tTraining Loss: 1.035118\n",
            "Epoch: 252 \tTraining Loss: 1.035182\n",
            "Epoch: 253 \tTraining Loss: 1.035200\n",
            "Epoch: 254 \tTraining Loss: 1.035143\n",
            "Epoch: 255 \tTraining Loss: 1.035151\n",
            "Epoch: 256 \tTraining Loss: 1.035163\n",
            "Epoch: 257 \tTraining Loss: 1.035235\n",
            "Epoch: 258 \tTraining Loss: 1.035209\n",
            "Epoch: 259 \tTraining Loss: 1.035174\n",
            "Epoch: 260 \tTraining Loss: 1.035131\n",
            "Epoch: 261 \tTraining Loss: 1.035131\n",
            "Epoch: 262 \tTraining Loss: 1.035135\n",
            "Epoch: 263 \tTraining Loss: 1.035128\n",
            "Epoch: 264 \tTraining Loss: 1.035145\n",
            "Epoch: 265 \tTraining Loss: 1.035162\n",
            "Epoch: 266 \tTraining Loss: 1.035069\n",
            "Epoch: 267 \tTraining Loss: 1.035070\n",
            "Epoch: 268 \tTraining Loss: 1.035077\n",
            "Epoch: 269 \tTraining Loss: 1.035101\n",
            "Epoch: 270 \tTraining Loss: 1.035144\n",
            "Epoch: 271 \tTraining Loss: 1.035110\n",
            "Epoch: 272 \tTraining Loss: 1.035163\n",
            "Epoch: 273 \tTraining Loss: 1.035126\n",
            "Epoch: 274 \tTraining Loss: 1.035077\n",
            "Epoch: 275 \tTraining Loss: 1.035173\n",
            "Epoch: 276 \tTraining Loss: 1.035072\n",
            "Epoch: 277 \tTraining Loss: 1.035086\n",
            "Epoch: 278 \tTraining Loss: 1.035051\n",
            "Epoch: 279 \tTraining Loss: 1.035169\n",
            "Epoch: 280 \tTraining Loss: 1.035079\n",
            "Epoch: 281 \tTraining Loss: 1.035043\n",
            "Epoch: 282 \tTraining Loss: 1.035089\n",
            "Epoch: 283 \tTraining Loss: 1.035034\n",
            "Epoch: 284 \tTraining Loss: 1.035073\n",
            "Epoch: 285 \tTraining Loss: 1.035074\n",
            "Epoch: 286 \tTraining Loss: 1.035052\n",
            "Epoch: 287 \tTraining Loss: 1.035080\n",
            "Epoch: 288 \tTraining Loss: 1.035068\n",
            "Epoch: 289 \tTraining Loss: 1.035082\n",
            "Epoch: 290 \tTraining Loss: 1.035069\n",
            "Epoch: 291 \tTraining Loss: 1.035070\n",
            "Epoch: 292 \tTraining Loss: 1.035059\n",
            "Epoch: 293 \tTraining Loss: 1.035044\n",
            "Epoch: 294 \tTraining Loss: 1.035001\n",
            "Epoch: 295 \tTraining Loss: 1.035003\n",
            "Epoch: 296 \tTraining Loss: 1.035032\n",
            "Epoch: 297 \tTraining Loss: 1.035020\n",
            "Epoch: 298 \tTraining Loss: 1.035038\n",
            "Epoch: 299 \tTraining Loss: 1.035085\n",
            "Epoch: 300 \tTraining Loss: 1.035063\n"
          ]
        }
      ]
    },
    {
      "cell_type": "code",
      "source": [
        "from sklearn import metrics\n",
        "\n",
        "model.eval() # prep model for training\n",
        "mlp_labels=[]\n",
        "mlp_targets=[]\n",
        "    # monitor training loss\n",
        "val_loss = 0.0\n",
        "\n",
        "for data, target in val_loader:\n",
        "    output = model(data)\n",
        "    p_label = torch.argmax(output,dim=1)\n",
        "    target = (target - 1)\n",
        "    loss = criterion(output, target)\n",
        "    val_loss += loss.item()*data.size(0)\n",
        "    mlp_labels+=p_label\n",
        "    mlp_targets+=target\n",
        "# calculate average loss over an epoch\n",
        "val_loss = val_loss/len(val_loader.dataset)\n",
        "f1 = metrics.f1_score(mlp_targets, mlp_labels, average='weighted')\n",
        "print(f'f1 = {f1}')\n",
        "print('Epoch: {} \\tTest Loss: {:.6f}'.format(\n",
        "    epoch+1,\n",
        "    val_loss\n",
        "    ))"
      ],
      "metadata": {
        "id": "s7B2GYbxmjLg",
        "colab": {
          "base_uri": "https://localhost:8080/"
        },
        "outputId": "98b0bfc1-e94e-4703-88c6-ed09afeb412c"
      },
      "execution_count": 218,
      "outputs": [
        {
          "output_type": "stream",
          "name": "stdout",
          "text": [
            "f1 = 0.5542594556380346\n",
            "Epoch: 300 \tTest Loss: 1.031974\n"
          ]
        }
      ]
    },
    {
      "cell_type": "markdown",
      "metadata": {
        "id": "dOLtfztkAf0D"
      },
      "source": [
        "## USPS  Data\n",
        "class_num = 10\n",
        "\n"
      ]
    },
    {
      "cell_type": "markdown",
      "metadata": {
        "id": "KQneB-9NAf0E"
      },
      "source": [
        "### 1. Load Data"
      ]
    },
    {
      "cell_type": "code",
      "source": [
        "data1 = USPS['X']\n",
        "labels = USPS['Y']\n",
        "# n_class = ids2['class_num']\n",
        "data1.shape"
      ],
      "metadata": {
        "colab": {
          "base_uri": "https://localhost:8080/"
        },
        "outputId": "1f6e797f-a7f9-4fa5-aa27-35299e7dd01a",
        "id": "7oYrrr11Af0E"
      },
      "execution_count": 235,
      "outputs": [
        {
          "output_type": "execute_result",
          "data": {
            "text/plain": [
              "(9298, 256)"
            ]
          },
          "metadata": {},
          "execution_count": 235
        }
      ]
    },
    {
      "cell_type": "code",
      "source": [
        "true_labels = labels.reshape(-1)"
      ],
      "metadata": {
        "id": "NJrj2ybrAf0E"
      },
      "execution_count": 236,
      "outputs": []
    },
    {
      "cell_type": "code",
      "source": [
        "from torch.utils.data import TensorDataset, DataLoader, random_split\n",
        "\n",
        "input_tensor = torch.tensor(data1, dtype=torch.float32)\n",
        "label_tensor = torch.tensor(true_labels, dtype=torch.long)  # Assuming labels are integers\n",
        "\n",
        "# Create a TensorDataset\n",
        "dataset = TensorDataset(input_tensor, label_tensor)\n",
        "\n",
        "torch.manual_seed(42)\n",
        "\n",
        "# Shuffle the dataset\n",
        "shuffled_dataset = torch.utils.data.random_split(dataset, [int(len(dataset)*0.8), len(dataset) - int(len(dataset)*0.8)])\n",
        "\n",
        "# Split into training and validation sets8 (0% train, 20% validation)\n",
        "train_dataset, val_dataset = shuffled_dataset\n",
        "\n",
        "# Create DataLoaders for training and validation\n",
        "batch_size = 8\n",
        "train_loader = DataLoader(train_dataset, batch_size=batch_size, shuffle=True)\n",
        "val_loader = DataLoader(val_dataset, batch_size=batch_size, shuffle=False)\n",
        "\n",
        "\n",
        "\n",
        "\n",
        "# dataset = torch.utils.data.TensorDataset(torch.tensor(data1),torch.tensor(labels))\n",
        "# dataset = torch.cat((a, b))\n",
        "# print(dataset)"
      ],
      "metadata": {
        "id": "CS9UI7_1Af0E"
      },
      "execution_count": 237,
      "outputs": []
    },
    {
      "cell_type": "markdown",
      "metadata": {
        "id": "zcgizx7XAf0E"
      },
      "source": [
        "### 2. Define Network Model"
      ]
    },
    {
      "cell_type": "code",
      "source": [
        "model = nn.Sequential(\n",
        "    nn.Linear(data1.shape[1], 4096),\n",
        "    nn.ReLU(),\n",
        "    nn.Linear(4096, 1024),\n",
        "    nn.ReLU(),\n",
        "    nn.Linear(1024, 512),\n",
        "    nn.ReLU(),\n",
        "    nn.Linear(512, 256),\n",
        "    nn.ReLU(),\n",
        "    nn.Linear(256, 64),\n",
        "    nn.ReLU(),\n",
        "    # nn.Linear(128, 64),\n",
        "    # nn.ReLU(),\n",
        "    # nn.Linear(64, 32),\n",
        "    # nn.ReLU(),\n",
        "    # nn.Linear(32, 16),\n",
        "    # nn.ReLU(),\n",
        "    # nn.Linear(16, 8),\n",
        "    # nn.ReLU(),\n",
        "    nn.Linear(64, 10),\n",
        ")"
      ],
      "metadata": {
        "id": "EUAJHbiQAf0E"
      },
      "execution_count": 238,
      "outputs": []
    },
    {
      "cell_type": "markdown",
      "metadata": {
        "id": "sQ7-dHOLAf0F"
      },
      "source": [
        "### 3. Define Optimizer & Loss function"
      ]
    },
    {
      "cell_type": "code",
      "source": [
        "criterion = nn.CrossEntropyLoss()\n",
        "\n",
        "# specify optimizer\n",
        "optimizer = torch.optim.SGD(model.parameters(), lr=0.05, momentum= 0.4)\n",
        "scheduler = torch.optim.lr_scheduler.ExponentialLR(optimizer, gamma=0.9)\n"
      ],
      "metadata": {
        "id": "tvYTjHpDAf0F"
      },
      "execution_count": 239,
      "outputs": []
    },
    {
      "cell_type": "markdown",
      "metadata": {
        "id": "DUJYVtflAf0F"
      },
      "source": [
        "### 4. Train Model"
      ]
    },
    {
      "cell_type": "code",
      "source": [
        "n_epochs = 20\n",
        "model.train() # prep model for training\n",
        "for epoch in range(n_epochs):\n",
        "    train_loss = 0.0\n",
        "    for data, target in train_loader:\n",
        "\n",
        "        optimizer.zero_grad()\n",
        "        # forward pass: compute predicted outputs by passing inputs to the model\n",
        "        output = model(data)\n",
        "        # calculate the loss\n",
        "        target = (target - 1)\n",
        "\n",
        "        loss = criterion(output, target)\n",
        "        # backward pass: compute gradient of the loss with respect to model parameters\n",
        "        loss.backward()\n",
        "        # perform a single optimization step (parameter update)\n",
        "        optimizer.step()\n",
        "        # update running training loss\n",
        "        train_loss += loss.item()*data.size(0)\n",
        "    if epoch % 8 == 0:\n",
        "      scheduler.step()\n",
        "    # calculate average loss over an epoch\n",
        "    train_loss = train_loss/len(train_loader.dataset)\n",
        "\n",
        "    print('Epoch: {} \\tTraining Loss: {:.6f}'.format(\n",
        "        epoch+1,\n",
        "        train_loss\n",
        "        ))"
      ],
      "metadata": {
        "colab": {
          "base_uri": "https://localhost:8080/"
        },
        "outputId": "55e79639-c7bb-483e-ba1e-82b95b67a0e3",
        "id": "LCb1dnz9Af0F"
      },
      "execution_count": 240,
      "outputs": [
        {
          "output_type": "stream",
          "name": "stdout",
          "text": [
            "Epoch: 1 \tTraining Loss: 0.705083\n",
            "Epoch: 2 \tTraining Loss: 0.225714\n",
            "Epoch: 3 \tTraining Loss: 0.166660\n",
            "Epoch: 4 \tTraining Loss: 0.135345\n",
            "Epoch: 5 \tTraining Loss: 0.115180\n",
            "Epoch: 6 \tTraining Loss: 0.110342\n",
            "Epoch: 7 \tTraining Loss: 0.086636\n",
            "Epoch: 8 \tTraining Loss: 0.080404\n",
            "Epoch: 9 \tTraining Loss: 0.080753\n",
            "Epoch: 10 \tTraining Loss: 0.047282\n",
            "Epoch: 11 \tTraining Loss: 0.034678\n",
            "Epoch: 12 \tTraining Loss: 0.045936\n",
            "Epoch: 13 \tTraining Loss: 0.048118\n",
            "Epoch: 14 \tTraining Loss: 0.045640\n",
            "Epoch: 15 \tTraining Loss: 0.035475\n",
            "Epoch: 16 \tTraining Loss: 0.036140\n",
            "Epoch: 17 \tTraining Loss: 0.030556\n",
            "Epoch: 18 \tTraining Loss: 0.019269\n",
            "Epoch: 19 \tTraining Loss: 0.019343\n",
            "Epoch: 20 \tTraining Loss: 0.009187\n"
          ]
        }
      ]
    },
    {
      "cell_type": "code",
      "source": [
        "from sklearn import metrics\n",
        "\n",
        "model.eval() # prep model for training\n",
        "mlp_labels=[]\n",
        "mlp_targets=[]\n",
        "    # monitor training loss\n",
        "val_loss = 0.0\n",
        "\n",
        "for data, target in val_loader:\n",
        "    output = model(data)\n",
        "    p_label = torch.argmax(output,dim=1)\n",
        "    target = (target - 1)\n",
        "    loss = criterion(output, target)\n",
        "    val_loss += loss.item()*data.size(0)\n",
        "    mlp_labels+=p_label\n",
        "    mlp_targets+=target\n",
        "# calculate average loss over an epoch\n",
        "val_loss = val_loss/len(val_loader.dataset)\n",
        "f1 = metrics.f1_score(mlp_targets, mlp_labels, average='weighted')\n",
        "print(f'f1 = {f1}')\n",
        "print('Epoch: {} \\tTest Loss: {:.6f}'.format(\n",
        "    epoch+1,\n",
        "    val_loss\n",
        "    ))"
      ],
      "metadata": {
        "colab": {
          "base_uri": "https://localhost:8080/"
        },
        "outputId": "f781219b-33ed-43a2-beb6-6ff768f6c31a",
        "id": "2YIJiSoOAf0F"
      },
      "execution_count": 241,
      "outputs": [
        {
          "output_type": "stream",
          "name": "stdout",
          "text": [
            "f1 = 0.977438662706033\n",
            "Epoch: 20 \tTest Loss: 0.103853\n"
          ]
        }
      ]
    },
    {
      "cell_type": "markdown",
      "metadata": {
        "id": "_PcQ-rR4Tt-S"
      },
      "source": [
        "#  ***Question 4: Train SOM then MLP***\n"
      ]
    },
    {
      "cell_type": "markdown",
      "metadata": {
        "id": "PM-Uzo299dOY"
      },
      "source": [
        "## lung  Data\n",
        "map_size = (4, 4),\n",
        "class_num = 4\n",
        "\n"
      ]
    },
    {
      "cell_type": "markdown",
      "source": [
        "Choose data"
      ],
      "metadata": {
        "id": "WPaGj9Le9dOh"
      }
    },
    {
      "cell_type": "code",
      "source": [
        "data = lung['X']\n",
        "labels = lung['Y']\n",
        "# n_class = ids2['class_num']\n",
        "data.shape"
      ],
      "metadata": {
        "colab": {
          "base_uri": "https://localhost:8080/"
        },
        "outputId": "55b8f322-e9a9-4498-ee5b-c897f8ecc746",
        "id": "NVKVCESD9dOi"
      },
      "execution_count": 261,
      "outputs": [
        {
          "output_type": "execute_result",
          "data": {
            "text/plain": [
              "(203, 3312)"
            ]
          },
          "metadata": {},
          "execution_count": 261
        }
      ]
    },
    {
      "cell_type": "code",
      "source": [
        "true_labels = labels.reshape(-1)"
      ],
      "metadata": {
        "id": "NrSYHcT79dOi"
      },
      "execution_count": 262,
      "outputs": []
    },
    {
      "cell_type": "code",
      "source": [
        "from sklearn import metrics\n",
        "\n",
        "input_size = data.shape[1]\n",
        "# Define SOM parameters\n",
        "map_size = (4, 4)\n",
        "learning_rate = 0.1\n",
        "num_epochs = 10000\n",
        "\n",
        "# Create and initialize the SOM\n",
        "som = MiniSom(map_size[0], map_size[1], input_size,topology='hexagonal', sigma=1.0, learning_rate=learning_rate)\n",
        "\n",
        "# Train the SOM\n",
        "som.train_random(data, num_epochs)\n",
        "\n",
        "# Get the cluster assignments for each data point\n",
        "cluster_assignments = np.array([som.winner(sample) for sample in data])\n",
        "\n",
        "# # Reshape the cluster assignments for compatibility with sklearn metrics\n",
        "# cluster_assignments_flat = cluster_assignments[:, 0] * map_size[1] + cluster_assignments[:, 1] +1\n",
        "\n",
        "# clusters = np.unique(cluster_assignments_flat)\n",
        "# mapped_labels = np.zeros_like(cluster_assignments_flat)\n",
        "# map = {cluster: np.argmax(np.bincount(true_labels[np.where(cluster_assignments_flat == cluster)[0]].flatten())) for cluster in clusters}\n",
        "\n",
        "# mapped_labels = np.array([map[cluster] for cluster in cluster_assignments_flat])\n",
        "\n",
        "\n",
        "# # # Calculate F1 score\n",
        "# f1 = metrics.f1_score(true_labels, mapped_labels, average='weighted')\n",
        "\n",
        "# # Calculate Normalized Mutual Information (NMI)\n",
        "# nmi = metrics.normalized_mutual_info_score(true_labels, mapped_labels)\n",
        "\n",
        "# # Print the results\n",
        "# print(f\"F1 Score: {f1}\")\n",
        "# print(f\"Normalized Mutual Information (NMI): {nmi}\")\n"
      ],
      "metadata": {
        "id": "9OYkFF2Q9dOi"
      },
      "execution_count": 263,
      "outputs": []
    },
    {
      "cell_type": "code",
      "source": [
        "data1 = cluster_assignments\n",
        "labels = lung['Y']\n",
        "# n_class = ids2['class_num']\n",
        "data1.shape"
      ],
      "metadata": {
        "colab": {
          "base_uri": "https://localhost:8080/"
        },
        "outputId": "5c510c05-5892-4c80-b60a-676c60a137a4",
        "id": "mtLuYD9T29dR"
      },
      "execution_count": 264,
      "outputs": [
        {
          "output_type": "execute_result",
          "data": {
            "text/plain": [
              "(203, 2)"
            ]
          },
          "metadata": {},
          "execution_count": 264
        }
      ]
    },
    {
      "cell_type": "code",
      "source": [
        "true_labels = labels.reshape(-1)"
      ],
      "metadata": {
        "id": "vTpG-lfm29dS"
      },
      "execution_count": 265,
      "outputs": []
    },
    {
      "cell_type": "code",
      "source": [
        "from torch.utils.data import TensorDataset, DataLoader, random_split\n",
        "\n",
        "input_tensor = torch.tensor(data1, dtype=torch.float32)\n",
        "label_tensor = torch.tensor(true_labels, dtype=torch.long)  # Assuming labels are integers\n",
        "\n",
        "# Create a TensorDataset\n",
        "dataset = TensorDataset(input_tensor, label_tensor)\n",
        "\n",
        "torch.manual_seed(42)\n",
        "\n",
        "# Shuffle the dataset\n",
        "shuffled_dataset = torch.utils.data.random_split(dataset, [int(len(dataset)*0.8), len(dataset) - int(len(dataset)*0.8)])\n",
        "\n",
        "# Split into training and validation sets8 (0% train, 20% validation)\n",
        "train_dataset, val_dataset = shuffled_dataset\n",
        "\n",
        "# Create DataLoaders for training and validation\n",
        "batch_size = 8\n",
        "train_loader = DataLoader(train_dataset, batch_size=batch_size, shuffle=True)\n",
        "val_loader = DataLoader(val_dataset, batch_size=batch_size, shuffle=False)\n",
        "\n",
        "\n",
        "\n",
        "\n",
        "# dataset = torch.utils.data.TensorDataset(torch.tensor(data1),torch.tensor(labels))\n",
        "# dataset = torch.cat((a, b))\n",
        "# print(dataset)"
      ],
      "metadata": {
        "id": "aW7SkqF129dS"
      },
      "execution_count": 266,
      "outputs": []
    },
    {
      "cell_type": "code",
      "source": [
        "model = nn.Sequential(\n",
        "    nn.Linear(data1.shape[1], 4096),\n",
        "    nn.ReLU(),\n",
        "    nn.Linear(4096, 1024),\n",
        "    nn.ReLU(),\n",
        "    nn.Linear(1024, 512),\n",
        "    nn.ReLU(),\n",
        "    nn.Linear(512, 256),\n",
        "    nn.ReLU(),\n",
        "    nn.Linear(256, 64),\n",
        "    nn.ReLU(),\n",
        "    # nn.Linear(128, 64),\n",
        "    # nn.ReLU(),\n",
        "    # nn.Linear(64, 32),\n",
        "    # nn.ReLU(),\n",
        "    # nn.Linear(32, 16),\n",
        "    # nn.ReLU(),\n",
        "    # nn.Linear(16, 8),\n",
        "    # nn.ReLU(),\n",
        "    nn.Linear(64, 5),\n",
        ")"
      ],
      "metadata": {
        "id": "DRfmF1rH29dS"
      },
      "execution_count": 267,
      "outputs": []
    },
    {
      "cell_type": "code",
      "source": [
        "criterion = nn.CrossEntropyLoss()\n",
        "\n",
        "# specify optimizer\n",
        "optimizer = torch.optim.SGD(model.parameters(), lr=0.05, momentum= 0.4)\n",
        "scheduler = torch.optim.lr_scheduler.ExponentialLR(optimizer, gamma=0.9)\n"
      ],
      "metadata": {
        "id": "-JdU-Rb_29dS"
      },
      "execution_count": 268,
      "outputs": []
    },
    {
      "cell_type": "code",
      "source": [
        "n_epochs = 300\n",
        "model.train() # prep model for training\n",
        "for epoch in range(n_epochs):\n",
        "    train_loss = 0.0\n",
        "    for data, target in train_loader:\n",
        "\n",
        "        optimizer.zero_grad()\n",
        "        # forward pass: compute predicted outputs by passing inputs to the model\n",
        "        output = model(data)\n",
        "        # calculate the loss\n",
        "        target = (target - 1)\n",
        "\n",
        "        loss = criterion(output, target)\n",
        "        # backward pass: compute gradient of the loss with respect to model parameters\n",
        "        loss.backward()\n",
        "        # perform a single optimization step (parameter update)\n",
        "        optimizer.step()\n",
        "        # update running training loss\n",
        "        train_loss += loss.item()*data.size(0)\n",
        "    if epoch % 8 == 0:\n",
        "      scheduler.step()\n",
        "    # calculate average loss over an epoch\n",
        "    train_loss = train_loss/len(train_loader.dataset)\n",
        "\n",
        "    print('Epoch: {} \\tTraining Loss: {:.6f}'.format(\n",
        "        epoch+1,\n",
        "        train_loss\n",
        "        ))"
      ],
      "metadata": {
        "colab": {
          "base_uri": "https://localhost:8080/"
        },
        "outputId": "b5008ab9-f51d-4451-c997-95d9e1649e29",
        "id": "1j6yWrDf29dS"
      },
      "execution_count": 269,
      "outputs": [
        {
          "output_type": "stream",
          "name": "stdout",
          "text": [
            "Epoch: 1 \tTraining Loss: 1.356591\n",
            "Epoch: 2 \tTraining Loss: 1.021594\n",
            "Epoch: 3 \tTraining Loss: 0.902715\n",
            "Epoch: 4 \tTraining Loss: 0.741793\n",
            "Epoch: 5 \tTraining Loss: 0.763751\n",
            "Epoch: 6 \tTraining Loss: 0.785025\n",
            "Epoch: 7 \tTraining Loss: 0.609881\n",
            "Epoch: 8 \tTraining Loss: 0.521468\n",
            "Epoch: 9 \tTraining Loss: 0.378864\n",
            "Epoch: 10 \tTraining Loss: 0.549504\n",
            "Epoch: 11 \tTraining Loss: 0.299296\n",
            "Epoch: 12 \tTraining Loss: 0.414404\n",
            "Epoch: 13 \tTraining Loss: 0.368662\n",
            "Epoch: 14 \tTraining Loss: 0.312172\n",
            "Epoch: 15 \tTraining Loss: 0.500068\n",
            "Epoch: 16 \tTraining Loss: 0.387024\n",
            "Epoch: 17 \tTraining Loss: 0.266171\n",
            "Epoch: 18 \tTraining Loss: 0.320377\n",
            "Epoch: 19 \tTraining Loss: 0.280252\n",
            "Epoch: 20 \tTraining Loss: 0.261606\n",
            "Epoch: 21 \tTraining Loss: 0.423972\n",
            "Epoch: 22 \tTraining Loss: 0.415334\n",
            "Epoch: 23 \tTraining Loss: 0.319456\n",
            "Epoch: 24 \tTraining Loss: 0.321670\n",
            "Epoch: 25 \tTraining Loss: 0.369517\n",
            "Epoch: 26 \tTraining Loss: 0.241732\n",
            "Epoch: 27 \tTraining Loss: 0.214143\n",
            "Epoch: 28 \tTraining Loss: 0.240679\n",
            "Epoch: 29 \tTraining Loss: 0.244190\n",
            "Epoch: 30 \tTraining Loss: 0.226630\n",
            "Epoch: 31 \tTraining Loss: 0.188941\n",
            "Epoch: 32 \tTraining Loss: 0.167199\n",
            "Epoch: 33 \tTraining Loss: 0.177272\n",
            "Epoch: 34 \tTraining Loss: 0.212699\n",
            "Epoch: 35 \tTraining Loss: 0.169175\n",
            "Epoch: 36 \tTraining Loss: 0.248136\n",
            "Epoch: 37 \tTraining Loss: 0.931702\n",
            "Epoch: 38 \tTraining Loss: 0.343532\n",
            "Epoch: 39 \tTraining Loss: 0.340590\n",
            "Epoch: 40 \tTraining Loss: 0.265531\n",
            "Epoch: 41 \tTraining Loss: 0.252838\n",
            "Epoch: 42 \tTraining Loss: 0.230556\n",
            "Epoch: 43 \tTraining Loss: 0.184341\n",
            "Epoch: 44 \tTraining Loss: 0.189534\n",
            "Epoch: 45 \tTraining Loss: 0.295366\n",
            "Epoch: 46 \tTraining Loss: 0.179152\n",
            "Epoch: 47 \tTraining Loss: 0.195146\n",
            "Epoch: 48 \tTraining Loss: 0.165926\n",
            "Epoch: 49 \tTraining Loss: 0.174729\n",
            "Epoch: 50 \tTraining Loss: 0.159166\n",
            "Epoch: 51 \tTraining Loss: 0.157641\n",
            "Epoch: 52 \tTraining Loss: 0.155713\n",
            "Epoch: 53 \tTraining Loss: 0.156652\n",
            "Epoch: 54 \tTraining Loss: 0.153425\n",
            "Epoch: 55 \tTraining Loss: 0.149272\n",
            "Epoch: 56 \tTraining Loss: 0.147717\n",
            "Epoch: 57 \tTraining Loss: 0.158312\n",
            "Epoch: 58 \tTraining Loss: 0.150484\n",
            "Epoch: 59 \tTraining Loss: 0.145354\n",
            "Epoch: 60 \tTraining Loss: 0.141888\n",
            "Epoch: 61 \tTraining Loss: 0.140751\n",
            "Epoch: 62 \tTraining Loss: 0.140824\n",
            "Epoch: 63 \tTraining Loss: 0.132773\n",
            "Epoch: 64 \tTraining Loss: 0.145191\n",
            "Epoch: 65 \tTraining Loss: 0.142036\n",
            "Epoch: 66 \tTraining Loss: 0.165396\n",
            "Epoch: 67 \tTraining Loss: 0.148887\n",
            "Epoch: 68 \tTraining Loss: 0.132197\n",
            "Epoch: 69 \tTraining Loss: 0.137301\n",
            "Epoch: 70 \tTraining Loss: 0.145083\n",
            "Epoch: 71 \tTraining Loss: 0.136894\n",
            "Epoch: 72 \tTraining Loss: 0.137582\n",
            "Epoch: 73 \tTraining Loss: 0.136875\n",
            "Epoch: 74 \tTraining Loss: 0.135120\n",
            "Epoch: 75 \tTraining Loss: 0.132047\n",
            "Epoch: 76 \tTraining Loss: 0.134368\n",
            "Epoch: 77 \tTraining Loss: 0.132163\n",
            "Epoch: 78 \tTraining Loss: 0.133896\n",
            "Epoch: 79 \tTraining Loss: 0.151681\n",
            "Epoch: 80 \tTraining Loss: 0.136251\n",
            "Epoch: 81 \tTraining Loss: 0.132474\n",
            "Epoch: 82 \tTraining Loss: 0.130916\n",
            "Epoch: 83 \tTraining Loss: 0.135784\n",
            "Epoch: 84 \tTraining Loss: 0.134619\n",
            "Epoch: 85 \tTraining Loss: 0.135209\n",
            "Epoch: 86 \tTraining Loss: 0.129200\n",
            "Epoch: 87 \tTraining Loss: 0.128698\n",
            "Epoch: 88 \tTraining Loss: 0.132135\n",
            "Epoch: 89 \tTraining Loss: 0.126296\n",
            "Epoch: 90 \tTraining Loss: 0.133497\n",
            "Epoch: 91 \tTraining Loss: 0.137410\n",
            "Epoch: 92 \tTraining Loss: 0.132484\n",
            "Epoch: 93 \tTraining Loss: 0.126934\n",
            "Epoch: 94 \tTraining Loss: 0.128878\n",
            "Epoch: 95 \tTraining Loss: 0.129483\n",
            "Epoch: 96 \tTraining Loss: 0.129318\n",
            "Epoch: 97 \tTraining Loss: 0.128440\n",
            "Epoch: 98 \tTraining Loss: 0.127220\n",
            "Epoch: 99 \tTraining Loss: 0.128299\n",
            "Epoch: 100 \tTraining Loss: 0.129301\n",
            "Epoch: 101 \tTraining Loss: 0.124907\n",
            "Epoch: 102 \tTraining Loss: 0.126415\n",
            "Epoch: 103 \tTraining Loss: 0.122164\n",
            "Epoch: 104 \tTraining Loss: 0.125692\n",
            "Epoch: 105 \tTraining Loss: 0.124679\n",
            "Epoch: 106 \tTraining Loss: 0.122856\n",
            "Epoch: 107 \tTraining Loss: 0.126324\n",
            "Epoch: 108 \tTraining Loss: 0.121371\n",
            "Epoch: 109 \tTraining Loss: 0.128819\n",
            "Epoch: 110 \tTraining Loss: 0.125599\n",
            "Epoch: 111 \tTraining Loss: 0.126570\n",
            "Epoch: 112 \tTraining Loss: 0.122466\n",
            "Epoch: 113 \tTraining Loss: 0.127348\n",
            "Epoch: 114 \tTraining Loss: 0.126150\n",
            "Epoch: 115 \tTraining Loss: 0.122820\n",
            "Epoch: 116 \tTraining Loss: 0.121393\n",
            "Epoch: 117 \tTraining Loss: 0.120713\n",
            "Epoch: 118 \tTraining Loss: 0.124859\n",
            "Epoch: 119 \tTraining Loss: 0.121855\n",
            "Epoch: 120 \tTraining Loss: 0.122228\n",
            "Epoch: 121 \tTraining Loss: 0.122789\n",
            "Epoch: 122 \tTraining Loss: 0.121936\n",
            "Epoch: 123 \tTraining Loss: 0.120064\n",
            "Epoch: 124 \tTraining Loss: 0.123097\n",
            "Epoch: 125 \tTraining Loss: 0.121027\n",
            "Epoch: 126 \tTraining Loss: 0.122147\n",
            "Epoch: 127 \tTraining Loss: 0.121512\n",
            "Epoch: 128 \tTraining Loss: 0.122446\n",
            "Epoch: 129 \tTraining Loss: 0.122408\n",
            "Epoch: 130 \tTraining Loss: 0.119651\n",
            "Epoch: 131 \tTraining Loss: 0.121426\n",
            "Epoch: 132 \tTraining Loss: 0.124072\n",
            "Epoch: 133 \tTraining Loss: 0.119498\n",
            "Epoch: 134 \tTraining Loss: 0.120898\n",
            "Epoch: 135 \tTraining Loss: 0.124319\n",
            "Epoch: 136 \tTraining Loss: 0.119376\n",
            "Epoch: 137 \tTraining Loss: 0.121044\n",
            "Epoch: 138 \tTraining Loss: 0.119992\n",
            "Epoch: 139 \tTraining Loss: 0.119379\n",
            "Epoch: 140 \tTraining Loss: 0.125453\n",
            "Epoch: 141 \tTraining Loss: 0.127946\n",
            "Epoch: 142 \tTraining Loss: 0.119781\n",
            "Epoch: 143 \tTraining Loss: 0.120955\n",
            "Epoch: 144 \tTraining Loss: 0.118903\n",
            "Epoch: 145 \tTraining Loss: 0.122864\n",
            "Epoch: 146 \tTraining Loss: 0.118974\n",
            "Epoch: 147 \tTraining Loss: 0.122577\n",
            "Epoch: 148 \tTraining Loss: 0.118703\n",
            "Epoch: 149 \tTraining Loss: 0.118952\n",
            "Epoch: 150 \tTraining Loss: 0.118905\n",
            "Epoch: 151 \tTraining Loss: 0.117826\n",
            "Epoch: 152 \tTraining Loss: 0.119230\n",
            "Epoch: 153 \tTraining Loss: 0.119851\n",
            "Epoch: 154 \tTraining Loss: 0.118849\n",
            "Epoch: 155 \tTraining Loss: 0.117621\n",
            "Epoch: 156 \tTraining Loss: 0.118352\n",
            "Epoch: 157 \tTraining Loss: 0.118048\n",
            "Epoch: 158 \tTraining Loss: 0.118568\n",
            "Epoch: 159 \tTraining Loss: 0.118830\n",
            "Epoch: 160 \tTraining Loss: 0.120094\n",
            "Epoch: 161 \tTraining Loss: 0.117984\n",
            "Epoch: 162 \tTraining Loss: 0.117605\n",
            "Epoch: 163 \tTraining Loss: 0.117901\n",
            "Epoch: 164 \tTraining Loss: 0.117482\n",
            "Epoch: 165 \tTraining Loss: 0.118353\n",
            "Epoch: 166 \tTraining Loss: 0.118695\n",
            "Epoch: 167 \tTraining Loss: 0.117584\n",
            "Epoch: 168 \tTraining Loss: 0.118004\n",
            "Epoch: 169 \tTraining Loss: 0.117921\n",
            "Epoch: 170 \tTraining Loss: 0.116643\n",
            "Epoch: 171 \tTraining Loss: 0.117463\n",
            "Epoch: 172 \tTraining Loss: 0.117241\n",
            "Epoch: 173 \tTraining Loss: 0.117716\n",
            "Epoch: 174 \tTraining Loss: 0.118200\n",
            "Epoch: 175 \tTraining Loss: 0.119082\n",
            "Epoch: 176 \tTraining Loss: 0.117635\n",
            "Epoch: 177 \tTraining Loss: 0.117176\n",
            "Epoch: 178 \tTraining Loss: 0.117341\n",
            "Epoch: 179 \tTraining Loss: 0.117382\n",
            "Epoch: 180 \tTraining Loss: 0.117543\n",
            "Epoch: 181 \tTraining Loss: 0.117775\n",
            "Epoch: 182 \tTraining Loss: 0.117518\n",
            "Epoch: 183 \tTraining Loss: 0.118012\n",
            "Epoch: 184 \tTraining Loss: 0.116895\n",
            "Epoch: 185 \tTraining Loss: 0.116226\n",
            "Epoch: 186 \tTraining Loss: 0.116281\n",
            "Epoch: 187 \tTraining Loss: 0.116012\n",
            "Epoch: 188 \tTraining Loss: 0.116265\n",
            "Epoch: 189 \tTraining Loss: 0.117039\n",
            "Epoch: 190 \tTraining Loss: 0.116865\n",
            "Epoch: 191 \tTraining Loss: 0.116853\n",
            "Epoch: 192 \tTraining Loss: 0.116681\n",
            "Epoch: 193 \tTraining Loss: 0.116409\n",
            "Epoch: 194 \tTraining Loss: 0.118370\n",
            "Epoch: 195 \tTraining Loss: 0.118772\n",
            "Epoch: 196 \tTraining Loss: 0.116607\n",
            "Epoch: 197 \tTraining Loss: 0.116691\n",
            "Epoch: 198 \tTraining Loss: 0.116332\n",
            "Epoch: 199 \tTraining Loss: 0.116404\n",
            "Epoch: 200 \tTraining Loss: 0.116205\n",
            "Epoch: 201 \tTraining Loss: 0.116992\n",
            "Epoch: 202 \tTraining Loss: 0.116752\n",
            "Epoch: 203 \tTraining Loss: 0.116722\n",
            "Epoch: 204 \tTraining Loss: 0.115503\n",
            "Epoch: 205 \tTraining Loss: 0.116314\n",
            "Epoch: 206 \tTraining Loss: 0.115806\n",
            "Epoch: 207 \tTraining Loss: 0.116105\n",
            "Epoch: 208 \tTraining Loss: 0.115491\n",
            "Epoch: 209 \tTraining Loss: 0.116139\n",
            "Epoch: 210 \tTraining Loss: 0.115520\n",
            "Epoch: 211 \tTraining Loss: 0.115526\n",
            "Epoch: 212 \tTraining Loss: 0.116050\n",
            "Epoch: 213 \tTraining Loss: 0.116618\n",
            "Epoch: 214 \tTraining Loss: 0.116469\n",
            "Epoch: 215 \tTraining Loss: 0.115610\n",
            "Epoch: 216 \tTraining Loss: 0.116413\n",
            "Epoch: 217 \tTraining Loss: 0.115751\n",
            "Epoch: 218 \tTraining Loss: 0.114784\n",
            "Epoch: 219 \tTraining Loss: 0.115335\n",
            "Epoch: 220 \tTraining Loss: 0.115242\n",
            "Epoch: 221 \tTraining Loss: 0.115309\n",
            "Epoch: 222 \tTraining Loss: 0.114805\n",
            "Epoch: 223 \tTraining Loss: 0.115068\n",
            "Epoch: 224 \tTraining Loss: 0.115163\n",
            "Epoch: 225 \tTraining Loss: 0.115905\n",
            "Epoch: 226 \tTraining Loss: 0.116119\n",
            "Epoch: 227 \tTraining Loss: 0.115641\n",
            "Epoch: 228 \tTraining Loss: 0.114833\n",
            "Epoch: 229 \tTraining Loss: 0.114937\n",
            "Epoch: 230 \tTraining Loss: 0.114674\n",
            "Epoch: 231 \tTraining Loss: 0.115104\n",
            "Epoch: 232 \tTraining Loss: 0.114662\n",
            "Epoch: 233 \tTraining Loss: 0.115085\n",
            "Epoch: 234 \tTraining Loss: 0.114971\n",
            "Epoch: 235 \tTraining Loss: 0.114777\n",
            "Epoch: 236 \tTraining Loss: 0.114394\n",
            "Epoch: 237 \tTraining Loss: 0.114890\n",
            "Epoch: 238 \tTraining Loss: 0.114927\n",
            "Epoch: 239 \tTraining Loss: 0.114383\n",
            "Epoch: 240 \tTraining Loss: 0.114970\n",
            "Epoch: 241 \tTraining Loss: 0.115071\n",
            "Epoch: 242 \tTraining Loss: 0.114024\n",
            "Epoch: 243 \tTraining Loss: 0.114386\n",
            "Epoch: 244 \tTraining Loss: 0.114775\n",
            "Epoch: 245 \tTraining Loss: 0.114847\n",
            "Epoch: 246 \tTraining Loss: 0.114335\n",
            "Epoch: 247 \tTraining Loss: 0.114473\n",
            "Epoch: 248 \tTraining Loss: 0.114204\n",
            "Epoch: 249 \tTraining Loss: 0.114782\n",
            "Epoch: 250 \tTraining Loss: 0.114248\n",
            "Epoch: 251 \tTraining Loss: 0.114381\n",
            "Epoch: 252 \tTraining Loss: 0.114406\n",
            "Epoch: 253 \tTraining Loss: 0.114351\n",
            "Epoch: 254 \tTraining Loss: 0.114145\n",
            "Epoch: 255 \tTraining Loss: 0.114882\n",
            "Epoch: 256 \tTraining Loss: 0.114402\n",
            "Epoch: 257 \tTraining Loss: 0.114397\n",
            "Epoch: 258 \tTraining Loss: 0.114479\n",
            "Epoch: 259 \tTraining Loss: 0.114293\n",
            "Epoch: 260 \tTraining Loss: 0.114006\n",
            "Epoch: 261 \tTraining Loss: 0.114684\n",
            "Epoch: 262 \tTraining Loss: 0.114290\n",
            "Epoch: 263 \tTraining Loss: 0.114408\n",
            "Epoch: 264 \tTraining Loss: 0.114143\n",
            "Epoch: 265 \tTraining Loss: 0.114247\n",
            "Epoch: 266 \tTraining Loss: 0.113981\n",
            "Epoch: 267 \tTraining Loss: 0.113885\n",
            "Epoch: 268 \tTraining Loss: 0.113972\n",
            "Epoch: 269 \tTraining Loss: 0.113907\n",
            "Epoch: 270 \tTraining Loss: 0.113838\n",
            "Epoch: 271 \tTraining Loss: 0.113887\n",
            "Epoch: 272 \tTraining Loss: 0.114075\n",
            "Epoch: 273 \tTraining Loss: 0.114013\n",
            "Epoch: 274 \tTraining Loss: 0.113795\n",
            "Epoch: 275 \tTraining Loss: 0.113855\n",
            "Epoch: 276 \tTraining Loss: 0.114056\n",
            "Epoch: 277 \tTraining Loss: 0.113809\n",
            "Epoch: 278 \tTraining Loss: 0.113840\n",
            "Epoch: 279 \tTraining Loss: 0.114014\n",
            "Epoch: 280 \tTraining Loss: 0.114178\n",
            "Epoch: 281 \tTraining Loss: 0.113672\n",
            "Epoch: 282 \tTraining Loss: 0.113726\n",
            "Epoch: 283 \tTraining Loss: 0.113888\n",
            "Epoch: 284 \tTraining Loss: 0.113461\n",
            "Epoch: 285 \tTraining Loss: 0.113718\n",
            "Epoch: 286 \tTraining Loss: 0.114137\n",
            "Epoch: 287 \tTraining Loss: 0.114053\n",
            "Epoch: 288 \tTraining Loss: 0.114041\n",
            "Epoch: 289 \tTraining Loss: 0.114018\n",
            "Epoch: 290 \tTraining Loss: 0.114067\n",
            "Epoch: 291 \tTraining Loss: 0.113774\n",
            "Epoch: 292 \tTraining Loss: 0.113887\n",
            "Epoch: 293 \tTraining Loss: 0.113882\n",
            "Epoch: 294 \tTraining Loss: 0.113673\n",
            "Epoch: 295 \tTraining Loss: 0.113925\n",
            "Epoch: 296 \tTraining Loss: 0.113677\n",
            "Epoch: 297 \tTraining Loss: 0.113748\n",
            "Epoch: 298 \tTraining Loss: 0.113571\n",
            "Epoch: 299 \tTraining Loss: 0.113603\n",
            "Epoch: 300 \tTraining Loss: 0.113468\n"
          ]
        }
      ]
    },
    {
      "cell_type": "code",
      "source": [
        "from sklearn import metrics\n",
        "\n",
        "model.eval() # prep model for training\n",
        "mlp_labels=[]\n",
        "mlp_targets=[]\n",
        "    # monitor training loss\n",
        "val_loss = 0.0\n",
        "\n",
        "for data, target in val_loader:\n",
        "    output = model(data)\n",
        "    p_label = torch.argmax(output,dim=1)\n",
        "    target = (target - 1)\n",
        "    loss = criterion(output, target)\n",
        "    val_loss += loss.item()*data.size(0)\n",
        "    mlp_labels+=p_label\n",
        "    mlp_targets+=target\n",
        "# calculate average loss over an epoch\n",
        "val_loss = val_loss/len(val_loader.dataset)\n",
        "f1 = metrics.f1_score(mlp_targets, mlp_labels, average='weighted')\n",
        "print(f'f1 = {f1}')\n",
        "print('Epoch: {} \\tTest Loss: {:.6f}'.format(\n",
        "    epoch+1,\n",
        "    val_loss\n",
        "    ))"
      ],
      "metadata": {
        "colab": {
          "base_uri": "https://localhost:8080/"
        },
        "outputId": "0f5239c1-6ded-48df-aa29-f71b910bc385",
        "id": "idPbad9z29dS"
      },
      "execution_count": 270,
      "outputs": [
        {
          "output_type": "stream",
          "name": "stdout",
          "text": [
            "f1 = 0.9272727272727274\n",
            "Epoch: 300 \tTest Loss: 0.316254\n"
          ]
        }
      ]
    },
    {
      "cell_type": "markdown",
      "metadata": {
        "id": "XWwVSQ4z-50x"
      },
      "source": [
        "## USPS  Data\n",
        "map_size = (4, 4),\n",
        "class_num = 10\n",
        "\n"
      ]
    },
    {
      "cell_type": "markdown",
      "source": [
        "Choose data"
      ],
      "metadata": {
        "id": "_df_nNCJ-503"
      }
    },
    {
      "cell_type": "code",
      "source": [
        "data = USPS['X']\n",
        "labels = USPS['Y']\n",
        "# n_class = ids2['class_num']\n",
        "data.shape"
      ],
      "metadata": {
        "colab": {
          "base_uri": "https://localhost:8080/"
        },
        "outputId": "0c955bbd-015c-4f9a-8eab-9f30a2d74051",
        "id": "j3Y1nqGc-504"
      },
      "execution_count": 271,
      "outputs": [
        {
          "output_type": "execute_result",
          "data": {
            "text/plain": [
              "(9298, 256)"
            ]
          },
          "metadata": {},
          "execution_count": 271
        }
      ]
    },
    {
      "cell_type": "code",
      "source": [
        "true_labels = labels.reshape(-1)"
      ],
      "metadata": {
        "id": "nL8nZJaL-504"
      },
      "execution_count": 272,
      "outputs": []
    },
    {
      "cell_type": "code",
      "source": [
        "from sklearn import metrics\n",
        "\n",
        "input_size = data.shape[1]\n",
        "# Define SOM parameters\n",
        "map_size = (4, 4)\n",
        "learning_rate = 0.1\n",
        "num_epochs = 10000\n",
        "\n",
        "# Create and initialize the SOM\n",
        "som = MiniSom(map_size[0], map_size[1], input_size,topology='hexagonal', sigma=1.0, learning_rate=learning_rate)\n",
        "\n",
        "# Train the SOM\n",
        "som.train_random(data, num_epochs)\n",
        "\n",
        "# Get the cluster assignments for each data point\n",
        "cluster_assignments = np.array([som.winner(sample) for sample in data])\n",
        "\n",
        "# # Reshape the cluster assignments for compatibility with sklearn metrics\n",
        "# cluster_assignments_flat = cluster_assignments[:, 0] * map_size[1] + cluster_assignments[:, 1] +1\n",
        "\n",
        "# clusters = np.unique(cluster_assignments_flat)\n",
        "# mapped_labels = np.zeros_like(cluster_assignments_flat)\n",
        "# map = {cluster: np.argmax(np.bincount(true_labels[np.where(cluster_assignments_flat == cluster)[0]].flatten())) for cluster in clusters}\n",
        "\n",
        "# mapped_labels = np.array([map[cluster] for cluster in cluster_assignments_flat])\n",
        "\n",
        "\n",
        "# # # Calculate F1 score\n",
        "# f1 = metrics.f1_score(true_labels, mapped_labels, average='weighted')\n",
        "\n",
        "# # Calculate Normalized Mutual Information (NMI)\n",
        "# nmi = metrics.normalized_mutual_info_score(true_labels, mapped_labels)\n",
        "\n",
        "# # Print the results\n",
        "# print(f\"F1 Score: {f1}\")\n",
        "# print(f\"Normalized Mutual Information (NMI): {nmi}\")\n"
      ],
      "metadata": {
        "id": "St8Ea5Qn-504"
      },
      "execution_count": 273,
      "outputs": []
    },
    {
      "cell_type": "code",
      "source": [
        "data1 = cluster_assignments\n",
        "labels = USPS['Y']\n",
        "# n_class = ids2['class_num']\n",
        "data1.shape"
      ],
      "metadata": {
        "colab": {
          "base_uri": "https://localhost:8080/"
        },
        "outputId": "cdfb49d9-cf9c-4666-ac20-66b9e7280d0d",
        "id": "wVjHwGiX-504"
      },
      "execution_count": 274,
      "outputs": [
        {
          "output_type": "execute_result",
          "data": {
            "text/plain": [
              "(9298, 2)"
            ]
          },
          "metadata": {},
          "execution_count": 274
        }
      ]
    },
    {
      "cell_type": "code",
      "source": [
        "true_labels = labels.reshape(-1)"
      ],
      "metadata": {
        "id": "TmugD0dx-504"
      },
      "execution_count": 275,
      "outputs": []
    },
    {
      "cell_type": "code",
      "source": [
        "from torch.utils.data import TensorDataset, DataLoader, random_split\n",
        "\n",
        "input_tensor = torch.tensor(data1, dtype=torch.float32)\n",
        "label_tensor = torch.tensor(true_labels, dtype=torch.long)  # Assuming labels are integers\n",
        "\n",
        "# Create a TensorDataset\n",
        "dataset = TensorDataset(input_tensor, label_tensor)\n",
        "\n",
        "torch.manual_seed(42)\n",
        "\n",
        "# Shuffle the dataset\n",
        "shuffled_dataset = torch.utils.data.random_split(dataset, [int(len(dataset)*0.8), len(dataset) - int(len(dataset)*0.8)])\n",
        "\n",
        "# Split into training and validation sets8 (0% train, 20% validation)\n",
        "train_dataset, val_dataset = shuffled_dataset\n",
        "\n",
        "# Create DataLoaders for training and validation\n",
        "batch_size = 8\n",
        "train_loader = DataLoader(train_dataset, batch_size=batch_size, shuffle=True)\n",
        "val_loader = DataLoader(val_dataset, batch_size=batch_size, shuffle=False)\n",
        "\n",
        "\n",
        "\n",
        "\n",
        "# dataset = torch.utils.data.TensorDataset(torch.tensor(data1),torch.tensor(labels))\n",
        "# dataset = torch.cat((a, b))\n",
        "# print(dataset)"
      ],
      "metadata": {
        "id": "BwHESin9-504"
      },
      "execution_count": 276,
      "outputs": []
    },
    {
      "cell_type": "code",
      "source": [
        "model = nn.Sequential(\n",
        "    nn.Linear(data1.shape[1], 4096),\n",
        "    nn.ReLU(),\n",
        "    nn.Linear(4096, 1024),\n",
        "    nn.ReLU(),\n",
        "    nn.Linear(1024, 512),\n",
        "    nn.ReLU(),\n",
        "    nn.Linear(512, 256),\n",
        "    nn.ReLU(),\n",
        "    nn.Linear(256, 64),\n",
        "    nn.ReLU(),\n",
        "    # nn.Linear(128, 64),\n",
        "    # nn.ReLU(),\n",
        "    # nn.Linear(64, 32),\n",
        "    # nn.ReLU(),\n",
        "    # nn.Linear(32, 16),\n",
        "    # nn.ReLU(),\n",
        "    # nn.Linear(16, 8),\n",
        "    # nn.ReLU(),\n",
        "    nn.Linear(64, 10),\n",
        ")"
      ],
      "metadata": {
        "id": "0iWpleG5-505"
      },
      "execution_count": 277,
      "outputs": []
    },
    {
      "cell_type": "code",
      "source": [
        "criterion = nn.CrossEntropyLoss()\n",
        "\n",
        "# specify optimizer\n",
        "optimizer = torch.optim.SGD(model.parameters(), lr=0.05, momentum= 0.4)\n",
        "scheduler = torch.optim.lr_scheduler.ExponentialLR(optimizer, gamma=0.9)\n"
      ],
      "metadata": {
        "id": "kkaNjp2e-505"
      },
      "execution_count": 278,
      "outputs": []
    },
    {
      "cell_type": "code",
      "source": [
        "n_epochs = 50\n",
        "model.train() # prep model for training\n",
        "for epoch in range(n_epochs):\n",
        "    train_loss = 0.0\n",
        "    for data, target in train_loader:\n",
        "\n",
        "        optimizer.zero_grad()\n",
        "        # forward pass: compute predicted outputs by passing inputs to the model\n",
        "        output = model(data)\n",
        "        # calculate the loss\n",
        "        target = (target - 1)\n",
        "\n",
        "        loss = criterion(output, target)\n",
        "        # backward pass: compute gradient of the loss with respect to model parameters\n",
        "        loss.backward()\n",
        "        # perform a single optimization step (parameter update)\n",
        "        optimizer.step()\n",
        "        # update running training loss\n",
        "        train_loss += loss.item()*data.size(0)\n",
        "    if epoch % 8 == 0:\n",
        "      scheduler.step()\n",
        "    # calculate average loss over an epoch\n",
        "    train_loss = train_loss/len(train_loader.dataset)\n",
        "\n",
        "    print('Epoch: {} \\tTraining Loss: {:.6f}'.format(\n",
        "        epoch+1,\n",
        "        train_loss\n",
        "        ))"
      ],
      "metadata": {
        "colab": {
          "base_uri": "https://localhost:8080/"
        },
        "outputId": "1547630a-b27a-4253-da4a-46d08ab29736",
        "id": "jFJN-SuL-505"
      },
      "execution_count": 279,
      "outputs": [
        {
          "output_type": "stream",
          "name": "stdout",
          "text": [
            "Epoch: 1 \tTraining Loss: 1.249030\n",
            "Epoch: 2 \tTraining Loss: 0.926321\n",
            "Epoch: 3 \tTraining Loss: 0.858926\n",
            "Epoch: 4 \tTraining Loss: 0.859904\n",
            "Epoch: 5 \tTraining Loss: 0.840154\n",
            "Epoch: 6 \tTraining Loss: 0.830872\n",
            "Epoch: 7 \tTraining Loss: 0.821891\n",
            "Epoch: 8 \tTraining Loss: 0.807478\n",
            "Epoch: 9 \tTraining Loss: 0.802716\n",
            "Epoch: 10 \tTraining Loss: 0.799157\n",
            "Epoch: 11 \tTraining Loss: 0.792226\n",
            "Epoch: 12 \tTraining Loss: 0.788358\n",
            "Epoch: 13 \tTraining Loss: 0.804390\n",
            "Epoch: 14 \tTraining Loss: 0.793885\n",
            "Epoch: 15 \tTraining Loss: 0.790684\n",
            "Epoch: 16 \tTraining Loss: 0.781638\n",
            "Epoch: 17 \tTraining Loss: 0.787875\n",
            "Epoch: 18 \tTraining Loss: 0.778273\n",
            "Epoch: 19 \tTraining Loss: 0.783243\n",
            "Epoch: 20 \tTraining Loss: 0.779114\n",
            "Epoch: 21 \tTraining Loss: 0.775044\n",
            "Epoch: 22 \tTraining Loss: 0.777780\n",
            "Epoch: 23 \tTraining Loss: 0.776176\n",
            "Epoch: 24 \tTraining Loss: 0.780839\n",
            "Epoch: 25 \tTraining Loss: 0.773880\n",
            "Epoch: 26 \tTraining Loss: 0.771176\n",
            "Epoch: 27 \tTraining Loss: 0.771804\n",
            "Epoch: 28 \tTraining Loss: 0.769894\n",
            "Epoch: 29 \tTraining Loss: 0.777433\n",
            "Epoch: 30 \tTraining Loss: 0.773533\n",
            "Epoch: 31 \tTraining Loss: 0.770881\n",
            "Epoch: 32 \tTraining Loss: 0.770920\n",
            "Epoch: 33 \tTraining Loss: 0.768487\n",
            "Epoch: 34 \tTraining Loss: 0.767734\n",
            "Epoch: 35 \tTraining Loss: 0.767748\n",
            "Epoch: 36 \tTraining Loss: 0.766640\n",
            "Epoch: 37 \tTraining Loss: 0.766843\n",
            "Epoch: 38 \tTraining Loss: 0.766426\n",
            "Epoch: 39 \tTraining Loss: 0.765434\n",
            "Epoch: 40 \tTraining Loss: 0.766517\n",
            "Epoch: 41 \tTraining Loss: 0.765627\n",
            "Epoch: 42 \tTraining Loss: 0.766142\n",
            "Epoch: 43 \tTraining Loss: 0.764465\n",
            "Epoch: 44 \tTraining Loss: 0.765633\n",
            "Epoch: 45 \tTraining Loss: 0.765908\n",
            "Epoch: 46 \tTraining Loss: 0.764630\n",
            "Epoch: 47 \tTraining Loss: 0.774840\n",
            "Epoch: 48 \tTraining Loss: 0.764393\n",
            "Epoch: 49 \tTraining Loss: 0.765851\n",
            "Epoch: 50 \tTraining Loss: 0.763765\n"
          ]
        }
      ]
    },
    {
      "cell_type": "code",
      "source": [
        "from sklearn import metrics\n",
        "\n",
        "model.eval() # prep model for training\n",
        "mlp_labels=[]\n",
        "mlp_targets=[]\n",
        "    # monitor training loss\n",
        "val_loss = 0.0\n",
        "\n",
        "for data, target in val_loader:\n",
        "    output = model(data)\n",
        "    p_label = torch.argmax(output,dim=1)\n",
        "    target = (target - 1)\n",
        "    loss = criterion(output, target)\n",
        "    val_loss += loss.item()*data.size(0)\n",
        "    mlp_labels+=p_label\n",
        "    mlp_targets+=target\n",
        "# calculate average loss over an epoch\n",
        "val_loss = val_loss/len(val_loader.dataset)\n",
        "f1 = metrics.f1_score(mlp_targets, mlp_labels, average='weighted')\n",
        "print(f'f1 = {f1}')\n",
        "print('Epoch: {} \\tTest Loss: {:.6f}'.format(\n",
        "    epoch+1,\n",
        "    val_loss\n",
        "    ))"
      ],
      "metadata": {
        "colab": {
          "base_uri": "https://localhost:8080/"
        },
        "outputId": "9f7b593a-07c8-4d34-93a1-9a612ac346a9",
        "id": "lIqU8Vuu-505"
      },
      "execution_count": 280,
      "outputs": [
        {
          "output_type": "stream",
          "name": "stdout",
          "text": [
            "f1 = 0.7321713342360127\n",
            "Epoch: 50 \tTest Loss: 0.761219\n"
          ]
        }
      ]
    }
  ],
  "metadata": {
    "colab": {
      "provenance": [],
      "collapsed_sections": [
        "aQRGn10ph9-0",
        "WDdJFcJpglpw",
        "o2eR4EKOXwez",
        "cuUP68r5Uy5U",
        "Rd5RK-yUJxaj",
        "DIIG-zy5KIVQ",
        "UvSNxIMlKe79",
        "y_w9DwqbK4eX",
        "_FVbeetLK9CJ",
        "iwFIYBBeL6j_",
        "rtu9VASxMPBc",
        "7eFAVAi2MPBj",
        "Ez73LTi5MyMF",
        "pKsp8DsiMyMN",
        "9gIbVRAmMyMN",
        "fUERK3DgNlSB",
        "mojYzDLjNlSJ",
        "jhbJ33YqNlSJ",
        "BT1sRVlUm2ae",
        "KBTFTWgHWQQo",
        "Bdh4aPOiWQQp",
        "agp0b1wgWQQp",
        "zPWXKJ-PWQQq",
        "NLkXCq4IWQQr",
        "UQ3pcUWLWQQt",
        "2_ZPuVaNWQQt",
        "jc9x_O53WQQu",
        "7trsbwUVWQQv",
        "W0Kjc7HCWQQv",
        "uNzvSbGJWQQw",
        "kEErxWedWQQw",
        "Lwu29-fAWQQx",
        "R5-GkqXfWQQx",
        "aNES9fvWWQQy",
        "JkapRNZc8T4_",
        "jRvzfArZABaC",
        "yrfQxaZuQ_Cu",
        "dOLtfztkAf0D",
        "KQneB-9NAf0E",
        "zcgizx7XAf0E",
        "sQ7-dHOLAf0F",
        "_PcQ-rR4Tt-S",
        "PM-Uzo299dOY",
        "XWwVSQ4z-50x"
      ],
      "include_colab_link": true
    },
    "kernelspec": {
      "display_name": "Python 3",
      "name": "python3"
    },
    "language_info": {
      "name": "python"
    }
  },
  "nbformat": 4,
  "nbformat_minor": 0
}